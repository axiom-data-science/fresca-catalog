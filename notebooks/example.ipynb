{
 "cells": [
  {
   "cell_type": "markdown",
   "id": "c378513d",
   "metadata": {},
   "source": [
    "# Catalog exploration example"
   ]
  },
  {
   "cell_type": "code",
   "execution_count": 1,
   "id": "6535d90c",
   "metadata": {},
   "outputs": [],
   "source": [
    "import sys\n",
    "sys.path.append('..')"
   ]
  },
  {
   "cell_type": "code",
   "execution_count": 2,
   "id": "43df3c34-5622-4267-9cb7-e124903f812a",
   "metadata": {},
   "outputs": [
    {
     "data": {
      "text/html": [
       "<script type=\"esms-options\">{\"shimMode\": true}</script><style>*[data-root-id],\n",
       "*[data-root-id] > * {\n",
       "  box-sizing: border-box;\n",
       "  font-family: var(--jp-ui-font-family);\n",
       "  font-size: var(--jp-ui-font-size1);\n",
       "  color: var(--vscode-editor-foreground, var(--jp-ui-font-color1));\n",
       "}\n",
       "\n",
       "/* Override VSCode background color */\n",
       ".cell-output-ipywidget-background:has(\n",
       "  > .cell-output-ipywidget-background > .lm-Widget > *[data-root-id]\n",
       "),\n",
       ".cell-output-ipywidget-background:has(> .lm-Widget > *[data-root-id]) {\n",
       "  background-color: transparent !important;\n",
       "}\n",
       "</style>"
      ]
     },
     "metadata": {},
     "output_type": "display_data"
    },
    {
     "data": {
      "application/javascript": "(function(root) {\n  function now() {\n    return new Date();\n  }\n\n  const force = true;\n  const py_version = '3.7.3'.replace('rc', '-rc.').replace('.dev', '-dev.');\n  const reloading = false;\n  const Bokeh = root.Bokeh;\n\n  // Set a timeout for this load but only if we are not already initializing\n  if (typeof (root._bokeh_timeout) === \"undefined\" || (force || !root._bokeh_is_initializing)) {\n    root._bokeh_timeout = Date.now() + 5000;\n    root._bokeh_failed_load = false;\n  }\n\n  function run_callbacks() {\n    try {\n      root._bokeh_onload_callbacks.forEach(function(callback) {\n        if (callback != null)\n          callback();\n      });\n    } finally {\n      delete root._bokeh_onload_callbacks;\n    }\n    console.debug(\"Bokeh: all callbacks have finished\");\n  }\n\n  function load_libs(css_urls, js_urls, js_modules, js_exports, callback) {\n    if (css_urls == null) css_urls = [];\n    if (js_urls == null) js_urls = [];\n    if (js_modules == null) js_modules = [];\n    if (js_exports == null) js_exports = {};\n\n    root._bokeh_onload_callbacks.push(callback);\n\n    if (root._bokeh_is_loading > 0) {\n      // Don't load bokeh if it is still initializing\n      console.debug(\"Bokeh: BokehJS is being loaded, scheduling callback at\", now());\n      return null;\n    } else if (js_urls.length === 0 && js_modules.length === 0 && Object.keys(js_exports).length === 0) {\n      // There is nothing to load\n      run_callbacks();\n      return null;\n    }\n\n    function on_load() {\n      root._bokeh_is_loading--;\n      if (root._bokeh_is_loading === 0) {\n        console.debug(\"Bokeh: all BokehJS libraries/stylesheets loaded\");\n        run_callbacks()\n      }\n    }\n    window._bokeh_on_load = on_load\n\n    function on_error(e) {\n      const src_el = e.srcElement\n      console.error(\"failed to load \" + (src_el.href || src_el.src));\n    }\n\n    const skip = [];\n    if (window.requirejs) {\n      window.requirejs.config({'packages': {}, 'paths': {}, 'shim': {}});\n      root._bokeh_is_loading = css_urls.length + 0;\n    } else {\n      root._bokeh_is_loading = css_urls.length + js_urls.length + js_modules.length + Object.keys(js_exports).length;\n    }\n\n    const existing_stylesheets = []\n    const links = document.getElementsByTagName('link')\n    for (let i = 0; i < links.length; i++) {\n      const link = links[i]\n      if (link.href != null) {\n        existing_stylesheets.push(link.href)\n      }\n    }\n    for (let i = 0; i < css_urls.length; i++) {\n      const url = css_urls[i];\n      const escaped = encodeURI(url)\n      if (existing_stylesheets.indexOf(escaped) !== -1) {\n        on_load()\n        continue;\n      }\n      const element = document.createElement(\"link\");\n      element.onload = on_load;\n      element.onerror = on_error;\n      element.rel = \"stylesheet\";\n      element.type = \"text/css\";\n      element.href = url;\n      console.debug(\"Bokeh: injecting link tag for BokehJS stylesheet: \", url);\n      document.body.appendChild(element);\n    }    var existing_scripts = []\n    const scripts = document.getElementsByTagName('script')\n    for (let i = 0; i < scripts.length; i++) {\n      var script = scripts[i]\n      if (script.src != null) {\n        existing_scripts.push(script.src)\n      }\n    }\n    for (let i = 0; i < js_urls.length; i++) {\n      const url = js_urls[i];\n      const escaped = encodeURI(url)\n      if (skip.indexOf(escaped) !== -1 || existing_scripts.indexOf(escaped) !== -1) {\n        if (!window.requirejs) {\n          on_load();\n        }\n        continue;\n      }\n      const element = document.createElement('script');\n      element.onload = on_load;\n      element.onerror = on_error;\n      element.async = false;\n      element.src = url;\n      console.debug(\"Bokeh: injecting script tag for BokehJS library: \", url);\n      document.head.appendChild(element);\n    }\n    for (let i = 0; i < js_modules.length; i++) {\n      const url = js_modules[i];\n      const escaped = encodeURI(url)\n      if (skip.indexOf(escaped) !== -1 || existing_scripts.indexOf(escaped) !== -1) {\n        if (!window.requirejs) {\n          on_load();\n        }\n        continue;\n      }\n      var element = document.createElement('script');\n      element.onload = on_load;\n      element.onerror = on_error;\n      element.async = false;\n      element.src = url;\n      element.type = \"module\";\n      console.debug(\"Bokeh: injecting script tag for BokehJS library: \", url);\n      document.head.appendChild(element);\n    }\n    for (const name in js_exports) {\n      const url = js_exports[name];\n      const escaped = encodeURI(url)\n      if (skip.indexOf(escaped) >= 0 || root[name] != null) {\n        if (!window.requirejs) {\n          on_load();\n        }\n        continue;\n      }\n      var element = document.createElement('script');\n      element.onerror = on_error;\n      element.async = false;\n      element.type = \"module\";\n      console.debug(\"Bokeh: injecting script tag for BokehJS library: \", url);\n      element.textContent = `\n      import ${name} from \"${url}\"\n      window.${name} = ${name}\n      window._bokeh_on_load()\n      `\n      document.head.appendChild(element);\n    }\n    if (!js_urls.length && !js_modules.length) {\n      on_load()\n    }\n  };\n\n  function inject_raw_css(css) {\n    const element = document.createElement(\"style\");\n    element.appendChild(document.createTextNode(css));\n    document.body.appendChild(element);\n  }\n\n  const js_urls = [\"https://cdn.holoviz.org/panel/1.7.5/dist/bundled/reactiveesm/es-module-shims@^1.10.0/dist/es-module-shims.min.js\", \"https://cdn.bokeh.org/bokeh/release/bokeh-3.7.3.min.js\", \"https://cdn.bokeh.org/bokeh/release/bokeh-gl-3.7.3.min.js\", \"https://cdn.bokeh.org/bokeh/release/bokeh-widgets-3.7.3.min.js\", \"https://cdn.bokeh.org/bokeh/release/bokeh-tables-3.7.3.min.js\", \"https://cdn.holoviz.org/panel/1.7.5/dist/panel.min.js\"];\n  const js_modules = [];\n  const js_exports = {};\n  const css_urls = [];\n  const inline_js = [    function(Bokeh) {\n      Bokeh.set_log_level(\"info\");\n    },\nfunction(Bokeh) {} // ensure no trailing comma for IE\n  ];\n\n  function run_inline_js() {\n    if ((root.Bokeh !== undefined) || (force === true)) {\n      for (let i = 0; i < inline_js.length; i++) {\n        try {\n          inline_js[i].call(root, root.Bokeh);\n        } catch(e) {\n          if (!reloading) {\n            throw e;\n          }\n        }\n      }\n      // Cache old bokeh versions\n      if (Bokeh != undefined && !reloading) {\n        var NewBokeh = root.Bokeh;\n        if (Bokeh.versions === undefined) {\n          Bokeh.versions = new Map();\n        }\n        if (NewBokeh.version !== Bokeh.version) {\n          Bokeh.versions.set(NewBokeh.version, NewBokeh)\n        }\n        root.Bokeh = Bokeh;\n      }\n    } else if (Date.now() < root._bokeh_timeout) {\n      setTimeout(run_inline_js, 100);\n    } else if (!root._bokeh_failed_load) {\n      console.log(\"Bokeh: BokehJS failed to load within specified timeout.\");\n      root._bokeh_failed_load = true;\n    }\n    root._bokeh_is_initializing = false\n  }\n\n  function load_or_wait() {\n    // Implement a backoff loop that tries to ensure we do not load multiple\n    // versions of Bokeh and its dependencies at the same time.\n    // In recent versions we use the root._bokeh_is_initializing flag\n    // to determine whether there is an ongoing attempt to initialize\n    // bokeh, however for backward compatibility we also try to ensure\n    // that we do not start loading a newer (Panel>=1.0 and Bokeh>3) version\n    // before older versions are fully initialized.\n    if (root._bokeh_is_initializing && Date.now() > root._bokeh_timeout) {\n      // If the timeout and bokeh was not successfully loaded we reset\n      // everything and try loading again\n      root._bokeh_timeout = Date.now() + 5000;\n      root._bokeh_is_initializing = false;\n      root._bokeh_onload_callbacks = undefined;\n      root._bokeh_is_loading = 0\n      console.log(\"Bokeh: BokehJS was loaded multiple times but one version failed to initialize.\");\n      load_or_wait();\n    } else if (root._bokeh_is_initializing || (typeof root._bokeh_is_initializing === \"undefined\" && root._bokeh_onload_callbacks !== undefined)) {\n      setTimeout(load_or_wait, 100);\n    } else {\n      root._bokeh_is_initializing = true\n      root._bokeh_onload_callbacks = []\n      const bokeh_loaded = root.Bokeh != null && (root.Bokeh.version === py_version || (root.Bokeh.versions !== undefined && root.Bokeh.versions.has(py_version)));\n      if (!reloading && !bokeh_loaded) {\n        if (root.Bokeh) {\n          root.Bokeh = undefined;\n        }\n        console.debug(\"Bokeh: BokehJS not loaded, scheduling load and callback at\", now());\n      }\n      load_libs(css_urls, js_urls, js_modules, js_exports, function() {\n        console.debug(\"Bokeh: BokehJS plotting callback run at\", now());\n        run_inline_js();\n      });\n    }\n  }\n  // Give older versions of the autoload script a head-start to ensure\n  // they initialize before we start loading newer version.\n  setTimeout(load_or_wait, 100)\n}(window));",
      "application/vnd.holoviews_load.v0+json": ""
     },
     "metadata": {},
     "output_type": "display_data"
    },
    {
     "data": {
      "application/javascript": "\nif ((window.PyViz === undefined) || (window.PyViz instanceof HTMLElement)) {\n  window.PyViz = {comms: {}, comm_status:{}, kernels:{}, receivers: {}, plot_index: []}\n}\n\n\n    function JupyterCommManager() {\n    }\n\n    JupyterCommManager.prototype.register_target = function(plot_id, comm_id, msg_handler) {\n      if (window.comm_manager || ((window.Jupyter !== undefined) && (Jupyter.notebook.kernel != null))) {\n        var comm_manager = window.comm_manager || Jupyter.notebook.kernel.comm_manager;\n        comm_manager.register_target(comm_id, function(comm) {\n          comm.on_msg(msg_handler);\n        });\n      } else if ((plot_id in window.PyViz.kernels) && (window.PyViz.kernels[plot_id])) {\n        window.PyViz.kernels[plot_id].registerCommTarget(comm_id, function(comm) {\n          comm.onMsg = msg_handler;\n        });\n      } else if (typeof google != 'undefined' && google.colab.kernel != null) {\n        google.colab.kernel.comms.registerTarget(comm_id, (comm) => {\n          var messages = comm.messages[Symbol.asyncIterator]();\n          function processIteratorResult(result) {\n            var message = result.value;\n            var content = {data: message.data, comm_id};\n            var buffers = []\n            for (var buffer of message.buffers || []) {\n              buffers.push(new DataView(buffer))\n            }\n            var metadata = message.metadata || {};\n            var msg = {content, buffers, metadata}\n            msg_handler(msg);\n            return messages.next().then(processIteratorResult);\n          }\n          return messages.next().then(processIteratorResult);\n        })\n      }\n    }\n\n    JupyterCommManager.prototype.get_client_comm = function(plot_id, comm_id, msg_handler) {\n      if (comm_id in window.PyViz.comms) {\n        return window.PyViz.comms[comm_id];\n      } else if (window.comm_manager || ((window.Jupyter !== undefined) && (Jupyter.notebook.kernel != null))) {\n        var comm_manager = window.comm_manager || Jupyter.notebook.kernel.comm_manager;\n        var comm = comm_manager.new_comm(comm_id, {}, {}, {}, comm_id);\n        if (msg_handler) {\n          comm.on_msg(msg_handler);\n        }\n      } else if ((plot_id in window.PyViz.kernels) && (window.PyViz.kernels[plot_id])) {\n        var comm = window.PyViz.kernels[plot_id].connectToComm(comm_id);\n        let retries = 0;\n        const open = () => {\n          if (comm.active) {\n            comm.open();\n          } else if (retries > 3) {\n            console.warn('Comm target never activated')\n          } else {\n            retries += 1\n            setTimeout(open, 500)\n          }\n        }\n        if (comm.active) {\n          comm.open();\n        } else {\n          setTimeout(open, 500)\n        }\n        if (msg_handler) {\n          comm.onMsg = msg_handler;\n        }\n      } else if (typeof google != 'undefined' && google.colab.kernel != null) {\n        var comm_promise = google.colab.kernel.comms.open(comm_id)\n        comm_promise.then((comm) => {\n          window.PyViz.comms[comm_id] = comm;\n          if (msg_handler) {\n            var messages = comm.messages[Symbol.asyncIterator]();\n            function processIteratorResult(result) {\n              var message = result.value;\n              var content = {data: message.data};\n              var metadata = message.metadata || {comm_id};\n              var msg = {content, metadata}\n              msg_handler(msg);\n              return messages.next().then(processIteratorResult);\n            }\n            return messages.next().then(processIteratorResult);\n          }\n        })\n        var sendClosure = (data, metadata, buffers, disposeOnDone) => {\n          return comm_promise.then((comm) => {\n            comm.send(data, metadata, buffers, disposeOnDone);\n          });\n        };\n        var comm = {\n          send: sendClosure\n        };\n      }\n      window.PyViz.comms[comm_id] = comm;\n      return comm;\n    }\n    window.PyViz.comm_manager = new JupyterCommManager();\n    \n\n\nvar JS_MIME_TYPE = 'application/javascript';\nvar HTML_MIME_TYPE = 'text/html';\nvar EXEC_MIME_TYPE = 'application/vnd.holoviews_exec.v0+json';\nvar CLASS_NAME = 'output';\n\n/**\n * Render data to the DOM node\n */\nfunction render(props, node) {\n  var div = document.createElement(\"div\");\n  var script = document.createElement(\"script\");\n  node.appendChild(div);\n  node.appendChild(script);\n}\n\n/**\n * Handle when a new output is added\n */\nfunction handle_add_output(event, handle) {\n  var output_area = handle.output_area;\n  var output = handle.output;\n  if ((output.data == undefined) || (!output.data.hasOwnProperty(EXEC_MIME_TYPE))) {\n    return\n  }\n  var id = output.metadata[EXEC_MIME_TYPE][\"id\"];\n  var toinsert = output_area.element.find(\".\" + CLASS_NAME.split(' ')[0]);\n  if (id !== undefined) {\n    var nchildren = toinsert.length;\n    var html_node = toinsert[nchildren-1].children[0];\n    html_node.innerHTML = output.data[HTML_MIME_TYPE];\n    var scripts = [];\n    var nodelist = html_node.querySelectorAll(\"script\");\n    for (var i in nodelist) {\n      if (nodelist.hasOwnProperty(i)) {\n        scripts.push(nodelist[i])\n      }\n    }\n\n    scripts.forEach( function (oldScript) {\n      var newScript = document.createElement(\"script\");\n      var attrs = [];\n      var nodemap = oldScript.attributes;\n      for (var j in nodemap) {\n        if (nodemap.hasOwnProperty(j)) {\n          attrs.push(nodemap[j])\n        }\n      }\n      attrs.forEach(function(attr) { newScript.setAttribute(attr.name, attr.value) });\n      newScript.appendChild(document.createTextNode(oldScript.innerHTML));\n      oldScript.parentNode.replaceChild(newScript, oldScript);\n    });\n    if (JS_MIME_TYPE in output.data) {\n      toinsert[nchildren-1].children[1].textContent = output.data[JS_MIME_TYPE];\n    }\n    output_area._hv_plot_id = id;\n    if ((window.Bokeh !== undefined) && (id in Bokeh.index)) {\n      window.PyViz.plot_index[id] = Bokeh.index[id];\n    } else {\n      window.PyViz.plot_index[id] = null;\n    }\n  } else if (output.metadata[EXEC_MIME_TYPE][\"server_id\"] !== undefined) {\n    var bk_div = document.createElement(\"div\");\n    bk_div.innerHTML = output.data[HTML_MIME_TYPE];\n    var script_attrs = bk_div.children[0].attributes;\n    for (var i = 0; i < script_attrs.length; i++) {\n      toinsert[toinsert.length - 1].childNodes[1].setAttribute(script_attrs[i].name, script_attrs[i].value);\n    }\n    // store reference to server id on output_area\n    output_area._bokeh_server_id = output.metadata[EXEC_MIME_TYPE][\"server_id\"];\n  }\n}\n\n/**\n * Handle when an output is cleared or removed\n */\nfunction handle_clear_output(event, handle) {\n  var id = handle.cell.output_area._hv_plot_id;\n  var server_id = handle.cell.output_area._bokeh_server_id;\n  if (((id === undefined) || !(id in PyViz.plot_index)) && (server_id !== undefined)) { return; }\n  var comm = window.PyViz.comm_manager.get_client_comm(\"hv-extension-comm\", \"hv-extension-comm\", function () {});\n  if (server_id !== null) {\n    comm.send({event_type: 'server_delete', 'id': server_id});\n    return;\n  } else if (comm !== null) {\n    comm.send({event_type: 'delete', 'id': id});\n  }\n  delete PyViz.plot_index[id];\n  if ((window.Bokeh !== undefined) & (id in window.Bokeh.index)) {\n    var doc = window.Bokeh.index[id].model.document\n    doc.clear();\n    const i = window.Bokeh.documents.indexOf(doc);\n    if (i > -1) {\n      window.Bokeh.documents.splice(i, 1);\n    }\n  }\n}\n\n/**\n * Handle kernel restart event\n */\nfunction handle_kernel_cleanup(event, handle) {\n  delete PyViz.comms[\"hv-extension-comm\"];\n  window.PyViz.plot_index = {}\n}\n\n/**\n * Handle update_display_data messages\n */\nfunction handle_update_output(event, handle) {\n  handle_clear_output(event, {cell: {output_area: handle.output_area}})\n  handle_add_output(event, handle)\n}\n\nfunction register_renderer(events, OutputArea) {\n  function append_mime(data, metadata, element) {\n    // create a DOM node to render to\n    var toinsert = this.create_output_subarea(\n    metadata,\n    CLASS_NAME,\n    EXEC_MIME_TYPE\n    );\n    this.keyboard_manager.register_events(toinsert);\n    // Render to node\n    var props = {data: data, metadata: metadata[EXEC_MIME_TYPE]};\n    render(props, toinsert[0]);\n    element.append(toinsert);\n    return toinsert\n  }\n\n  events.on('output_added.OutputArea', handle_add_output);\n  events.on('output_updated.OutputArea', handle_update_output);\n  events.on('clear_output.CodeCell', handle_clear_output);\n  events.on('delete.Cell', handle_clear_output);\n  events.on('kernel_ready.Kernel', handle_kernel_cleanup);\n\n  OutputArea.prototype.register_mime_type(EXEC_MIME_TYPE, append_mime, {\n    safe: true,\n    index: 0\n  });\n}\n\nif (window.Jupyter !== undefined) {\n  try {\n    var events = require('base/js/events');\n    var OutputArea = require('notebook/js/outputarea').OutputArea;\n    if (OutputArea.prototype.mime_types().indexOf(EXEC_MIME_TYPE) == -1) {\n      register_renderer(events, OutputArea);\n    }\n  } catch(err) {\n  }\n}\n",
      "application/vnd.holoviews_load.v0+json": ""
     },
     "metadata": {},
     "output_type": "display_data"
    },
    {
     "data": {
      "application/vnd.holoviews_exec.v0+json": "",
      "text/html": [
       "<div id='7838c645-53db-4a80-a5f4-cc40b5dfe17d'>\n",
       "  <div id=\"a78ce867-47cf-4d55-938f-6758552e5d8d\" data-root-id=\"7838c645-53db-4a80-a5f4-cc40b5dfe17d\" style=\"display: contents;\"></div>\n",
       "</div>\n",
       "<script type=\"application/javascript\">(function(root) {\n",
       "  var docs_json = {\"c33ab2ed-b566-476f-a62b-6b2891d92bf4\":{\"version\":\"3.7.3\",\"title\":\"Bokeh Application\",\"roots\":[{\"type\":\"object\",\"name\":\"panel.models.browser.BrowserInfo\",\"id\":\"7838c645-53db-4a80-a5f4-cc40b5dfe17d\"},{\"type\":\"object\",\"name\":\"panel.models.comm_manager.CommManager\",\"id\":\"df87d095-f4fb-4f77-a410-3fd2d67734f6\",\"attributes\":{\"plot_id\":\"7838c645-53db-4a80-a5f4-cc40b5dfe17d\",\"comm_id\":\"6fb3eb51a54d45c19f06b689b765a1e8\",\"client_comm_id\":\"8074cbf70a37468cb04f910e35493df7\"}}],\"defs\":[{\"type\":\"model\",\"name\":\"ReactiveHTML1\"},{\"type\":\"model\",\"name\":\"FlexBox1\",\"properties\":[{\"name\":\"align_content\",\"kind\":\"Any\",\"default\":\"flex-start\"},{\"name\":\"align_items\",\"kind\":\"Any\",\"default\":\"flex-start\"},{\"name\":\"flex_direction\",\"kind\":\"Any\",\"default\":\"row\"},{\"name\":\"flex_wrap\",\"kind\":\"Any\",\"default\":\"wrap\"},{\"name\":\"gap\",\"kind\":\"Any\",\"default\":\"\"},{\"name\":\"justify_content\",\"kind\":\"Any\",\"default\":\"flex-start\"}]},{\"type\":\"model\",\"name\":\"FloatPanel1\",\"properties\":[{\"name\":\"config\",\"kind\":\"Any\",\"default\":{\"type\":\"map\"}},{\"name\":\"contained\",\"kind\":\"Any\",\"default\":true},{\"name\":\"position\",\"kind\":\"Any\",\"default\":\"right-top\"},{\"name\":\"offsetx\",\"kind\":\"Any\",\"default\":null},{\"name\":\"offsety\",\"kind\":\"Any\",\"default\":null},{\"name\":\"theme\",\"kind\":\"Any\",\"default\":\"primary\"},{\"name\":\"status\",\"kind\":\"Any\",\"default\":\"normalized\"}]},{\"type\":\"model\",\"name\":\"GridStack1\",\"properties\":[{\"name\":\"ncols\",\"kind\":\"Any\",\"default\":null},{\"name\":\"nrows\",\"kind\":\"Any\",\"default\":null},{\"name\":\"allow_resize\",\"kind\":\"Any\",\"default\":true},{\"name\":\"allow_drag\",\"kind\":\"Any\",\"default\":true},{\"name\":\"state\",\"kind\":\"Any\",\"default\":[]}]},{\"type\":\"model\",\"name\":\"drag1\",\"properties\":[{\"name\":\"slider_width\",\"kind\":\"Any\",\"default\":5},{\"name\":\"slider_color\",\"kind\":\"Any\",\"default\":\"black\"},{\"name\":\"value\",\"kind\":\"Any\",\"default\":50}]},{\"type\":\"model\",\"name\":\"click1\",\"properties\":[{\"name\":\"terminal_output\",\"kind\":\"Any\",\"default\":\"\"},{\"name\":\"debug_name\",\"kind\":\"Any\",\"default\":\"\"},{\"name\":\"clears\",\"kind\":\"Any\",\"default\":0}]},{\"type\":\"model\",\"name\":\"ReactiveESM1\",\"properties\":[{\"name\":\"esm_constants\",\"kind\":\"Any\",\"default\":{\"type\":\"map\"}}]},{\"type\":\"model\",\"name\":\"JSComponent1\",\"properties\":[{\"name\":\"esm_constants\",\"kind\":\"Any\",\"default\":{\"type\":\"map\"}}]},{\"type\":\"model\",\"name\":\"ReactComponent1\",\"properties\":[{\"name\":\"use_shadow_dom\",\"kind\":\"Any\",\"default\":true},{\"name\":\"esm_constants\",\"kind\":\"Any\",\"default\":{\"type\":\"map\"}}]},{\"type\":\"model\",\"name\":\"AnyWidgetComponent1\",\"properties\":[{\"name\":\"use_shadow_dom\",\"kind\":\"Any\",\"default\":true},{\"name\":\"esm_constants\",\"kind\":\"Any\",\"default\":{\"type\":\"map\"}}]},{\"type\":\"model\",\"name\":\"FastWrapper1\",\"properties\":[{\"name\":\"object\",\"kind\":\"Any\",\"default\":null},{\"name\":\"style\",\"kind\":\"Any\",\"default\":null}]},{\"type\":\"model\",\"name\":\"NotificationArea1\",\"properties\":[{\"name\":\"js_events\",\"kind\":\"Any\",\"default\":{\"type\":\"map\"}},{\"name\":\"max_notifications\",\"kind\":\"Any\",\"default\":5},{\"name\":\"notifications\",\"kind\":\"Any\",\"default\":[]},{\"name\":\"position\",\"kind\":\"Any\",\"default\":\"bottom-right\"},{\"name\":\"_clear\",\"kind\":\"Any\",\"default\":0},{\"name\":\"types\",\"kind\":\"Any\",\"default\":[{\"type\":\"map\",\"entries\":[[\"type\",\"warning\"],[\"background\",\"#ffc107\"],[\"icon\",{\"type\":\"map\",\"entries\":[[\"className\",\"fas fa-exclamation-triangle\"],[\"tagName\",\"i\"],[\"color\",\"white\"]]}]]},{\"type\":\"map\",\"entries\":[[\"type\",\"info\"],[\"background\",\"#007bff\"],[\"icon\",{\"type\":\"map\",\"entries\":[[\"className\",\"fas fa-info-circle\"],[\"tagName\",\"i\"],[\"color\",\"white\"]]}]]}]}]},{\"type\":\"model\",\"name\":\"Notification\",\"properties\":[{\"name\":\"background\",\"kind\":\"Any\",\"default\":null},{\"name\":\"duration\",\"kind\":\"Any\",\"default\":3000},{\"name\":\"icon\",\"kind\":\"Any\",\"default\":null},{\"name\":\"message\",\"kind\":\"Any\",\"default\":\"\"},{\"name\":\"notification_type\",\"kind\":\"Any\",\"default\":null},{\"name\":\"_rendered\",\"kind\":\"Any\",\"default\":false},{\"name\":\"_destroyed\",\"kind\":\"Any\",\"default\":false}]},{\"type\":\"model\",\"name\":\"TemplateActions1\",\"properties\":[{\"name\":\"open_modal\",\"kind\":\"Any\",\"default\":0},{\"name\":\"close_modal\",\"kind\":\"Any\",\"default\":0}]},{\"type\":\"model\",\"name\":\"BootstrapTemplateActions1\",\"properties\":[{\"name\":\"open_modal\",\"kind\":\"Any\",\"default\":0},{\"name\":\"close_modal\",\"kind\":\"Any\",\"default\":0}]},{\"type\":\"model\",\"name\":\"TemplateEditor1\",\"properties\":[{\"name\":\"layout\",\"kind\":\"Any\",\"default\":[]}]},{\"type\":\"model\",\"name\":\"MaterialTemplateActions1\",\"properties\":[{\"name\":\"open_modal\",\"kind\":\"Any\",\"default\":0},{\"name\":\"close_modal\",\"kind\":\"Any\",\"default\":0}]},{\"type\":\"model\",\"name\":\"request_value1\",\"properties\":[{\"name\":\"fill\",\"kind\":\"Any\",\"default\":\"none\"},{\"name\":\"_synced\",\"kind\":\"Any\",\"default\":null},{\"name\":\"_request_sync\",\"kind\":\"Any\",\"default\":0}]},{\"type\":\"model\",\"name\":\"holoviews.plotting.bokeh.raster.HoverModel\",\"properties\":[{\"name\":\"xy\",\"kind\":\"Any\",\"default\":null},{\"name\":\"data\",\"kind\":\"Any\",\"default\":null}]}]}};\n",
       "  var render_items = [{\"docid\":\"c33ab2ed-b566-476f-a62b-6b2891d92bf4\",\"roots\":{\"7838c645-53db-4a80-a5f4-cc40b5dfe17d\":\"a78ce867-47cf-4d55-938f-6758552e5d8d\"},\"root_ids\":[\"7838c645-53db-4a80-a5f4-cc40b5dfe17d\"]}];\n",
       "  var docs = Object.values(docs_json)\n",
       "  if (!docs) {\n",
       "    return\n",
       "  }\n",
       "  const py_version = docs[0].version.replace('rc', '-rc.').replace('.dev', '-dev.')\n",
       "  async function embed_document(root) {\n",
       "    var Bokeh = get_bokeh(root)\n",
       "    await Bokeh.embed.embed_items_notebook(docs_json, render_items);\n",
       "    for (const render_item of render_items) {\n",
       "      for (const root_id of render_item.root_ids) {\n",
       "\tconst id_el = document.getElementById(root_id)\n",
       "\tif (id_el.children.length && id_el.children[0].hasAttribute('data-root-id')) {\n",
       "\t  const root_el = id_el.children[0]\n",
       "\t  root_el.id = root_el.id + '-rendered'\n",
       "\t  for (const child of root_el.children) {\n",
       "            // Ensure JupyterLab does not capture keyboard shortcuts\n",
       "            // see: https://jupyterlab.readthedocs.io/en/4.1.x/extension/notebook.html#keyboard-interaction-model\n",
       "\t    child.setAttribute('data-lm-suppress-shortcuts', 'true')\n",
       "\t  }\n",
       "\t}\n",
       "      }\n",
       "    }\n",
       "  }\n",
       "  function get_bokeh(root) {\n",
       "    if (root.Bokeh === undefined) {\n",
       "      return null\n",
       "    } else if (root.Bokeh.version !== py_version) {\n",
       "      if (root.Bokeh.versions === undefined || !root.Bokeh.versions.has(py_version)) {\n",
       "\treturn null\n",
       "      }\n",
       "      return root.Bokeh.versions.get(py_version);\n",
       "    } else if (root.Bokeh.version === py_version) {\n",
       "      return root.Bokeh\n",
       "    }\n",
       "    return null\n",
       "  }\n",
       "  function is_loaded(root) {\n",
       "    var Bokeh = get_bokeh(root)\n",
       "    return (Bokeh != null && Bokeh.Panel !== undefined)\n",
       "  }\n",
       "  if (is_loaded(root)) {\n",
       "    embed_document(root);\n",
       "  } else {\n",
       "    var attempts = 0;\n",
       "    var timer = setInterval(function(root) {\n",
       "      if (is_loaded(root)) {\n",
       "        clearInterval(timer);\n",
       "        embed_document(root);\n",
       "      } else if (document.readyState == \"complete\") {\n",
       "        attempts++;\n",
       "        if (attempts > 200) {\n",
       "          clearInterval(timer);\n",
       "\t  var Bokeh = get_bokeh(root)\n",
       "\t  if (Bokeh == null || Bokeh.Panel == null) {\n",
       "            console.warn(\"Panel: ERROR: Unable to run Panel code because Bokeh or Panel library is missing\");\n",
       "\t  } else {\n",
       "\t    console.warn(\"Panel: WARNING: Attempting to render but not all required libraries could be resolved.\")\n",
       "\t    embed_document(root)\n",
       "\t  }\n",
       "        }\n",
       "      }\n",
       "    }, 25, root)\n",
       "  }\n",
       "})(window);</script>"
      ]
     },
     "metadata": {
      "application/vnd.holoviews_exec.v0+json": {
       "id": "7838c645-53db-4a80-a5f4-cc40b5dfe17d"
      }
     },
     "output_type": "display_data"
    },
    {
     "data": {
      "text/html": [
       "\n",
       "\n",
       "\n",
       "\n",
       "<div class=\"logo-block\">\n",
       "<a href=\"https://holoviews.org\" target=\"_blank\" title=\"HoloViews 1.21.0\">\n",
       "  <img src='data:image/png;base64,iVBORw0KGgoAAAANSUhEUgAAAEAAAABACAYAAACqaXHeAAAABHNCSVQICAgIfAhkiAAAAAlwSFlz\n",
       "AAAB+wAAAfsBxc2miwAAABl0RVh0U29mdHdhcmUAd3d3Lmlua3NjYXBlLm9yZ5vuPBoAAA6zSURB\n",
       "VHic7ZtpeFRVmsf/5966taWqUlUJ2UioBBJiIBAwCZtog9IOgjqACsogKtqirT2ttt069nQ/zDzt\n",
       "tI4+CrJIREFaFgWhBXpUNhHZQoKBkIUASchWla1S+3ar7r1nPkDaCAnZKoQP/D7mnPOe9/xy76n3\n",
       "nFSAW9ziFoPFNED2LLK5wcyBDObkb8ZkxuaoSYlI6ZcOKq1eWFdedqNzGHQBk9RMEwFAASkk0Xw3\n",
       "ETacDNi2vtvc7L0ROdw0AjoSotQVkKSvHQz/wRO1lScGModBFbDMaNRN1A4tUBCS3lk7BWhQkgpD\n",
       "lG4852/+7DWr1R3uHAZVQDsbh6ZPN7CyxUrCzJMRouusj0ipRwD2uKm0Zn5d2dFwzX1TCGhnmdGo\n",
       "G62Nna+isiUqhkzuKrkQaJlPEv5mFl2fvGg2t/VnzkEV8F5ioioOEWkLG86fvbpthynjdhXYZziQ\n",
       "x1hC9J2NFyi8vCTt91Fh04KGip0AaG9zuCk2wQCVyoNU3Hjezee9bq92duzzTmxsRJoy+jEZZZYo\n",
       "GTKJ6SJngdJqAfRzpze0+jHreUtPc7gpBLQnIYK6BYp/uGhw9YK688eu7v95ysgshcg9qSLMo3JC\n",
       "4jqLKQFBgdKDPoQ+Pltb8dUyQLpeDjeVgI6EgLIQFT5tEl3rn2losHVsexbZ3EyT9wE1uGdkIPcy\n",
       "BGxn8QUq1QrA5nqW5i2tLqvrrM9NK6AdkVIvL9E9bZL/oyfMVd/jqvc8LylzRBKDJSzIExwhQzuL\n",
       "QYGQj4rHfFTc8mUdu3E7yoLtbTe9gI4EqVgVkug2i5+uXGo919ixbRog+3fTbQ8qJe4ZOYNfMoTI\n",
       "OoshUNosgO60AisX15aeI2PSIp5KiFLI9ubb1vV3Qb2ltwLakUCDAkWX7/nHKRmmGIl9VgYsUhJm\n",
       "2NXjKYADtM1ygne9QQDIXlk49FBstMKx66D1v4+XuQr7vqTe0VcBHQlRWiOCbmmSYe2SqtL6q5rJ\n",
       "zsTb7lKx3FKOYC4DoqyS/B5bvLPxvD9Qtf6saxYLQGJErmDOdOMr/zo96km1nElr8bmPOBwI9COv\n",
       "HnFPRIwmkSOv9kcAS4heRsidOkpeWBgZM+UBrTFAXNYL5Vf2ii9c1trNzpYdaoVil3WIc+wdk+gQ\n",
       "noie3ecCcxt9ITcLAPWt/laGEO/9U6PmzZkenTtsSMQ8uYywJVW+grCstAvCIaAdArAsIWkRDDs/\n",
       "KzLm2YcjY1Lv0UdW73HabE9n6V66cxSzfEmuJssTpKGVp+0vHq73FwL46eOjpMpbRAnNmJFrGJNu\n",
       "Ukf9Yrz+3rghiumCKNXXWPhLYcjxGsIpoCMsIRoFITkW8AuyM8jC1+/QLx4bozCEJIq38+1rtpR6\n",
       "V/yzb8eBlRb3fo5l783N0CWolAzJHaVNzkrTzlEp2bQ2q3TC5gn6wpnoQAmwSiGh2GitnTmVMc5O\n",
       "UyfKWUKCIsU7+fZDKwqdT6DDpvkzAX4/+AMFjk0tDp5GRXLpQ2MUmhgDp5gxQT8+Y7hyPsMi8uxF\n",
       "71H0oebujHALECjFKaW9Lm68n18wXp2kVzIcABytD5iXFzg+WVXkegpAsOOYziqo0OkK76GyquC3\n",
       "ltZAzMhhqlSNmmWTE5T6e3IN05ITFLM4GdN0vtZ3ob8Jh1NAKXFbm5PtLU/eqTSlGjkNAJjdgn/N\n",
       "aedXa0tdi7+t9G0FIF49rtMSEgAs1kDLkTPO7ebm4IUWeyh1bKomXqlgMG6kJmHcSM0clYLJ8XtR\n",
       "1GTnbV3F6I5wCGikAb402npp1h1s7LQUZZSMIfALFOuL3UUrfnS8+rez7v9qcold5tilgHbO1fjK\n",
       "9ubb17u9oshxzMiUBKXWqJNxd+fqb0tLVs4lILFnK71H0Ind7uiPgACVcFJlrb0tV6DzxqqTIhUM\n",
       "CwDf1/rrVhTa33/3pGPxJYdQ2l2cbgVcQSosdx8uqnDtbGjh9SlDVSMNWhlnilfqZk42Th2ZpLpf\n",
       "xrHec5e815zrr0dfBZSwzkZfqsv+1FS1KUknUwPARVvItfKUY+cn57yP7qv07UE3p8B2uhUwLk09\n",
       "e0SCOrK+hbdYHYLjRIl71wWzv9jpEoeOHhGRrJAzyEyNiJuUqX0g2sBN5kGK6y2Blp5M3lsB9Qh4\n",
       "y2Ja6x6+i0ucmKgwMATwhSjdUu49tKrQ/pvN5d53ml2CGwCmJipmKjgmyuaXzNeL2a0AkQ01Th5j\n",
       "2DktO3Jyk8f9vcOBQHV94OK+fPumJmvQHxJoWkaKWq9Vs+yUsbq0zGT1I4RgeH2b5wef7+c7bl8F\n",
       "eKgoHVVZa8ZPEORzR6sT1BzDUAD/d9F78e2Tzv99v8D+fLVTqAKAsbGamKey1Mt9Ann4eH3gTXTz\n",
       "idWtAJ8PQWOk7NzSeQn/OTHDuEikVF1R4z8BQCy+6D1aWRfY0tTGG2OM8rRoPaeIj5ZHzJxszElN\n",
       "VM8K8JS5WOfv8mzRnQAKoEhmt8gyPM4lU9SmBK1MCQBnW4KONT86v1hZ1PbwSXPw4JWussVjtH9Y\n",
       "NCoiL9UoH/6PSu8jFrfY2t36erQHXLIEakMi1SydmzB31h3GGXFDFNPaK8Rme9B79Ixrd0WN+1ij\n",
       "NRQ/doRmuFLBkHSTOm5GruG+pFjFdAmorG4IXH1Qua6ASniclfFtDYt+oUjKipPrCQB7QBQ2lrgP\n",
       "fFzm+9XWUtcqJ3/5vDLDpJ79XHZk3u8nGZ42qlj1+ydtbxysCezrydp6ugmipNJ7WBPB5tydY0jP\n",
       "HaVNzs3QzeE4ZpTbI+ZbnSFPbVOw9vsfnVvqWnirPyCNGD08IlqtYkh2hjZ5dErEQzoNm+6ykyOt\n",
       "Lt5/PQEuSRRKo22VkydK+vvS1XEKlhCJAnsqvcVvH7f/ZU2R67eXbMEGAMiIV5oWZWiWvz5Fv2xG\n",
       "sjqNJQRvn3Rs2lji/lNP19VjAQDgD7FHhujZB9OGqYxRkZxixgRDVlqS6uEOFaJUVu0rPFzctrnF\n",
       "JqijImVp8dEKVWyUXDk92zAuMZ6bFwpBU1HrOw6AdhQgUooChb0+ItMbWJitSo5Ws3IAOGEOtL53\n",
       "0vHZih9sC4vtofZ7Qu6523V/fmGcds1TY3V36pUsBwAbSlxnVh2xLfAD/IAIMDf7XYIkNmXfpp2l\n",
       "18rkAJAy9HKFaIr/qULkeQQKy9zf1JgDB2uaeFNGijo5QsUyacNUUTOnGO42xSnv4oOwpDi1zYkc\n",
       "efUc3I5Gk6PhyTuVKaOGyLUAYPGIoY9Pu/atL/L92+4q9wbflRJ2Trpm/jPjdBtfnqB/dIThcl8A\n",
       "KG7hbRuKnb8qsQsVvVlTrwQAQMUlf3kwJI24Z4JhPMtcfng5GcH49GsrxJpGvvHIaeem2ma+KSjQ\n",
       "lIwUdYyCY8j4dE1KzijNnIP2llF2wcXNnsoapw9XxsgYAl6k+KzUXbi2yP3KR2ecf6z3BFsBICdW\n",
       "nvnIaG3eHybqX7vbpEqUMT+9OL4Qpe8VON7dXuFd39v19FoAABRVePbGGuXTszO0P7tu6lghUonE\n",
       "llRdrhArLvmKdh9u29jcFiRRkfLUxBiFNiqSU9icoZQHo5mYBI1MBgBH6wMNb+U7Pnw337H4gi1Y\n",
       "ciWs+uks3Z9fztUvfzxTm9Ne8XXkvQLHNytOOZeiD4e0PgkAIAYCYknKUNUDSXEKzdWNpnil7r4p\n",
       "xqkjTarZMtk/K8TQ6Qve78qqvXurGwIJqcOUKfUWHsm8KGvxSP68YudXq4pcj39X49uOK2X142O0\n",
       "Tz5/u/7TVybqH0rSya6ZBwD21/gubbrgWdDgEOx9WUhfBaC2ibcEBYm7a7x+ukrBMNcEZggyR0TE\n",
       "T8zUPjikQ4VosQZbTpS4vqizBKvqmvjsqnpfzaZyx9JPiz1/bfGKdgD45XB1zoIMzYbfTdS/NClB\n",
       "Gct0USiY3YL/g0LHy/uq/Ef6uo5+n0R/vyhp17Klpge763f8rMu6YU/zrn2nml+2WtH+Z+5IAAFc\n",
       "2bUTdTDOSNa9+cQY7YLsOIXhevEkCvzph7a8laecz/Un/z4/Ae04XeL3UQb57IwU9ZDr9UuKVajv\n",
       "nxp1+1UVIo/LjztZkKH59fO3G/JemqCfmaCRqbqbd90ZZ8FfjtkfAyD0J/9+C2h1hDwsSxvGjNDc\n",
       "b4zk5NfrSwiQblLHzZhg+Jf4aPlUwpDqkQqa9nimbt1/TDH8OitGMaQnj+RJS6B1fbF7SY1TqO5v\n",
       "/v0WAADl1f7zokgS7s7VT2DZ7pegUjBM7mjtiDZbcN4j0YrHH0rXpCtY0qPX0cVL0rv5jv/ZXend\n",
       "0u/EESYBAFBU4T4Qa5TflZOhTe7pmKpaP8kCVUVw1+yhXfJWvn1P3hnXi33JsTN6PnP3hHZ8Z3/h\n",
       "aLHzmkNPuPj7Bc/F/Q38CwjTpSwQXgE4Vmwry9tpfq/ZFgqFMy4AVDtCvi8rvMvOmv0N4YwbVgEA\n",
       "sPM72/KVnzfspmH7HQGCRLG2yL1+z8XwvPcdCbsAANh+xPzstgMtxeGKt+6MK3/tacfvwhWvIwMi\n",
       "oKEBtm0H7W+UVfkc/Y1V0BhoPlDr/w1w/eu1vjIgAgDg22OtX6/eYfnEz/focrZTHAFR+PSs56/7\n",
       "q32nwpjazxgwAQCwcU/T62t3WL7r6/jVRa6/byp1rei+Z98ZUAEAhEPHPc8fKnTU9nbgtnOe8h0l\n",
       "9hcGIqmODLQAHCy2Xti6v/XNRivf43f4fFvIteu854+VHnR7q9tfBlwAAGz+pnndB9vM26UebAe8\n",
       "SLHujPOTPVW+rwY+sxskAAC2HrA8t2Vvc7ffP1r9o+vwR2dcr92InIAbKKC1FZ5tB1tf+/G8p8sv\n",
       "N/9Q5zd/XR34LYCwV5JdccMEAMDBk45DH243r/X4xGvqxFa/GNpS7n6rwOwNWwHVE26oAADYurf1\n",
       "zx/utOzt+DMKYM0p17YtZZ5VNzqfsB2HewG1WXE8PoZ7gOclbTIvynZf9JV+fqZtfgs/8F/Nu5rB\n",
       "EIBmJ+8QRMmpU7EzGRsf2FzuePqYRbzh/zE26EwdrT10f6r6o8HOYzCJB9Dpff8tbnGLG8L/A/WE\n",
       "roTBs2RqAAAAAElFTkSuQmCC' style='height:25px; border-radius:12px; display: inline-block; float: left; vertical-align: middle'></img>\n",
       "</a>\n",
       "\n",
       "\n",
       "<a href=\"https://bokeh.org\" target=\"_blank\" title=\"Bokeh 3.7.3\">\n",
       "  <img src='data:image/png;base64,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'\n",
       "       style='height:15px; border-radius:12px; display: inline-block; float: left'>\n",
       "  </img>\n",
       "</a>\n",
       "\n",
       "\n",
       "\n",
       "\n",
       "\n",
       "\n",
       "\n",
       "<span style=\"float: left; margin-left: 5px; line-height: 15px; cursor: pointer; opacity: 0.7;\"\n",
       "      onmouseover=\"this.style.opacity='1'\"\n",
       "      onmouseout=\"this.style.opacity='0.7'\"\n",
       "      title=\"Extension loaded. This cell output contains code that enables plot interactivity, it should not be removed.\">ⓘ</span>\n",
       "</div>\n",
       "\n"
      ]
     },
     "metadata": {},
     "output_type": "display_data"
    },
    {
     "data": {
      "text/html": [
       "<script type=\"esms-options\">{\"shimMode\": true}</script><style>*[data-root-id],\n",
       "*[data-root-id] > * {\n",
       "  box-sizing: border-box;\n",
       "  font-family: var(--jp-ui-font-family);\n",
       "  font-size: var(--jp-ui-font-size1);\n",
       "  color: var(--vscode-editor-foreground, var(--jp-ui-font-color1));\n",
       "}\n",
       "\n",
       "/* Override VSCode background color */\n",
       ".cell-output-ipywidget-background:has(\n",
       "  > .cell-output-ipywidget-background > .lm-Widget > *[data-root-id]\n",
       "),\n",
       ".cell-output-ipywidget-background:has(> .lm-Widget > *[data-root-id]) {\n",
       "  background-color: transparent !important;\n",
       "}\n",
       "</style>"
      ]
     },
     "metadata": {},
     "output_type": "display_data"
    },
    {
     "data": {
      "application/javascript": "(function(root) {\n  function now() {\n    return new Date();\n  }\n\n  const force = false;\n  const py_version = '3.7.3'.replace('rc', '-rc.').replace('.dev', '-dev.');\n  const reloading = true;\n  const Bokeh = root.Bokeh;\n\n  // Set a timeout for this load but only if we are not already initializing\n  if (typeof (root._bokeh_timeout) === \"undefined\" || (force || !root._bokeh_is_initializing)) {\n    root._bokeh_timeout = Date.now() + 5000;\n    root._bokeh_failed_load = false;\n  }\n\n  function run_callbacks() {\n    try {\n      root._bokeh_onload_callbacks.forEach(function(callback) {\n        if (callback != null)\n          callback();\n      });\n    } finally {\n      delete root._bokeh_onload_callbacks;\n    }\n    console.debug(\"Bokeh: all callbacks have finished\");\n  }\n\n  function load_libs(css_urls, js_urls, js_modules, js_exports, callback) {\n    if (css_urls == null) css_urls = [];\n    if (js_urls == null) js_urls = [];\n    if (js_modules == null) js_modules = [];\n    if (js_exports == null) js_exports = {};\n\n    root._bokeh_onload_callbacks.push(callback);\n\n    if (root._bokeh_is_loading > 0) {\n      // Don't load bokeh if it is still initializing\n      console.debug(\"Bokeh: BokehJS is being loaded, scheduling callback at\", now());\n      return null;\n    } else if (js_urls.length === 0 && js_modules.length === 0 && Object.keys(js_exports).length === 0) {\n      // There is nothing to load\n      run_callbacks();\n      return null;\n    }\n\n    function on_load() {\n      root._bokeh_is_loading--;\n      if (root._bokeh_is_loading === 0) {\n        console.debug(\"Bokeh: all BokehJS libraries/stylesheets loaded\");\n        run_callbacks()\n      }\n    }\n    window._bokeh_on_load = on_load\n\n    function on_error(e) {\n      const src_el = e.srcElement\n      console.error(\"failed to load \" + (src_el.href || src_el.src));\n    }\n\n    const skip = [];\n    if (window.requirejs) {\n      window.requirejs.config({'packages': {}, 'paths': {}, 'shim': {}});\n      root._bokeh_is_loading = css_urls.length + 0;\n    } else {\n      root._bokeh_is_loading = css_urls.length + js_urls.length + js_modules.length + Object.keys(js_exports).length;\n    }\n\n    const existing_stylesheets = []\n    const links = document.getElementsByTagName('link')\n    for (let i = 0; i < links.length; i++) {\n      const link = links[i]\n      if (link.href != null) {\n        existing_stylesheets.push(link.href)\n      }\n    }\n    for (let i = 0; i < css_urls.length; i++) {\n      const url = css_urls[i];\n      const escaped = encodeURI(url)\n      if (existing_stylesheets.indexOf(escaped) !== -1) {\n        on_load()\n        continue;\n      }\n      const element = document.createElement(\"link\");\n      element.onload = on_load;\n      element.onerror = on_error;\n      element.rel = \"stylesheet\";\n      element.type = \"text/css\";\n      element.href = url;\n      console.debug(\"Bokeh: injecting link tag for BokehJS stylesheet: \", url);\n      document.body.appendChild(element);\n    }    var existing_scripts = []\n    const scripts = document.getElementsByTagName('script')\n    for (let i = 0; i < scripts.length; i++) {\n      var script = scripts[i]\n      if (script.src != null) {\n        existing_scripts.push(script.src)\n      }\n    }\n    for (let i = 0; i < js_urls.length; i++) {\n      const url = js_urls[i];\n      const escaped = encodeURI(url)\n      if (skip.indexOf(escaped) !== -1 || existing_scripts.indexOf(escaped) !== -1) {\n        if (!window.requirejs) {\n          on_load();\n        }\n        continue;\n      }\n      const element = document.createElement('script');\n      element.onload = on_load;\n      element.onerror = on_error;\n      element.async = false;\n      element.src = url;\n      console.debug(\"Bokeh: injecting script tag for BokehJS library: \", url);\n      document.head.appendChild(element);\n    }\n    for (let i = 0; i < js_modules.length; i++) {\n      const url = js_modules[i];\n      const escaped = encodeURI(url)\n      if (skip.indexOf(escaped) !== -1 || existing_scripts.indexOf(escaped) !== -1) {\n        if (!window.requirejs) {\n          on_load();\n        }\n        continue;\n      }\n      var element = document.createElement('script');\n      element.onload = on_load;\n      element.onerror = on_error;\n      element.async = false;\n      element.src = url;\n      element.type = \"module\";\n      console.debug(\"Bokeh: injecting script tag for BokehJS library: \", url);\n      document.head.appendChild(element);\n    }\n    for (const name in js_exports) {\n      const url = js_exports[name];\n      const escaped = encodeURI(url)\n      if (skip.indexOf(escaped) >= 0 || root[name] != null) {\n        if (!window.requirejs) {\n          on_load();\n        }\n        continue;\n      }\n      var element = document.createElement('script');\n      element.onerror = on_error;\n      element.async = false;\n      element.type = \"module\";\n      console.debug(\"Bokeh: injecting script tag for BokehJS library: \", url);\n      element.textContent = `\n      import ${name} from \"${url}\"\n      window.${name} = ${name}\n      window._bokeh_on_load()\n      `\n      document.head.appendChild(element);\n    }\n    if (!js_urls.length && !js_modules.length) {\n      on_load()\n    }\n  };\n\n  function inject_raw_css(css) {\n    const element = document.createElement(\"style\");\n    element.appendChild(document.createTextNode(css));\n    document.body.appendChild(element);\n  }\n\n  const js_urls = [\"https://cdn.holoviz.org/panel/1.7.5/dist/bundled/reactiveesm/es-module-shims@^1.10.0/dist/es-module-shims.min.js\"];\n  const js_modules = [];\n  const js_exports = {};\n  const css_urls = [];\n  const inline_js = [    function(Bokeh) {\n      Bokeh.set_log_level(\"info\");\n    },\nfunction(Bokeh) {} // ensure no trailing comma for IE\n  ];\n\n  function run_inline_js() {\n    if ((root.Bokeh !== undefined) || (force === true)) {\n      for (let i = 0; i < inline_js.length; i++) {\n        try {\n          inline_js[i].call(root, root.Bokeh);\n        } catch(e) {\n          if (!reloading) {\n            throw e;\n          }\n        }\n      }\n      // Cache old bokeh versions\n      if (Bokeh != undefined && !reloading) {\n        var NewBokeh = root.Bokeh;\n        if (Bokeh.versions === undefined) {\n          Bokeh.versions = new Map();\n        }\n        if (NewBokeh.version !== Bokeh.version) {\n          Bokeh.versions.set(NewBokeh.version, NewBokeh)\n        }\n        root.Bokeh = Bokeh;\n      }\n    } else if (Date.now() < root._bokeh_timeout) {\n      setTimeout(run_inline_js, 100);\n    } else if (!root._bokeh_failed_load) {\n      console.log(\"Bokeh: BokehJS failed to load within specified timeout.\");\n      root._bokeh_failed_load = true;\n    }\n    root._bokeh_is_initializing = false\n  }\n\n  function load_or_wait() {\n    // Implement a backoff loop that tries to ensure we do not load multiple\n    // versions of Bokeh and its dependencies at the same time.\n    // In recent versions we use the root._bokeh_is_initializing flag\n    // to determine whether there is an ongoing attempt to initialize\n    // bokeh, however for backward compatibility we also try to ensure\n    // that we do not start loading a newer (Panel>=1.0 and Bokeh>3) version\n    // before older versions are fully initialized.\n    if (root._bokeh_is_initializing && Date.now() > root._bokeh_timeout) {\n      // If the timeout and bokeh was not successfully loaded we reset\n      // everything and try loading again\n      root._bokeh_timeout = Date.now() + 5000;\n      root._bokeh_is_initializing = false;\n      root._bokeh_onload_callbacks = undefined;\n      root._bokeh_is_loading = 0\n      console.log(\"Bokeh: BokehJS was loaded multiple times but one version failed to initialize.\");\n      load_or_wait();\n    } else if (root._bokeh_is_initializing || (typeof root._bokeh_is_initializing === \"undefined\" && root._bokeh_onload_callbacks !== undefined)) {\n      setTimeout(load_or_wait, 100);\n    } else {\n      root._bokeh_is_initializing = true\n      root._bokeh_onload_callbacks = []\n      const bokeh_loaded = root.Bokeh != null && (root.Bokeh.version === py_version || (root.Bokeh.versions !== undefined && root.Bokeh.versions.has(py_version)));\n      if (!reloading && !bokeh_loaded) {\n        if (root.Bokeh) {\n          root.Bokeh = undefined;\n        }\n        console.debug(\"Bokeh: BokehJS not loaded, scheduling load and callback at\", now());\n      }\n      load_libs(css_urls, js_urls, js_modules, js_exports, function() {\n        console.debug(\"Bokeh: BokehJS plotting callback run at\", now());\n        run_inline_js();\n      });\n    }\n  }\n  // Give older versions of the autoload script a head-start to ensure\n  // they initialize before we start loading newer version.\n  setTimeout(load_or_wait, 100)\n}(window));",
      "application/vnd.holoviews_load.v0+json": ""
     },
     "metadata": {},
     "output_type": "display_data"
    },
    {
     "data": {
      "application/javascript": "\nif ((window.PyViz === undefined) || (window.PyViz instanceof HTMLElement)) {\n  window.PyViz = {comms: {}, comm_status:{}, kernels:{}, receivers: {}, plot_index: []}\n}\n\n\n    function JupyterCommManager() {\n    }\n\n    JupyterCommManager.prototype.register_target = function(plot_id, comm_id, msg_handler) {\n      if (window.comm_manager || ((window.Jupyter !== undefined) && (Jupyter.notebook.kernel != null))) {\n        var comm_manager = window.comm_manager || Jupyter.notebook.kernel.comm_manager;\n        comm_manager.register_target(comm_id, function(comm) {\n          comm.on_msg(msg_handler);\n        });\n      } else if ((plot_id in window.PyViz.kernels) && (window.PyViz.kernels[plot_id])) {\n        window.PyViz.kernels[plot_id].registerCommTarget(comm_id, function(comm) {\n          comm.onMsg = msg_handler;\n        });\n      } else if (typeof google != 'undefined' && google.colab.kernel != null) {\n        google.colab.kernel.comms.registerTarget(comm_id, (comm) => {\n          var messages = comm.messages[Symbol.asyncIterator]();\n          function processIteratorResult(result) {\n            var message = result.value;\n            var content = {data: message.data, comm_id};\n            var buffers = []\n            for (var buffer of message.buffers || []) {\n              buffers.push(new DataView(buffer))\n            }\n            var metadata = message.metadata || {};\n            var msg = {content, buffers, metadata}\n            msg_handler(msg);\n            return messages.next().then(processIteratorResult);\n          }\n          return messages.next().then(processIteratorResult);\n        })\n      }\n    }\n\n    JupyterCommManager.prototype.get_client_comm = function(plot_id, comm_id, msg_handler) {\n      if (comm_id in window.PyViz.comms) {\n        return window.PyViz.comms[comm_id];\n      } else if (window.comm_manager || ((window.Jupyter !== undefined) && (Jupyter.notebook.kernel != null))) {\n        var comm_manager = window.comm_manager || Jupyter.notebook.kernel.comm_manager;\n        var comm = comm_manager.new_comm(comm_id, {}, {}, {}, comm_id);\n        if (msg_handler) {\n          comm.on_msg(msg_handler);\n        }\n      } else if ((plot_id in window.PyViz.kernels) && (window.PyViz.kernels[plot_id])) {\n        var comm = window.PyViz.kernels[plot_id].connectToComm(comm_id);\n        let retries = 0;\n        const open = () => {\n          if (comm.active) {\n            comm.open();\n          } else if (retries > 3) {\n            console.warn('Comm target never activated')\n          } else {\n            retries += 1\n            setTimeout(open, 500)\n          }\n        }\n        if (comm.active) {\n          comm.open();\n        } else {\n          setTimeout(open, 500)\n        }\n        if (msg_handler) {\n          comm.onMsg = msg_handler;\n        }\n      } else if (typeof google != 'undefined' && google.colab.kernel != null) {\n        var comm_promise = google.colab.kernel.comms.open(comm_id)\n        comm_promise.then((comm) => {\n          window.PyViz.comms[comm_id] = comm;\n          if (msg_handler) {\n            var messages = comm.messages[Symbol.asyncIterator]();\n            function processIteratorResult(result) {\n              var message = result.value;\n              var content = {data: message.data};\n              var metadata = message.metadata || {comm_id};\n              var msg = {content, metadata}\n              msg_handler(msg);\n              return messages.next().then(processIteratorResult);\n            }\n            return messages.next().then(processIteratorResult);\n          }\n        })\n        var sendClosure = (data, metadata, buffers, disposeOnDone) => {\n          return comm_promise.then((comm) => {\n            comm.send(data, metadata, buffers, disposeOnDone);\n          });\n        };\n        var comm = {\n          send: sendClosure\n        };\n      }\n      window.PyViz.comms[comm_id] = comm;\n      return comm;\n    }\n    window.PyViz.comm_manager = new JupyterCommManager();\n    \n\n\nvar JS_MIME_TYPE = 'application/javascript';\nvar HTML_MIME_TYPE = 'text/html';\nvar EXEC_MIME_TYPE = 'application/vnd.holoviews_exec.v0+json';\nvar CLASS_NAME = 'output';\n\n/**\n * Render data to the DOM node\n */\nfunction render(props, node) {\n  var div = document.createElement(\"div\");\n  var script = document.createElement(\"script\");\n  node.appendChild(div);\n  node.appendChild(script);\n}\n\n/**\n * Handle when a new output is added\n */\nfunction handle_add_output(event, handle) {\n  var output_area = handle.output_area;\n  var output = handle.output;\n  if ((output.data == undefined) || (!output.data.hasOwnProperty(EXEC_MIME_TYPE))) {\n    return\n  }\n  var id = output.metadata[EXEC_MIME_TYPE][\"id\"];\n  var toinsert = output_area.element.find(\".\" + CLASS_NAME.split(' ')[0]);\n  if (id !== undefined) {\n    var nchildren = toinsert.length;\n    var html_node = toinsert[nchildren-1].children[0];\n    html_node.innerHTML = output.data[HTML_MIME_TYPE];\n    var scripts = [];\n    var nodelist = html_node.querySelectorAll(\"script\");\n    for (var i in nodelist) {\n      if (nodelist.hasOwnProperty(i)) {\n        scripts.push(nodelist[i])\n      }\n    }\n\n    scripts.forEach( function (oldScript) {\n      var newScript = document.createElement(\"script\");\n      var attrs = [];\n      var nodemap = oldScript.attributes;\n      for (var j in nodemap) {\n        if (nodemap.hasOwnProperty(j)) {\n          attrs.push(nodemap[j])\n        }\n      }\n      attrs.forEach(function(attr) { newScript.setAttribute(attr.name, attr.value) });\n      newScript.appendChild(document.createTextNode(oldScript.innerHTML));\n      oldScript.parentNode.replaceChild(newScript, oldScript);\n    });\n    if (JS_MIME_TYPE in output.data) {\n      toinsert[nchildren-1].children[1].textContent = output.data[JS_MIME_TYPE];\n    }\n    output_area._hv_plot_id = id;\n    if ((window.Bokeh !== undefined) && (id in Bokeh.index)) {\n      window.PyViz.plot_index[id] = Bokeh.index[id];\n    } else {\n      window.PyViz.plot_index[id] = null;\n    }\n  } else if (output.metadata[EXEC_MIME_TYPE][\"server_id\"] !== undefined) {\n    var bk_div = document.createElement(\"div\");\n    bk_div.innerHTML = output.data[HTML_MIME_TYPE];\n    var script_attrs = bk_div.children[0].attributes;\n    for (var i = 0; i < script_attrs.length; i++) {\n      toinsert[toinsert.length - 1].childNodes[1].setAttribute(script_attrs[i].name, script_attrs[i].value);\n    }\n    // store reference to server id on output_area\n    output_area._bokeh_server_id = output.metadata[EXEC_MIME_TYPE][\"server_id\"];\n  }\n}\n\n/**\n * Handle when an output is cleared or removed\n */\nfunction handle_clear_output(event, handle) {\n  var id = handle.cell.output_area._hv_plot_id;\n  var server_id = handle.cell.output_area._bokeh_server_id;\n  if (((id === undefined) || !(id in PyViz.plot_index)) && (server_id !== undefined)) { return; }\n  var comm = window.PyViz.comm_manager.get_client_comm(\"hv-extension-comm\", \"hv-extension-comm\", function () {});\n  if (server_id !== null) {\n    comm.send({event_type: 'server_delete', 'id': server_id});\n    return;\n  } else if (comm !== null) {\n    comm.send({event_type: 'delete', 'id': id});\n  }\n  delete PyViz.plot_index[id];\n  if ((window.Bokeh !== undefined) & (id in window.Bokeh.index)) {\n    var doc = window.Bokeh.index[id].model.document\n    doc.clear();\n    const i = window.Bokeh.documents.indexOf(doc);\n    if (i > -1) {\n      window.Bokeh.documents.splice(i, 1);\n    }\n  }\n}\n\n/**\n * Handle kernel restart event\n */\nfunction handle_kernel_cleanup(event, handle) {\n  delete PyViz.comms[\"hv-extension-comm\"];\n  window.PyViz.plot_index = {}\n}\n\n/**\n * Handle update_display_data messages\n */\nfunction handle_update_output(event, handle) {\n  handle_clear_output(event, {cell: {output_area: handle.output_area}})\n  handle_add_output(event, handle)\n}\n\nfunction register_renderer(events, OutputArea) {\n  function append_mime(data, metadata, element) {\n    // create a DOM node to render to\n    var toinsert = this.create_output_subarea(\n    metadata,\n    CLASS_NAME,\n    EXEC_MIME_TYPE\n    );\n    this.keyboard_manager.register_events(toinsert);\n    // Render to node\n    var props = {data: data, metadata: metadata[EXEC_MIME_TYPE]};\n    render(props, toinsert[0]);\n    element.append(toinsert);\n    return toinsert\n  }\n\n  events.on('output_added.OutputArea', handle_add_output);\n  events.on('output_updated.OutputArea', handle_update_output);\n  events.on('clear_output.CodeCell', handle_clear_output);\n  events.on('delete.Cell', handle_clear_output);\n  events.on('kernel_ready.Kernel', handle_kernel_cleanup);\n\n  OutputArea.prototype.register_mime_type(EXEC_MIME_TYPE, append_mime, {\n    safe: true,\n    index: 0\n  });\n}\n\nif (window.Jupyter !== undefined) {\n  try {\n    var events = require('base/js/events');\n    var OutputArea = require('notebook/js/outputarea').OutputArea;\n    if (OutputArea.prototype.mime_types().indexOf(EXEC_MIME_TYPE) == -1) {\n      register_renderer(events, OutputArea);\n    }\n  } catch(err) {\n  }\n}\n",
      "application/vnd.holoviews_load.v0+json": ""
     },
     "metadata": {},
     "output_type": "display_data"
    },
    {
     "data": {
      "text/html": [
       "<script type=\"esms-options\">{\"shimMode\": true}</script><style>*[data-root-id],\n",
       "*[data-root-id] > * {\n",
       "  box-sizing: border-box;\n",
       "  font-family: var(--jp-ui-font-family);\n",
       "  font-size: var(--jp-ui-font-size1);\n",
       "  color: var(--vscode-editor-foreground, var(--jp-ui-font-color1));\n",
       "}\n",
       "\n",
       "/* Override VSCode background color */\n",
       ".cell-output-ipywidget-background:has(\n",
       "  > .cell-output-ipywidget-background > .lm-Widget > *[data-root-id]\n",
       "),\n",
       ".cell-output-ipywidget-background:has(> .lm-Widget > *[data-root-id]) {\n",
       "  background-color: transparent !important;\n",
       "}\n",
       "</style>"
      ]
     },
     "metadata": {},
     "output_type": "display_data"
    },
    {
     "data": {
      "application/javascript": "(function(root) {\n  function now() {\n    return new Date();\n  }\n\n  const force = false;\n  const py_version = '3.7.3'.replace('rc', '-rc.').replace('.dev', '-dev.');\n  const reloading = true;\n  const Bokeh = root.Bokeh;\n\n  // Set a timeout for this load but only if we are not already initializing\n  if (typeof (root._bokeh_timeout) === \"undefined\" || (force || !root._bokeh_is_initializing)) {\n    root._bokeh_timeout = Date.now() + 5000;\n    root._bokeh_failed_load = false;\n  }\n\n  function run_callbacks() {\n    try {\n      root._bokeh_onload_callbacks.forEach(function(callback) {\n        if (callback != null)\n          callback();\n      });\n    } finally {\n      delete root._bokeh_onload_callbacks;\n    }\n    console.debug(\"Bokeh: all callbacks have finished\");\n  }\n\n  function load_libs(css_urls, js_urls, js_modules, js_exports, callback) {\n    if (css_urls == null) css_urls = [];\n    if (js_urls == null) js_urls = [];\n    if (js_modules == null) js_modules = [];\n    if (js_exports == null) js_exports = {};\n\n    root._bokeh_onload_callbacks.push(callback);\n\n    if (root._bokeh_is_loading > 0) {\n      // Don't load bokeh if it is still initializing\n      console.debug(\"Bokeh: BokehJS is being loaded, scheduling callback at\", now());\n      return null;\n    } else if (js_urls.length === 0 && js_modules.length === 0 && Object.keys(js_exports).length === 0) {\n      // There is nothing to load\n      run_callbacks();\n      return null;\n    }\n\n    function on_load() {\n      root._bokeh_is_loading--;\n      if (root._bokeh_is_loading === 0) {\n        console.debug(\"Bokeh: all BokehJS libraries/stylesheets loaded\");\n        run_callbacks()\n      }\n    }\n    window._bokeh_on_load = on_load\n\n    function on_error(e) {\n      const src_el = e.srcElement\n      console.error(\"failed to load \" + (src_el.href || src_el.src));\n    }\n\n    const skip = [];\n    if (window.requirejs) {\n      window.requirejs.config({'packages': {}, 'paths': {}, 'shim': {}});\n      root._bokeh_is_loading = css_urls.length + 0;\n    } else {\n      root._bokeh_is_loading = css_urls.length + js_urls.length + js_modules.length + Object.keys(js_exports).length;\n    }\n\n    const existing_stylesheets = []\n    const links = document.getElementsByTagName('link')\n    for (let i = 0; i < links.length; i++) {\n      const link = links[i]\n      if (link.href != null) {\n        existing_stylesheets.push(link.href)\n      }\n    }\n    for (let i = 0; i < css_urls.length; i++) {\n      const url = css_urls[i];\n      const escaped = encodeURI(url)\n      if (existing_stylesheets.indexOf(escaped) !== -1) {\n        on_load()\n        continue;\n      }\n      const element = document.createElement(\"link\");\n      element.onload = on_load;\n      element.onerror = on_error;\n      element.rel = \"stylesheet\";\n      element.type = \"text/css\";\n      element.href = url;\n      console.debug(\"Bokeh: injecting link tag for BokehJS stylesheet: \", url);\n      document.body.appendChild(element);\n    }    var existing_scripts = []\n    const scripts = document.getElementsByTagName('script')\n    for (let i = 0; i < scripts.length; i++) {\n      var script = scripts[i]\n      if (script.src != null) {\n        existing_scripts.push(script.src)\n      }\n    }\n    for (let i = 0; i < js_urls.length; i++) {\n      const url = js_urls[i];\n      const escaped = encodeURI(url)\n      if (skip.indexOf(escaped) !== -1 || existing_scripts.indexOf(escaped) !== -1) {\n        if (!window.requirejs) {\n          on_load();\n        }\n        continue;\n      }\n      const element = document.createElement('script');\n      element.onload = on_load;\n      element.onerror = on_error;\n      element.async = false;\n      element.src = url;\n      console.debug(\"Bokeh: injecting script tag for BokehJS library: \", url);\n      document.head.appendChild(element);\n    }\n    for (let i = 0; i < js_modules.length; i++) {\n      const url = js_modules[i];\n      const escaped = encodeURI(url)\n      if (skip.indexOf(escaped) !== -1 || existing_scripts.indexOf(escaped) !== -1) {\n        if (!window.requirejs) {\n          on_load();\n        }\n        continue;\n      }\n      var element = document.createElement('script');\n      element.onload = on_load;\n      element.onerror = on_error;\n      element.async = false;\n      element.src = url;\n      element.type = \"module\";\n      console.debug(\"Bokeh: injecting script tag for BokehJS library: \", url);\n      document.head.appendChild(element);\n    }\n    for (const name in js_exports) {\n      const url = js_exports[name];\n      const escaped = encodeURI(url)\n      if (skip.indexOf(escaped) >= 0 || root[name] != null) {\n        if (!window.requirejs) {\n          on_load();\n        }\n        continue;\n      }\n      var element = document.createElement('script');\n      element.onerror = on_error;\n      element.async = false;\n      element.type = \"module\";\n      console.debug(\"Bokeh: injecting script tag for BokehJS library: \", url);\n      element.textContent = `\n      import ${name} from \"${url}\"\n      window.${name} = ${name}\n      window._bokeh_on_load()\n      `\n      document.head.appendChild(element);\n    }\n    if (!js_urls.length && !js_modules.length) {\n      on_load()\n    }\n  };\n\n  function inject_raw_css(css) {\n    const element = document.createElement(\"style\");\n    element.appendChild(document.createTextNode(css));\n    document.body.appendChild(element);\n  }\n\n  const js_urls = [\"https://cdn.holoviz.org/panel/1.7.5/dist/bundled/reactiveesm/es-module-shims@^1.10.0/dist/es-module-shims.min.js\"];\n  const js_modules = [];\n  const js_exports = {};\n  const css_urls = [];\n  const inline_js = [    function(Bokeh) {\n      Bokeh.set_log_level(\"info\");\n    },\nfunction(Bokeh) {} // ensure no trailing comma for IE\n  ];\n\n  function run_inline_js() {\n    if ((root.Bokeh !== undefined) || (force === true)) {\n      for (let i = 0; i < inline_js.length; i++) {\n        try {\n          inline_js[i].call(root, root.Bokeh);\n        } catch(e) {\n          if (!reloading) {\n            throw e;\n          }\n        }\n      }\n      // Cache old bokeh versions\n      if (Bokeh != undefined && !reloading) {\n        var NewBokeh = root.Bokeh;\n        if (Bokeh.versions === undefined) {\n          Bokeh.versions = new Map();\n        }\n        if (NewBokeh.version !== Bokeh.version) {\n          Bokeh.versions.set(NewBokeh.version, NewBokeh)\n        }\n        root.Bokeh = Bokeh;\n      }\n    } else if (Date.now() < root._bokeh_timeout) {\n      setTimeout(run_inline_js, 100);\n    } else if (!root._bokeh_failed_load) {\n      console.log(\"Bokeh: BokehJS failed to load within specified timeout.\");\n      root._bokeh_failed_load = true;\n    }\n    root._bokeh_is_initializing = false\n  }\n\n  function load_or_wait() {\n    // Implement a backoff loop that tries to ensure we do not load multiple\n    // versions of Bokeh and its dependencies at the same time.\n    // In recent versions we use the root._bokeh_is_initializing flag\n    // to determine whether there is an ongoing attempt to initialize\n    // bokeh, however for backward compatibility we also try to ensure\n    // that we do not start loading a newer (Panel>=1.0 and Bokeh>3) version\n    // before older versions are fully initialized.\n    if (root._bokeh_is_initializing && Date.now() > root._bokeh_timeout) {\n      // If the timeout and bokeh was not successfully loaded we reset\n      // everything and try loading again\n      root._bokeh_timeout = Date.now() + 5000;\n      root._bokeh_is_initializing = false;\n      root._bokeh_onload_callbacks = undefined;\n      root._bokeh_is_loading = 0\n      console.log(\"Bokeh: BokehJS was loaded multiple times but one version failed to initialize.\");\n      load_or_wait();\n    } else if (root._bokeh_is_initializing || (typeof root._bokeh_is_initializing === \"undefined\" && root._bokeh_onload_callbacks !== undefined)) {\n      setTimeout(load_or_wait, 100);\n    } else {\n      root._bokeh_is_initializing = true\n      root._bokeh_onload_callbacks = []\n      const bokeh_loaded = root.Bokeh != null && (root.Bokeh.version === py_version || (root.Bokeh.versions !== undefined && root.Bokeh.versions.has(py_version)));\n      if (!reloading && !bokeh_loaded) {\n        if (root.Bokeh) {\n          root.Bokeh = undefined;\n        }\n        console.debug(\"Bokeh: BokehJS not loaded, scheduling load and callback at\", now());\n      }\n      load_libs(css_urls, js_urls, js_modules, js_exports, function() {\n        console.debug(\"Bokeh: BokehJS plotting callback run at\", now());\n        run_inline_js();\n      });\n    }\n  }\n  // Give older versions of the autoload script a head-start to ensure\n  // they initialize before we start loading newer version.\n  setTimeout(load_or_wait, 100)\n}(window));",
      "application/vnd.holoviews_load.v0+json": ""
     },
     "metadata": {},
     "output_type": "display_data"
    },
    {
     "data": {
      "application/javascript": "\nif ((window.PyViz === undefined) || (window.PyViz instanceof HTMLElement)) {\n  window.PyViz = {comms: {}, comm_status:{}, kernels:{}, receivers: {}, plot_index: []}\n}\n\n\n    function JupyterCommManager() {\n    }\n\n    JupyterCommManager.prototype.register_target = function(plot_id, comm_id, msg_handler) {\n      if (window.comm_manager || ((window.Jupyter !== undefined) && (Jupyter.notebook.kernel != null))) {\n        var comm_manager = window.comm_manager || Jupyter.notebook.kernel.comm_manager;\n        comm_manager.register_target(comm_id, function(comm) {\n          comm.on_msg(msg_handler);\n        });\n      } else if ((plot_id in window.PyViz.kernels) && (window.PyViz.kernels[plot_id])) {\n        window.PyViz.kernels[plot_id].registerCommTarget(comm_id, function(comm) {\n          comm.onMsg = msg_handler;\n        });\n      } else if (typeof google != 'undefined' && google.colab.kernel != null) {\n        google.colab.kernel.comms.registerTarget(comm_id, (comm) => {\n          var messages = comm.messages[Symbol.asyncIterator]();\n          function processIteratorResult(result) {\n            var message = result.value;\n            var content = {data: message.data, comm_id};\n            var buffers = []\n            for (var buffer of message.buffers || []) {\n              buffers.push(new DataView(buffer))\n            }\n            var metadata = message.metadata || {};\n            var msg = {content, buffers, metadata}\n            msg_handler(msg);\n            return messages.next().then(processIteratorResult);\n          }\n          return messages.next().then(processIteratorResult);\n        })\n      }\n    }\n\n    JupyterCommManager.prototype.get_client_comm = function(plot_id, comm_id, msg_handler) {\n      if (comm_id in window.PyViz.comms) {\n        return window.PyViz.comms[comm_id];\n      } else if (window.comm_manager || ((window.Jupyter !== undefined) && (Jupyter.notebook.kernel != null))) {\n        var comm_manager = window.comm_manager || Jupyter.notebook.kernel.comm_manager;\n        var comm = comm_manager.new_comm(comm_id, {}, {}, {}, comm_id);\n        if (msg_handler) {\n          comm.on_msg(msg_handler);\n        }\n      } else if ((plot_id in window.PyViz.kernels) && (window.PyViz.kernels[plot_id])) {\n        var comm = window.PyViz.kernels[plot_id].connectToComm(comm_id);\n        let retries = 0;\n        const open = () => {\n          if (comm.active) {\n            comm.open();\n          } else if (retries > 3) {\n            console.warn('Comm target never activated')\n          } else {\n            retries += 1\n            setTimeout(open, 500)\n          }\n        }\n        if (comm.active) {\n          comm.open();\n        } else {\n          setTimeout(open, 500)\n        }\n        if (msg_handler) {\n          comm.onMsg = msg_handler;\n        }\n      } else if (typeof google != 'undefined' && google.colab.kernel != null) {\n        var comm_promise = google.colab.kernel.comms.open(comm_id)\n        comm_promise.then((comm) => {\n          window.PyViz.comms[comm_id] = comm;\n          if (msg_handler) {\n            var messages = comm.messages[Symbol.asyncIterator]();\n            function processIteratorResult(result) {\n              var message = result.value;\n              var content = {data: message.data};\n              var metadata = message.metadata || {comm_id};\n              var msg = {content, metadata}\n              msg_handler(msg);\n              return messages.next().then(processIteratorResult);\n            }\n            return messages.next().then(processIteratorResult);\n          }\n        })\n        var sendClosure = (data, metadata, buffers, disposeOnDone) => {\n          return comm_promise.then((comm) => {\n            comm.send(data, metadata, buffers, disposeOnDone);\n          });\n        };\n        var comm = {\n          send: sendClosure\n        };\n      }\n      window.PyViz.comms[comm_id] = comm;\n      return comm;\n    }\n    window.PyViz.comm_manager = new JupyterCommManager();\n    \n\n\nvar JS_MIME_TYPE = 'application/javascript';\nvar HTML_MIME_TYPE = 'text/html';\nvar EXEC_MIME_TYPE = 'application/vnd.holoviews_exec.v0+json';\nvar CLASS_NAME = 'output';\n\n/**\n * Render data to the DOM node\n */\nfunction render(props, node) {\n  var div = document.createElement(\"div\");\n  var script = document.createElement(\"script\");\n  node.appendChild(div);\n  node.appendChild(script);\n}\n\n/**\n * Handle when a new output is added\n */\nfunction handle_add_output(event, handle) {\n  var output_area = handle.output_area;\n  var output = handle.output;\n  if ((output.data == undefined) || (!output.data.hasOwnProperty(EXEC_MIME_TYPE))) {\n    return\n  }\n  var id = output.metadata[EXEC_MIME_TYPE][\"id\"];\n  var toinsert = output_area.element.find(\".\" + CLASS_NAME.split(' ')[0]);\n  if (id !== undefined) {\n    var nchildren = toinsert.length;\n    var html_node = toinsert[nchildren-1].children[0];\n    html_node.innerHTML = output.data[HTML_MIME_TYPE];\n    var scripts = [];\n    var nodelist = html_node.querySelectorAll(\"script\");\n    for (var i in nodelist) {\n      if (nodelist.hasOwnProperty(i)) {\n        scripts.push(nodelist[i])\n      }\n    }\n\n    scripts.forEach( function (oldScript) {\n      var newScript = document.createElement(\"script\");\n      var attrs = [];\n      var nodemap = oldScript.attributes;\n      for (var j in nodemap) {\n        if (nodemap.hasOwnProperty(j)) {\n          attrs.push(nodemap[j])\n        }\n      }\n      attrs.forEach(function(attr) { newScript.setAttribute(attr.name, attr.value) });\n      newScript.appendChild(document.createTextNode(oldScript.innerHTML));\n      oldScript.parentNode.replaceChild(newScript, oldScript);\n    });\n    if (JS_MIME_TYPE in output.data) {\n      toinsert[nchildren-1].children[1].textContent = output.data[JS_MIME_TYPE];\n    }\n    output_area._hv_plot_id = id;\n    if ((window.Bokeh !== undefined) && (id in Bokeh.index)) {\n      window.PyViz.plot_index[id] = Bokeh.index[id];\n    } else {\n      window.PyViz.plot_index[id] = null;\n    }\n  } else if (output.metadata[EXEC_MIME_TYPE][\"server_id\"] !== undefined) {\n    var bk_div = document.createElement(\"div\");\n    bk_div.innerHTML = output.data[HTML_MIME_TYPE];\n    var script_attrs = bk_div.children[0].attributes;\n    for (var i = 0; i < script_attrs.length; i++) {\n      toinsert[toinsert.length - 1].childNodes[1].setAttribute(script_attrs[i].name, script_attrs[i].value);\n    }\n    // store reference to server id on output_area\n    output_area._bokeh_server_id = output.metadata[EXEC_MIME_TYPE][\"server_id\"];\n  }\n}\n\n/**\n * Handle when an output is cleared or removed\n */\nfunction handle_clear_output(event, handle) {\n  var id = handle.cell.output_area._hv_plot_id;\n  var server_id = handle.cell.output_area._bokeh_server_id;\n  if (((id === undefined) || !(id in PyViz.plot_index)) && (server_id !== undefined)) { return; }\n  var comm = window.PyViz.comm_manager.get_client_comm(\"hv-extension-comm\", \"hv-extension-comm\", function () {});\n  if (server_id !== null) {\n    comm.send({event_type: 'server_delete', 'id': server_id});\n    return;\n  } else if (comm !== null) {\n    comm.send({event_type: 'delete', 'id': id});\n  }\n  delete PyViz.plot_index[id];\n  if ((window.Bokeh !== undefined) & (id in window.Bokeh.index)) {\n    var doc = window.Bokeh.index[id].model.document\n    doc.clear();\n    const i = window.Bokeh.documents.indexOf(doc);\n    if (i > -1) {\n      window.Bokeh.documents.splice(i, 1);\n    }\n  }\n}\n\n/**\n * Handle kernel restart event\n */\nfunction handle_kernel_cleanup(event, handle) {\n  delete PyViz.comms[\"hv-extension-comm\"];\n  window.PyViz.plot_index = {}\n}\n\n/**\n * Handle update_display_data messages\n */\nfunction handle_update_output(event, handle) {\n  handle_clear_output(event, {cell: {output_area: handle.output_area}})\n  handle_add_output(event, handle)\n}\n\nfunction register_renderer(events, OutputArea) {\n  function append_mime(data, metadata, element) {\n    // create a DOM node to render to\n    var toinsert = this.create_output_subarea(\n    metadata,\n    CLASS_NAME,\n    EXEC_MIME_TYPE\n    );\n    this.keyboard_manager.register_events(toinsert);\n    // Render to node\n    var props = {data: data, metadata: metadata[EXEC_MIME_TYPE]};\n    render(props, toinsert[0]);\n    element.append(toinsert);\n    return toinsert\n  }\n\n  events.on('output_added.OutputArea', handle_add_output);\n  events.on('output_updated.OutputArea', handle_update_output);\n  events.on('clear_output.CodeCell', handle_clear_output);\n  events.on('delete.Cell', handle_clear_output);\n  events.on('kernel_ready.Kernel', handle_kernel_cleanup);\n\n  OutputArea.prototype.register_mime_type(EXEC_MIME_TYPE, append_mime, {\n    safe: true,\n    index: 0\n  });\n}\n\nif (window.Jupyter !== undefined) {\n  try {\n    var events = require('base/js/events');\n    var OutputArea = require('notebook/js/outputarea').OutputArea;\n    if (OutputArea.prototype.mime_types().indexOf(EXEC_MIME_TYPE) == -1) {\n      register_renderer(events, OutputArea);\n    }\n  } catch(err) {\n  }\n}\n",
      "application/vnd.holoviews_load.v0+json": ""
     },
     "metadata": {},
     "output_type": "display_data"
    }
   ],
   "source": [
    "import warnings\n",
    "\n",
    "import intake\n",
    "\n",
    "from fresca_catalog.catalog import (\n",
    "    search_catalog_variables,\n",
    "    filter_catalog\n",
    ")\n",
    "from fresca_catalog.selector import (\n",
    "    build_entries_selector,\n",
    "    build_variables_selector,\n",
    "    build_time_range_selector,\n",
    "    build_bbox_selector\n",
    ")\n",
    "from fresca_catalog.plot import (\n",
    "    plot_map,\n",
    "    plot_grid, \n",
    "    plot_timeseries\n",
    ")\n",
    "from fresca_catalog.summary import (\n",
    "    summarize_catalog,\n",
    "    summarize_entry_stations,\n",
    "    summarize_entry_variables\n",
    ")\n",
    "from fresca_catalog.utils import stations_from_bbox"
   ]
  },
  {
   "cell_type": "code",
   "execution_count": 2,
   "id": "1200519b-9c90-44f4-95bb-bb593c4d644f",
   "metadata": {},
   "outputs": [],
   "source": [
    "warnings.filterwarnings('ignore')"
   ]
  },
  {
   "cell_type": "code",
   "execution_count": 3,
   "id": "0b3490a9-28cb-40d2-bf60-0ecf537d51f7",
   "metadata": {},
   "outputs": [
    {
     "data": {
      "text/plain": [
       "Catalog\n",
       " named datasets: ['all_ctd', 'carbonate', 'sfer']\n",
       "  parameters: ['CATALOG_DIR', 'CATALOG_PATH', 'STORAGE_OPTIONS']"
      ]
     },
     "execution_count": 3,
     "metadata": {},
     "output_type": "execute_result"
    }
   ],
   "source": [
    "catalog = intake.open_catalog('full_catalog.yml')\n",
    "catalog"
   ]
  },
  {
   "cell_type": "code",
   "execution_count": 4,
   "id": "ea6f1195",
   "metadata": {},
   "outputs": [
    {
     "data": {
      "text/html": [
       "<div>\n",
       "<style scoped>\n",
       "    .dataframe tbody tr th:only-of-type {\n",
       "        vertical-align: middle;\n",
       "    }\n",
       "\n",
       "    .dataframe tbody tr th {\n",
       "        vertical-align: top;\n",
       "    }\n",
       "\n",
       "    .dataframe thead th {\n",
       "        text-align: right;\n",
       "    }\n",
       "</style>\n",
       "<table border=\"1\" class=\"dataframe\">\n",
       "  <thead>\n",
       "    <tr style=\"text-align: right;\">\n",
       "      <th></th>\n",
       "      <th>dataset</th>\n",
       "      <th>date_start</th>\n",
       "      <th>date_end</th>\n",
       "      <th>lon_min</th>\n",
       "      <th>lon_max</th>\n",
       "      <th>lat_min</th>\n",
       "      <th>lat_max</th>\n",
       "      <th>total_stations</th>\n",
       "      <th>total_casts</th>\n",
       "      <th>mean_station_casts</th>\n",
       "      <th>median_station_casts</th>\n",
       "    </tr>\n",
       "  </thead>\n",
       "  <tbody>\n",
       "    <tr>\n",
       "      <th>0</th>\n",
       "      <td>all_ctd</td>\n",
       "      <td>2006-01-18</td>\n",
       "      <td>2023-03-08</td>\n",
       "      <td>-84.062667</td>\n",
       "      <td>-80.067667</td>\n",
       "      <td>23.666000</td>\n",
       "      <td>28.018667</td>\n",
       "      <td>475</td>\n",
       "      <td>3199</td>\n",
       "      <td>6.9</td>\n",
       "      <td>3.0</td>\n",
       "    </tr>\n",
       "    <tr>\n",
       "      <th>1</th>\n",
       "      <td>carbonate</td>\n",
       "      <td>2010-03-08</td>\n",
       "      <td>2024-03-08</td>\n",
       "      <td>-81.833927</td>\n",
       "      <td>-80.044167</td>\n",
       "      <td>24.393167</td>\n",
       "      <td>25.652583</td>\n",
       "      <td>46</td>\n",
       "      <td>2111</td>\n",
       "      <td>2550.2</td>\n",
       "      <td>2917.0</td>\n",
       "    </tr>\n",
       "    <tr>\n",
       "      <th>2</th>\n",
       "      <td>sfer</td>\n",
       "      <td>2014-12-01</td>\n",
       "      <td>2024-11-17</td>\n",
       "      <td>-85.022100</td>\n",
       "      <td>-80.044200</td>\n",
       "      <td>24.395200</td>\n",
       "      <td>28.784100</td>\n",
       "      <td>216</td>\n",
       "      <td>5814</td>\n",
       "      <td>28.0</td>\n",
       "      <td>28.5</td>\n",
       "    </tr>\n",
       "  </tbody>\n",
       "</table>\n",
       "</div>"
      ],
      "text/plain": [
       "     dataset  date_start    date_end    lon_min    lon_max    lat_min  \\\n",
       "0    all_ctd  2006-01-18  2023-03-08 -84.062667 -80.067667  23.666000   \n",
       "1  carbonate  2010-03-08  2024-03-08 -81.833927 -80.044167  24.393167   \n",
       "2       sfer  2014-12-01  2024-11-17 -85.022100 -80.044200  24.395200   \n",
       "\n",
       "     lat_max  total_stations  total_casts  mean_station_casts  \\\n",
       "0  28.018667             475         3199                 6.9   \n",
       "1  25.652583              46         2111              2550.2   \n",
       "2  28.784100             216         5814                28.0   \n",
       "\n",
       "   median_station_casts  \n",
       "0                   3.0  \n",
       "1                2917.0  \n",
       "2                  28.5  "
      ]
     },
     "metadata": {},
     "output_type": "display_data"
    }
   ],
   "source": [
    "summarize_catalog(catalog)"
   ]
  },
  {
   "cell_type": "code",
   "execution_count": 5,
   "id": "5a996d7f",
   "metadata": {},
   "outputs": [],
   "source": [
    "# entries_selector = build_entries_selector(catalog)"
   ]
  },
  {
   "cell_type": "code",
   "execution_count": 6,
   "id": "50416c7a",
   "metadata": {},
   "outputs": [
    {
     "name": "stdout",
     "output_type": "stream",
     "text": [
      "Help on function search_catalog_variables in module fresca_catalog.catalog:\n",
      "\n",
      "search_catalog_variables(catalog, query=None, case_insensitive=True, fuzzy=False) -> List[str]\n",
      "    Searches the catalog for variables.\n",
      "    \n",
      "    Parameters\n",
      "    ----------\n",
      "    catalog : Catalog\n",
      "        The catalog to search.\n",
      "    query : str or list, optional\n",
      "        The query or list of queries to search for. If None, returns all variables. Default is None.\n",
      "    case_insensitive : bool, optional\n",
      "        Whether to perform a case-insensitive search. Default is True.\n",
      "    fuzzy : bool, optional\n",
      "        Whether to perform a fuzzy search. Default is False.\n",
      "    \n",
      "    Returns\n",
      "    -------\n",
      "    list\n",
      "        A list of matching variables.\n",
      "\n"
     ]
    }
   ],
   "source": [
    "help(search_catalog_variables)"
   ]
  },
  {
   "cell_type": "code",
   "execution_count": 7,
   "id": "72aea6db",
   "metadata": {},
   "outputs": [
    {
     "data": {
      "text/plain": [
       "['sal', 'salinity', 'Salinity_Bottle']"
      ]
     },
     "execution_count": 7,
     "metadata": {},
     "output_type": "execute_result"
    }
   ],
   "source": [
    "search_catalog_variables(catalog, 'sal')"
   ]
  },
  {
   "cell_type": "code",
   "execution_count": 8,
   "id": "51185355",
   "metadata": {},
   "outputs": [
    {
     "data": {
      "text/plain": [
       "['dissolved_oxygen',\n",
       " 'no2',\n",
       " 'no3_no2',\n",
       " 'o2_ctd',\n",
       " 'oxygen_saturation',\n",
       " 'pCO2_uatm']"
      ]
     },
     "execution_count": 8,
     "metadata": {},
     "output_type": "execute_result"
    }
   ],
   "source": [
    "search_catalog_variables(catalog, ['o2', 'oxy'])"
   ]
  },
  {
   "cell_type": "code",
   "execution_count": 9,
   "id": "a1595c14",
   "metadata": {},
   "outputs": [
    {
     "data": {
      "application/vnd.jupyter.widget-view+json": {
       "model_id": "37a34804278544eaa125c87dc9d9fa0e",
       "version_major": 2,
       "version_minor": 0
      },
      "text/plain": [
       "VBox(children=(SelectMultiple(options=('altimeter', 'Aragonite_Sat_W', 'avg_chl_a', 'avg_phaeo', 'beam_attenua…"
      ]
     },
     "metadata": {},
     "output_type": "display_data"
    }
   ],
   "source": [
    "variables_selector = build_variables_selector(catalog)"
   ]
  },
  {
   "cell_type": "code",
   "execution_count": 10,
   "id": "2a9b4912",
   "metadata": {},
   "outputs": [
    {
     "data": {
      "application/vnd.jupyter.widget-view+json": {
       "model_id": "6bd2d869db554ab5b1f74658e6334985",
       "version_major": 2,
       "version_minor": 0
      },
      "text/plain": [
       "VBox(children=(SelectionRangeSlider(continuous_update=False, description='Date range', index=(0, 6878), layout…"
      ]
     },
     "metadata": {},
     "output_type": "display_data"
    }
   ],
   "source": [
    "time_range_selector = build_time_range_selector(catalog)"
   ]
  },
  {
   "cell_type": "code",
   "execution_count": 11,
   "id": "4f20c615-a592-4946-b5b4-04e3c36254b8",
   "metadata": {},
   "outputs": [
    {
     "data": {},
     "metadata": {},
     "output_type": "display_data"
    },
    {
     "data": {},
     "metadata": {},
     "output_type": "display_data"
    },
    {
     "data": {
      "application/vnd.holoviews_exec.v0+json": "",
      "text/html": [
       "<div id='755a8406-b23f-4dc9-852c-d19e3ff701ad'>\n",
       "  <div id=\"f3708c11-0deb-4902-8c8e-e41461467a69\" data-root-id=\"755a8406-b23f-4dc9-852c-d19e3ff701ad\" style=\"display: contents;\"></div>\n",
       "</div>\n",
       "<script type=\"application/javascript\">(function(root) {\n",
       "  var docs_json = {\"fab2a819-5475-44e0-9961-0727604f3b25\":{\"version\":\"3.7.3\",\"title\":\"Bokeh Application\",\"roots\":[{\"type\":\"object\",\"name\":\"panel.models.layout.Column\",\"id\":\"755a8406-b23f-4dc9-852c-d19e3ff701ad\",\"attributes\":{\"name\":\"Column00377\",\"stylesheets\":[\"\\n:host(.pn-loading):before, .pn-loading:before {\\n  background-color: #c3c3c3;\\n  mask-size: auto calc(min(50%, 400px));\\n  -webkit-mask-size: auto calc(min(50%, 400px));\\n}\",{\"type\":\"object\",\"name\":\"ImportedStyleSheet\",\"id\":\"720f99df-7a84-4140-8610-3d5bb6c977cb\",\"attributes\":{\"url\":\"https://cdn.holoviz.org/panel/1.7.5/dist/css/loading.css\"}},{\"type\":\"object\",\"name\":\"ImportedStyleSheet\",\"id\":\"0c0faf63-99a8-41f8-afdc-81d5537d5c30\",\"attributes\":{\"url\":\"https://cdn.holoviz.org/panel/1.7.5/dist/css/listpanel.css\"}},{\"type\":\"object\",\"name\":\"ImportedStyleSheet\",\"id\":\"2ad09be2-2d8b-4d66-93db-1ab549a804f2\",\"attributes\":{\"url\":\"https://cdn.holoviz.org/panel/1.7.5/dist/bundled/theme/default.css\"}},{\"type\":\"object\",\"name\":\"ImportedStyleSheet\",\"id\":\"dfc145d6-8336-4883-b527-f4a310e9cd89\",\"attributes\":{\"url\":\"https://cdn.holoviz.org/panel/1.7.5/dist/bundled/theme/native.css\"}}],\"margin\":0,\"align\":\"start\",\"children\":[{\"type\":\"object\",\"name\":\"Figure\",\"id\":\"a0f6ce40-21d1-4660-b767-9bc66a6fda5f\",\"attributes\":{\"width\":800,\"margin\":[5,10],\"sizing_mode\":\"fixed\",\"align\":\"start\",\"x_range\":{\"type\":\"object\",\"name\":\"Range1d\",\"id\":\"dd4b96e3-ed95-4b4b-a6da-b4f2a508391f\",\"attributes\":{\"name\":\"lon\",\"tags\":[[[\"lon\",null]],[]],\"start\":-10174361.297835806,\"end\":709839.0412281597,\"reset_start\":-10174361.297835806,\"reset_end\":709839.0412281597,\"min_interval\":5}},\"y_range\":{\"type\":\"object\",\"name\":\"Range1d\",\"id\":\"cbf228e2-6808-404d-b1a4-afd490cce7e5\",\"attributes\":{\"name\":\"lat\",\"tags\":[[[\"lat\",null]],{\"type\":\"map\",\"entries\":[[\"invert_yaxis\",false],[\"autorange\",false]]}],\"start\":-2407477.4368774747,\"end\":5755672.817420501,\"reset_start\":-2407477.4368774747,\"reset_end\":5755672.817420501,\"min_interval\":5}},\"x_scale\":{\"type\":\"object\",\"name\":\"LinearScale\",\"id\":\"a4e86c61-bcb8-40de-af93-cf8d70df7f88\"},\"y_scale\":{\"type\":\"object\",\"name\":\"LinearScale\",\"id\":\"3a854549-e6b2-4abb-a124-d04ab4cdc5e2\"},\"title\":{\"type\":\"object\",\"name\":\"Title\",\"id\":\"8a9375db-4510-4e00-9471-5e86654e11b4\",\"attributes\":{\"text_color\":\"black\",\"text_font_size\":\"12pt\"}},\"renderers\":[{\"type\":\"object\",\"name\":\"TileRenderer\",\"id\":\"b124209a-ac55-454a-a882-6e7a7d0b23b1\",\"attributes\":{\"level\":\"glyph\",\"tile_source\":{\"type\":\"object\",\"name\":\"WMTSTileSource\",\"id\":\"11b51833-eb1a-434f-99ab-af70bf6435d1\",\"attributes\":{\"url\":\"https://c.tile.openstreetmap.org/{Z}/{X}/{Y}.png\",\"attribution\":\"&copy; <a href=\\\"https://www.openstreetmap.org/copyright\\\">OpenStreetMap</a> contributors\"}},\"alpha\":0.8}},{\"type\":\"object\",\"name\":\"GlyphRenderer\",\"id\":\"a3dd3866-64ff-4d5a-b9a5-6a30744d5e48\",\"attributes\":{\"data_source\":{\"type\":\"object\",\"name\":\"ColumnDataSource\",\"id\":\"e83b99a1-0153-4be2-aad1-f3625f1e0b8e\",\"attributes\":{\"selected\":{\"type\":\"object\",\"name\":\"Selection\",\"id\":\"99c8a981-12cd-4007-bd36-fcda3b8be6be\",\"attributes\":{\"indices\":[],\"line_indices\":[]}},\"selection_policy\":{\"type\":\"object\",\"name\":\"UnionRenderers\",\"id\":\"0d29e4b0-70df-4920-a261-bf2f9a4fbcfe\"},\"data\":{\"type\":\"map\",\"entries\":[[\"lon\",{\"type\":\"ndarray\",\"array\":{\"type\":\"bytes\",\"data\":\"0D5UIzECYcEAAAAAAAAAAK1ECAF3JWHBrhan28QjYcEFqE7P9yFhwQUnhh5FK2HBXOXU36UpYcF4GrInxz1hwana443BPGHBdR0I7yYCYcG4rwkKBQFhwbvxqxOMdGHBWWMgg/9lYcHsJIJuRl5hwS6R6hFLXmHBCnLzp/1RYcFJ/py8ZkxhwZf0fmy+RmHBM1f6mbBCYcEcUgDDi0NhwR59p+5sP2HBD/rs7Fg7YcHlL4W1dD1hwe2ru88lP2HBzbAPTZ3hWcFaVGGlN0VhwYUxhz9aTWHB330QJiZWYcH6E2cRVFZhwQa05TEqRWHBSDG5QmY7YcHTEjVZGDhhwa0TYq7SO2HBuxhIXb4jYcEQKSegPithwaSG2dChKWHBqUPmsyUzYcFdZc6WwT1hwRhLcoHJPGHB/WpGsQUCYcFNNO9ZPUlhwc8MwKBGSWHBWBotNUdJYcHmWQvHoXRhwc265/UHZmHBHwmY7T1eYcEZQGWm/lFhwS1bcG9YTGHB3Hkgt8pGYcG/Bnx3tEJhwSfTCZeMQ2HB0tdKmUg/YcFSl5l5LDthwcX50GNyPWHBpb6CayQ/YcEy8/D0EkFhwRTVE1n7RGHB4MC+iylNYcEjmxpXPVZhwbkhTcs7VmHBaqB/twdFYcHaM/H2fzthwUhFmfL1N2HBAi4sf8w7YcHhrs8igiVhwZyeUoj52V7BF6dWm7S1YcFGus7Srbphwa2wtfPzkWHBsZ9NhwuXYcGhEsu/K5xhwcUQMC9AoWHBqa9KQ2umYcFsjvbthqthwTNYneKlsGHBg+N8+L+1YcEYskrMx7phwZJn0FINd2HBfJj3V5t7YcFOpdSgzX9hwbA9Bghbh2HBLUGmf2GYYcGw1shgZ6FhwTWlj57+ZmHBz/O8bClpYcElq9mSi2thwf5axWuocGHBegs9+dV0YcH0qSXsQYNhwTAY4YRNl2HBXtkTfpeZYcHyKa+dRp1hwYsu0xbKo2HB02q3tHusYcER489karVhwU9b6BRZvmHBydulhS+2YcEtA3OK+rJhwQAAAAAAAAAAbM/Y5eV2YcG2VH44l3thwaqWTwjCf2HBp2ZVcWCHYcF6NsxT4o5hwUsRiHvvY2HB6SsAJphkYcExL9tbZGthwTJKR7ttiWHB+WmnER6TYcHOVYMe4pxhwa2jokbLpmHBtC9rQICwYcFT5ZDnT0lhwZXd58CJEGHBYwKUwTKbYcGhaKRewpZhwYyiI2vmdGHBha02XAJ3YcHA8UVGK3thwbQPygA2hGHBRhxqwwuZYcHqeq3M/blhwULcXjF0xGHBRhVdRpqbYcE0k6ffep9hwV99oKy7pmHB1lgpl7avYcGRFZ8jJYNhwawLBO3VhmHB4Zxrd46KYcGCQxLpTI5hwa9Gi2rtkWHB03aksMeVYcHliuDkcZlhwXl37V8lnWHB/3kgvRClYcGYG9tSvFlhwdBd4cgIAmHBoipt1yMCYcHj2b8NgSVhwRq7ZFLFI2HByTvmK/MhYcGEeaXCOithwWIacS2dKWHBd7IaDtI9YcEg3AM+0DxhwXZsZmEUAmHBbmqjqz9JYcF51KHidHRhwTzeDb8PZmHBaEyxJz1eYcFsFBCdBFJhwc3WbQNwTGHBRm08oLhGYcG6kQ783kJhwWwooQF/Q2HBtwPaYms/YcFAmtnZSTthwXGfNWWaPWHB767nUmBBYcEoUjGdIUVhwUonYrd6TWHBVOyo0UBWYcHifRAmJlZhwbMy92P0RGHBfCmvce03YcGekzWZziNhwYPSfx8hA2HBB2pbrz8rYcEkK9hBzD1hwX9m1oBwKmHBB/Uj8Mk9YcFWDzN4PD1hwUwHjpejKWHB8kJ08khJYcHYZq3+XzRhwbmON88NNGHBDvf8TKkzYcGfNxpbQTJhwS4GHGDLMWHB6EMKRKg9YcFs96UWTj1hwR4yL828PGHBDr2nqaVJYcE1iwbUSANhwTKT/BUiAmHBKbJvzolJYcHQvWEuWUlhwbH8pMYdSGHBxyo7qx5JYcHaem+mf0hhwbWN8REMSGHBtshYFD5IYcFQWojRFkhhwa0lasExSWHBDVYeBmpJYcHNMlkYIEhhwYiVaCFKSWHBNAgtvc5fYcHCiGNqvF9hwT9VoiIrYGHBWnhxy/VfYcEYWSBPyV9hwSH7iN/JX2HBsOpZxeGSYcEWXaXt0pJhwUSPpsL+kmHB7xTFCPSSYcExb3Um2JFhwXVBuHSrimHBXa/4GCeDYcHQszw8JnxhwcftryDxAGHBE+zVp4t0YcGcOwnhM21hwcf5oJNVdGHBOJh2BwxmYcGWNEOVDmBhwYejXZpbXmHBWwruVYRcYcFhrsNozFxhwU2PE3QgTWHBc0OhZgABYcFXLkm3+xBhwQNoBKw9T2HBdq4ZBQlSYcHyYHngz1lhwZsniNT9VmHBFKfPXWJMYcGQ6gtD/0hhwR/gGJK+RmHBcVO6iMZEYcFHXOtvzUJhwbtX5B+LUmHBkZfTc5JCYcGNYDszvA9hwcOtMCeDDmHBil0Qe8VFYcGhlCNIh0NhweuIjyf5QGHBnpRSSy8/YcEDlHXgKDthwZopESYZO2HBvbqjkaA9YcEp03/uXT1hwYheoWUjP2HBnSR5AyA/YcH/9CUbLUFhwVmKEmp8RWHBC/5iwgBFYcE8FBeJPU1hwfg75odiTWHBOxm8bUtWYcEHFgiTTVZhwd99ECYmVmHBNIEwLStBYcH8iM37TVZhwSdADNhlTWHBq44VHocNYcFaAzevDgxhwa27Q4XgCGHBX2QeIAlFYcECnLKQvkFhwcPIAzflP2HBhHM/sbI9YcG+t6sfdzthwQPlGzG6NmHBGyVPYcE3YcFug/p2sDhhwRs5NvCpOWHBm5W+6ukHYcEP9njG2DthwR+nIgvtN2HBCA9Hv3IIYcE1IWXLcyVhwcO2NRwvJWHBxio5Lmg0YcGUDKdg4jBhwexNrq+/JGHBqW3LdzgkYcFNTSXyvyNhwQT2cGPoIWHB4vqrLyAgYcHw8gW1kx1hwTTN9Ob+GGHBIMsdeMIhYcGY4pMLvCNhwcHp1tPqmWHBGPRdEPacYcHSWWt986JhwaIOOREKrGHBSqo+d/y0YcEeNNdom75hwbVnfsPzkWHBgSpdbguXYcGm+neXKZxhwf5LwlNDoWHBsHtkGGqmYcFo/3dejKthwdMUgn+wsGHBGzoOVMa1YcFaupKV17phwWNCbMEkd2HBmRww+wu7YcHRGoS8/8JhwVss2zNky2HB5T0yq8jTYcGVVWynGdxhwR+MpMIl5GHB4SD8Ap3sYcHO1G9vCPVhwfygUeLs/GHBnRGF+pl7YcE9ITZIWQ1iwbIbQeDLf2HB1nYbpmCHYcEqoWnTjodhwe8wupZlmGHBBcN4R3qhYcEmlX9i66lhwal0ZItAsmHBbylIO0NmYcHASyuJfXZhwTcQOpF2g2HBZUV8i+9mYcHZ4/EbD3VhwUv7VJTyZmHBIne7/yJpYcHncQV+h2thwUR9AVuecGHBBRhyP+h0YcHR8o9LRYNhwR0U2eUTbGHByU80opBrYcF9/XL1d4NhwQAAAAAAAAAAh/KnjrB2YcGDafsIInthweZ9TFN7gmHBZibeS6qKYcGA1nJ51JJhwRSNdrrokmHBQHgPF8pcYcGBZGvl8mlhwZDJxrFSl2HBRiLFMJaZYcHoYhoyVZ1hwaaepajKo2HBSu3s3P+rYcHIBWv1cbRhwSSGZuNkvmHB23N9si6RYcF+kCoP0qFhwVY+DYvommHBpzsHJTGiYcEbvhODaalhwf2jyGNOsGHBnU3eXfqtYcHFpjB+MaxhweJ3dTHUqWHB7eZF77ulYcG8/JKy1qFhwe7iWYgFm2HBRs/GO/KdYcHaKQgyopphwVllZuY9omHBnvgn5ZepYcHRtH0EcLBhwbkkexcSsGHBxvWO8B6sYcGz14hE46lhwe41pGGppWHBPyTCa82hYcGaqnUu7ZphwWVifNcGfmHBlkwzHJGGYcE0gGP8L7ZhwZinMAH7smHBAAAAAAAAAAAmn8bJhghhwV76PE4BB2HBmYyDIFgFYcGM/LZVgwhhwUoRubUAB2HBlvhD8lgFYcGQZARwDAdhwSBhthYwkWHBHQNxPlh5YcEmUv9IsnlhwVyaEUpQfGHB9aPOJ/Z/YcFKAOLde4dhwY9e5A/vjmHBip3cczuRYcE8hHAd6K9hwZC9Kf2OmWHB5IzCcSWfYcET8FT34qdhwYt+OixRsGHBvABaV+a4YcEiDM5JXsFhwaPFMqWRsGHBd0pZsLd7YcGBfMv+xnthwYhdYJDtY2HBM+Y9vptkYcEWBDTXz2ZhwQ11LEp9a2HB05Vzgm+JYcGyEjx7OZNhwVuLtp75nGHBwgKmAdOmYcF1J+HQjrBhwQ5IYTelcGHBfUs2RpBuYcGVv9MIrGxhwVggbhVXamHBu97rLPtnYcEP0otawhBhwWOqLhgsEWHBkmyFJ2NdYcE6Fsz7pFxhwZHro8z4gGHB9Wa+fMA4YcGP/e7NNDZhwQI1ptKSMmHB3R48fBgAYcFLy8244BBhwR7cglkCEWHBxOoH8g0RYcFy0LV7vmlhwWjOFPrEaWHBu6XZxBIJYcEx5fTOanFhwYhVn3VicWHB7xERjoEHYcE34Hlezl9hwdIil2j/dmHBjo8OaDibYcEOR7uRs5ZhweFwVb/cdGHBR8T5+wd3YcHrur8XKHthwUG0Q7o1hGHBe4Ib9fF2YcFyY5Z8GJlhwXu6jK8NumHBUK4u5lfEYcFcd1lXis5hwSAP3Ro82WHBjsKIZ4ybYcH+UJmyfJ9hwWrTEc6xpmHBpK1FFL+vYcFaWyaBt5dhwacVaCFgnGHBws15ufKgYcHB2t8VvKZhwehTbRtgmGHBOkNHAVuYYcEvPApVw5dhwQAAAAAAAAAARKnvzScbYcGKBcwdIBphwQBFU3kzGWHBztKePCgbYcGe9S8vHxphwcM53IUzGWHBiohpHzeDYcHIE2TCxKxhwcvQtVzBtWHB2KEwatiGYcG6PIcFl4phwR3RNidJjmHB+SLXfQaSYcE+Mbr5u5Vhwa7XLoJumWHB8jSx0zSdYcHqlT4E/aRhwd1O/K7AI2HBXLgtEngpYcFK5VaDlnRhwQ8+IdIeZmHBa670QmJeYcHs7ODjDVJhwc3WbQNwTGHByfaudNRGYcFQVDDLoUNhwS0YJHMqP2HBBSEVbhhBYcFGgnA2UlZhwbSBVdbhRGHBMU52EAE8YcFEhyULqDxhwZKiGrMWAmHBkaBX/UFJYcH6oiUyL5JhwacsK5UMl2HBe04oZRGcYcERF6I6SaFhwfq9sc49pmHBExCeeJGrYcGI8cFutLBhwVzEYMzLtWHBDhLtZfO6YcG3/8e/NHdhwXmZtyKle2HBVbi5SQWAYcGtyJiMhYdhwSB30MzFZmHBIXr8TwBpYcEEqbecXWthwdN7Vvp0cGHBqodzeJ10YcEvTLNaLINhwT0y+8nSjmHBDjv1TuRjYcFCW/oooGRhwf5GdIE4a2HBJD7GdCcRYcEzcylo3nRhwZRn0FINd2HBZcJLQyN7YcER8GWRUIRhwTOBH9gGumHBoC56gm6mYcEwOcUn0a9hwXUaXxlWg2HBUBCcRaKGYcG6U9J8VIphwQjDl30pjmHBFneWaAySYcH3HXUia5VhwQch0n87mWHBfzt0lm+dYcEwKumXrKRhwQWRV4OJWWHBMdLANbNZYcHNmRek4VlhwUOuYbSgWWHBAAAAAAAAAABSsb4RcV1hwUG1VNzqcmHBa1CZhk5kYcFG574asGlhwalbeuoEaGHBAAAAAAAAAAB5A8Pron5hwbWZpFVIemHB7/SX93h4YcGKNUVaRpFhwTBHFzCOgmHBxnsMdieJYcE=\"},\"shape\":[553],\"dtype\":\"float64\",\"order\":\"little\"}],[\"lat\",{\"type\":\"ndarray\",\"array\":{\"type\":\"bytes\",\"data\":\"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\"},\"shape\":[553],\"dtype\":\"float64\",\"order\":\"little\"}],[\"station\",[\".002\",\".006\",\".007\",\".009\",\".0095\",\".010\",\".012\",\".016\",\".018\",\".02\",\".03\",\".030\",\".031\",\".033\",\".033UP\",\".041\",\".045\",\".047\",\".049\",\".051\",\".053\",\".054\",\".055\",\".056\",\".057\",\".0571\",\".0572\",\".0573\",\".058\",\".060\",\".064\",\".065\",\".068\",\".09\",\".10\",\".12\",\".15\",\".16\",\".18\",\".2\",\".21\",\".21-LK\",\".21LK\",\".30\",\".31\",\".33\",\".41\",\".45\",\".47\",\".49\",\".51\",\".53\",\".54\",\".55\",\".56\",\".57\",\".571\",\".572\",\".573\",\".58\",\".60\",\".64\",\".65\",\".68\",\".7\",\".9\",\".AM18\",\".AM19\",\".AMI1\",\".AMI2\",\".AMI3\",\".AMI4\",\".AMI5\",\".AMI6\",\".AMI7\",\".AMI8\",\".AMI9\",\".BG1\",\".BG2\",\".BG3\",\".BG4\",\".BG6\",\".BG7\",\".CAL1\",\".CAL2\",\".CAL3\",\".CAL4\",\".CAL5\",\".CAL6\",\".CW1\",\".CW2\",\".CW3\",\".CW4\",\".CW5\",\".CW6\",\".CW7\",\".EH07\",\".EH08\",\".EK\",\".GP1\",\".GP2\",\".GP3\",\".GP4\",\".GP5\",\".KW1\",\".KW2\",\".KW4\",\".L1\",\".L3\",\".L5\",\".L7\",\".L9\",\".LK\",\".MR\",\".ROME4\",\".ROME5\",\".RP1\",\".RP2\",\".RP3\",\".RP4\",\".TB1\",\".TB10\",\".TB11\",\".TB2\",\".TB3\",\".TB4\",\".TB5\",\".V1\",\".V2\",\".V3\",\".V4\",\".V5\",\".V6\",\".V7\",\".V8\",\".V9\",\".WS\",\"001\",\"002\",\"007\",\"009\",\"009.5\",\"010\",\"012\",\"016\",\"018\",\"02\",\"021LK\",\"030\",\"031\",\"033\",\"041\",\"045\",\"047\",\"049\",\"051\",\"053\",\"054\",\"055\",\"057\",\"057.1\",\"057.2\",\"057.3\",\"058\",\"060\",\"065\",\"09\",\"1\",\"10\",\"1016\",\"11\",\"116\",\"117\",\"12\",\"120\",\"13\",\"14\",\"15\",\"15.5\",\"15.5SURFACE\",\"16\",\"17\",\"18\",\"19\",\"1B\",\"2\",\"20\",\"20.5\",\"205\",\"21\",\"21.25\",\"21.5\",\"21.5B\",\"21.5V2\",\"21.LK\",\"21/LK\",\"215\",\"21LK\",\"22\",\"22.5\",\"225\",\"225A\",\"23\",\"24\",\"25\",\"25.5\",\"26\",\"27\",\"28\",\"28.5\",\"29\",\"29.5\",\"3\",\"30\",\"30.5\",\"30B\",\"31\",\"32\",\"33\",\"34\",\"34B\",\"39\",\"3B\",\"4\",\"40\",\"41\",\"42\",\"44\",\"45\",\"46\",\"47\",\"48\",\"49\",\"495\",\"49A\",\"5\",\"5.5\",\"50\",\"51\",\"52\",\"53\",\"54\",\"54B\",\"55\",\"55B\",\"56\",\"56B\",\"57\",\"57.1\",\"57.1B\",\"57.2\",\"57.2B\",\"57.3\",\"57.3B\",\"57.3SURF\",\"57B\",\"58\",\"59\",\"6\",\"6.5\",\"6.75\",\"60\",\"61\",\"62\",\"63\",\"64\",\"65\",\"65A\",\"66\",\"67\",\"675\",\"68\",\"69\",\"6C\",\"7\",\"7.B\",\"70\",\"71\",\"8\",\"8b\",\"9\",\"9.5\",\"9.6\",\"9.7\",\"9.8\",\"95\",\"9B\",\"AC1\",\"AC2\",\"AC3\",\"AC4\",\"AC5\",\"AC6\",\"AMI1\",\"AMI2\",\"AMI3\",\"AMI4\",\"AMI5\",\"AMI6\",\"AMI7\",\"AMI8\",\"AMI9\",\"BG1\",\"BG10\",\"BG11\",\"BG12\",\"BG13\",\"BG14\",\"BG15\",\"BG16\",\"BG17\",\"BG18\",\"BG2\",\"BG20\",\"BG3\",\"BG4\",\"BG5\",\"BG6\",\"BG7\",\"BG8\",\"BG9\",\"BK1\",\"BLOOM\",\"CAL.A\",\"CAL01\",\"CAL05\",\"CAL1\",\"CAL2\",\"CAL3\",\"CAL4\",\"CAL5\",\"CAL6\",\"CAL7\",\"CAL8\",\"CALA\",\"CAPTIVA\",\"CH1\",\"CH2\",\"CH3\",\"CH4\",\"CH5\",\"CH5A\",\"CK1\",\"CK2\",\"CW1\",\"CW2\",\"CW3\",\"CW4\",\"CW5\",\"CW6\",\"CW7\",\"Caseyhole\",\"DT.9\",\"DT01\",\"DT02\",\"DT03\",\"DT04\",\"DT05\",\"DT06\",\"DT07\",\"DT08\",\"DT09\",\"DT1\",\"DT10\",\"DT11\",\"DT2\",\"DT3\",\"DT4\",\"DT5\",\"DT6\",\"DT7\",\"DT8\",\"DT9\",\"DTXX\",\"EB1\",\"EB2\",\"EH07\",\"EH08\",\"EK\",\"EKIN\",\"EKMID\",\"EKOFF\",\"EK_IN\",\"EK_MID\",\"EK_OFF\",\"Ek_MID\",\"GLIDER\",\"GP1\",\"GP1.5\",\"GP2\",\"GP3\",\"GP4\",\"GP5\",\"GS\",\"Glider\",\"HB1\",\"HB2\",\"HB3\",\"HB4\",\"HB5\",\"HB6\",\"I1\",\"JUNKPILE\",\"Junkpile\",\"KW1\",\"KW2\",\"KW3\",\"KW4\",\"L1\",\"L3\",\"L5\",\"L7\",\"L9\",\"M01\",\"M02\",\"M03\",\"M04\",\"M05\",\"MR\",\"MR.REDO\",\"MR1\",\"MR2\",\"MR3\",\"MR4\",\"MR5\",\"MR6\",\"MR7\",\"MRA\",\"MRB\",\"MRV2\",\"MUDHOLE\",\"Mudhole\",\"NANCY\",\"NAPLESBLUEHOLE\",\"NaplesBlueHole\",\"PLUME\",\"REAL24\",\"REDTIDE\",\"ROME4\",\"ROME5\",\"RP1\",\"RP2\",\"RP3\",\"RP4\",\"RedTide\",\"TB1\",\"TB10\",\"TB11\",\"TB12\",\"TB13\",\"TB2\",\"TB3\",\"TB4\",\"TB5\",\"TB6\",\"TB7\",\"TB8\",\"TB9\",\"TBA\",\"TBB\",\"TBC\",\"UK\",\"UKIN\",\"UKMID\",\"UKOFF\",\"UK_IN\",\"UK_MID\",\"UK_OFF\",\"V1\",\"V10\",\"V11\",\"V2\",\"V3\",\"V4\",\"V5\",\"V6\",\"V7\",\"V8\",\"V9\",\"WB22215.009\",\"WB22215.012\",\"WB22215.030\",\"WB22215.031\",\"WB22215.033\",\"WB22215.041\",\"WB22215.045\",\"WB22215.047\",\"WB22215.051\",\"WB22215.056\",\"WB22215.057\",\"WB22215.058\",\"WB22215.060\",\"WB22215.068\",\"WB22215.18\",\"WB22215.2\",\"WB22215.21LK\",\"WB22215.AMI1\",\"WB22215.AMI2\",\"WB22215.AMI3\",\"WB22215.AMI4\",\"WB22215.AMI5\",\"WB22215.AMI6\",\"WB22215.AMI7\",\"WB22215.AMI8\",\"WB22215.AMI9\",\"WB22215.BG1\",\"WB22215.BG2\",\"WB22215.BG3\",\"WB22215.BG4\",\"WB22215.CAL1\",\"WB22215.CAL2\",\"WB22215.CAL3\",\"WB22215.CAL4\",\"WB22215.CAL5\",\"WB22215.CAL6\",\"WB22215.GP5\",\"WB22215.KW1\",\"WB22215.KW2\",\"WB22215.KW4\",\"WB22215.MR\",\"WB22215.RP1\",\"WB22215.RP2\",\"WB22215.RP3\",\"WB22215.RP4\",\"WB22215.TB10\",\"WB22215.TB4\",\"WB22215.TB5\",\"WB22215.V1\",\"WB22215.V2\",\"WB22215.V3\",\"WB22215.V4\",\"WB22215.V5\",\"WB22215.V6\",\"WB22215.V7\",\"WB22215.V8\",\"WB22215.V9\",\"WB22215.WS\",\"WS\",\"WS2\",\"WSB\",\"Z03\",\"Z03027\",\"Z03076\",\"Z03116\",\"Z03146\",\"Z03198\",\"Z04\",\"Z04067\",\"Z04068\",\"Z04093\",\"Z04099\",\"Z04110\",\"Z04610\"]]]}}},\"view\":{\"type\":\"object\",\"name\":\"CDSView\",\"id\":\"6211e59d-8f18-4da0-820d-a4a637152fae\",\"attributes\":{\"filter\":{\"type\":\"object\",\"name\":\"AllIndices\",\"id\":\"2823e795-5937-4416-a5ec-b4c7b241e8f0\"}}},\"glyph\":{\"type\":\"object\",\"name\":\"Scatter\",\"id\":\"e19eebb7-17ba-482e-8d8e-02c59882a567\",\"attributes\":{\"tags\":[\"apply_ranges\"],\"x\":{\"type\":\"field\",\"field\":\"lon\"},\"y\":{\"type\":\"field\",\"field\":\"lat\"},\"size\":{\"type\":\"value\",\"value\":5.477225575051661},\"line_color\":{\"type\":\"value\",\"value\":\"#30a2da\"},\"fill_color\":{\"type\":\"value\",\"value\":\"#30a2da\"},\"hatch_color\":{\"type\":\"value\",\"value\":\"#30a2da\"}}},\"selection_glyph\":{\"type\":\"object\",\"name\":\"Scatter\",\"id\":\"75b54596-3e78-4315-81f8-ec6f2aae767b\",\"attributes\":{\"tags\":[\"apply_ranges\"],\"x\":{\"type\":\"field\",\"field\":\"lon\"},\"y\":{\"type\":\"field\",\"field\":\"lat\"},\"size\":{\"type\":\"value\",\"value\":5.477225575051661},\"angle\":{\"type\":\"value\",\"value\":0.0},\"line_color\":{\"type\":\"value\",\"value\":\"#30a2da\"},\"line_alpha\":{\"type\":\"value\",\"value\":1.0},\"line_width\":{\"type\":\"value\",\"value\":1},\"line_join\":{\"type\":\"value\",\"value\":\"bevel\"},\"line_cap\":{\"type\":\"value\",\"value\":\"butt\"},\"line_dash\":{\"type\":\"value\",\"value\":[]},\"line_dash_offset\":{\"type\":\"value\",\"value\":0},\"fill_color\":{\"type\":\"value\",\"value\":\"#30a2da\"},\"fill_alpha\":{\"type\":\"value\",\"value\":1.0},\"hatch_color\":{\"type\":\"value\",\"value\":\"#30a2da\"},\"hatch_alpha\":{\"type\":\"value\",\"value\":1.0},\"hatch_scale\":{\"type\":\"value\",\"value\":12.0},\"hatch_pattern\":{\"type\":\"value\",\"value\":null},\"hatch_weight\":{\"type\":\"value\",\"value\":1.0},\"marker\":{\"type\":\"value\",\"value\":\"circle\"}}},\"nonselection_glyph\":{\"type\":\"object\",\"name\":\"Scatter\",\"id\":\"292c9121-98f7-4012-b63c-35a193ad527a\",\"attributes\":{\"tags\":[\"apply_ranges\"],\"x\":{\"type\":\"field\",\"field\":\"lon\"},\"y\":{\"type\":\"field\",\"field\":\"lat\"},\"size\":{\"type\":\"value\",\"value\":5.477225575051661},\"line_color\":{\"type\":\"value\",\"value\":\"#30a2da\"},\"line_alpha\":{\"type\":\"value\",\"value\":0.1},\"fill_color\":{\"type\":\"value\",\"value\":\"#30a2da\"},\"fill_alpha\":{\"type\":\"value\",\"value\":0.1},\"hatch_color\":{\"type\":\"value\",\"value\":\"#30a2da\"},\"hatch_alpha\":{\"type\":\"value\",\"value\":0.1}}},\"muted_glyph\":{\"type\":\"object\",\"name\":\"Scatter\",\"id\":\"1677cd08-909a-40a3-a1d1-820a595c6326\",\"attributes\":{\"tags\":[\"apply_ranges\"],\"x\":{\"type\":\"field\",\"field\":\"lon\"},\"y\":{\"type\":\"field\",\"field\":\"lat\"},\"size\":{\"type\":\"value\",\"value\":5.477225575051661},\"line_color\":{\"type\":\"value\",\"value\":\"#30a2da\"},\"line_alpha\":{\"type\":\"value\",\"value\":0.2},\"fill_color\":{\"type\":\"value\",\"value\":\"#30a2da\"},\"fill_alpha\":{\"type\":\"value\",\"value\":0.2},\"hatch_color\":{\"type\":\"value\",\"value\":\"#30a2da\"},\"hatch_alpha\":{\"type\":\"value\",\"value\":0.2}}}}}],\"toolbar\":{\"type\":\"object\",\"name\":\"Toolbar\",\"id\":\"3312e6a8-4102-486c-87e8-a4f5aebe43ea\",\"attributes\":{\"tools\":[{\"type\":\"object\",\"name\":\"WheelZoomTool\",\"id\":\"219f92e4-b0f7-4650-b4da-fd5415c3d7a2\",\"attributes\":{\"tags\":[\"hv_created\"],\"renderers\":\"auto\",\"zoom_on_axis\":false,\"zoom_together\":\"none\"}},{\"type\":\"object\",\"name\":\"HoverTool\",\"id\":\"9ab64c2c-406a-4a39-9611-6b9697905db7\",\"attributes\":{\"tags\":[\"hv_created\"],\"renderers\":[{\"id\":\"a3dd3866-64ff-4d5a-b9a5-6a30744d5e48\"}],\"tooltips\":[[\"lon\",\"$x{custom}\"],[\"lat\",\"$y{custom}\"],[\"station\",\"@{station}\"]],\"formatters\":{\"type\":\"map\",\"entries\":[[\"$x\",{\"type\":\"object\",\"name\":\"CustomJSHover\",\"id\":\"5c0fe9a2-2dd9-4391-bb94-1856e6395630\",\"attributes\":{\"code\":\"\\n        const projections = Bokeh.require(\\\"core/util/projections\\\");\\n        const {snap_x, snap_y} = special_vars\\n        const coords = projections.wgs84_mercator.invert(snap_x, snap_y)\\n        return \\\"\\\" + (coords[0]).toFixed(4)\\n    \"}}],[\"$y\",{\"type\":\"object\",\"name\":\"CustomJSHover\",\"id\":\"1beda35c-67be-45f4-8de4-d7bbd6f90afe\",\"attributes\":{\"code\":\"\\n        const projections = Bokeh.require(\\\"core/util/projections\\\");\\n        const {snap_x, snap_y} = special_vars\\n        const coords = projections.wgs84_mercator.invert(snap_x, snap_y)\\n        return \\\"\\\" + (coords[1]).toFixed(4)\\n    \"}}]]}}},{\"type\":\"object\",\"name\":\"SaveTool\",\"id\":\"7e78418a-4ff6-49ef-b13d-159e474c5042\"},{\"type\":\"object\",\"name\":\"PanTool\",\"id\":\"fe70cc00-912f-4fb0-8bdb-bcfe93e73290\"},{\"type\":\"object\",\"name\":\"BoxZoomTool\",\"id\":\"b7c40e94-2037-4e8c-baf4-8a0756cb8e7e\",\"attributes\":{\"dimensions\":\"both\",\"overlay\":{\"type\":\"object\",\"name\":\"BoxAnnotation\",\"id\":\"a8490915-1b5e-42ae-a13b-9a07f3cfeb59\",\"attributes\":{\"syncable\":false,\"line_color\":\"black\",\"line_alpha\":1.0,\"line_width\":2,\"line_dash\":[4,4],\"fill_color\":\"lightgrey\",\"fill_alpha\":0.5,\"level\":\"overlay\",\"visible\":false,\"left\":{\"type\":\"number\",\"value\":\"nan\"},\"right\":{\"type\":\"number\",\"value\":\"nan\"},\"top\":{\"type\":\"number\",\"value\":\"nan\"},\"bottom\":{\"type\":\"number\",\"value\":\"nan\"},\"left_units\":\"canvas\",\"right_units\":\"canvas\",\"top_units\":\"canvas\",\"bottom_units\":\"canvas\",\"handles\":{\"type\":\"object\",\"name\":\"BoxInteractionHandles\",\"id\":\"1a01a939-0fce-4538-945d-cf2959157c7c\",\"attributes\":{\"all\":{\"type\":\"object\",\"name\":\"AreaVisuals\",\"id\":\"39cfe315-a6a8-4003-8cca-c342481cf2fb\",\"attributes\":{\"fill_color\":\"white\",\"hover_fill_color\":\"lightgray\"}}}}}},\"match_aspect\":true}},{\"type\":\"object\",\"name\":\"ResetTool\",\"id\":\"7822ce2e-b88c-4a2e-8b87-cb9bec4dcd91\"},{\"type\":\"object\",\"name\":\"BoxSelectTool\",\"id\":\"d5d4d778-cd8f-4b14-abb1-915cb8d4d20b\",\"attributes\":{\"renderers\":\"auto\",\"overlay\":{\"type\":\"object\",\"name\":\"BoxAnnotation\",\"id\":\"11ffef35-0909-4990-8865-91e209729aa6\",\"attributes\":{\"syncable\":false,\"line_color\":\"black\",\"line_alpha\":1.0,\"line_width\":2,\"line_dash\":[4,4],\"fill_color\":\"lightgrey\",\"fill_alpha\":0.5,\"level\":\"overlay\",\"visible\":false,\"left\":{\"type\":\"number\",\"value\":\"nan\"},\"right\":{\"type\":\"number\",\"value\":\"nan\"},\"top\":{\"type\":\"number\",\"value\":\"nan\"},\"bottom\":{\"type\":\"number\",\"value\":\"nan\"},\"editable\":true,\"handles\":{\"type\":\"object\",\"name\":\"BoxInteractionHandles\",\"id\":\"34dc2298-52d5-4796-8119-d37f32c96e1a\",\"attributes\":{\"all\":{\"type\":\"object\",\"name\":\"AreaVisuals\",\"id\":\"efafccba-8ec2-4886-b8da-e0a82f1f9c71\",\"attributes\":{\"fill_color\":\"white\",\"hover_fill_color\":\"lightgray\"}}}}}}}}],\"active_drag\":{\"id\":\"fe70cc00-912f-4fb0-8bdb-bcfe93e73290\"}}},\"left\":[{\"type\":\"object\",\"name\":\"LinearAxis\",\"id\":\"2e0432fe-98f7-457a-840c-36866e53af12\",\"attributes\":{\"ticker\":{\"type\":\"object\",\"name\":\"MercatorTicker\",\"id\":\"b54174c3-b294-4b5c-97c1-fa60f9a11982\",\"attributes\":{\"mantissas\":[1,2,5],\"dimension\":\"lat\"}},\"formatter\":{\"type\":\"object\",\"name\":\"MercatorTickFormatter\",\"id\":\"b27478d5-9e43-4a73-9600-dc8c6803b768\",\"attributes\":{\"dimension\":\"lat\"}},\"axis_label\":\"y\",\"major_label_policy\":{\"type\":\"object\",\"name\":\"AllLabels\",\"id\":\"bb122271-37d6-4451-be0e-6d1f3da92ac2\"}}}],\"below\":[{\"type\":\"object\",\"name\":\"LinearAxis\",\"id\":\"d3a82d81-8d3d-4bf0-8b8b-aeb4eae0f23e\",\"attributes\":{\"ticker\":{\"type\":\"object\",\"name\":\"MercatorTicker\",\"id\":\"19b1af53-de29-4c49-9aa4-fef1b66b773e\",\"attributes\":{\"mantissas\":[1,2,5],\"dimension\":\"lon\"}},\"formatter\":{\"type\":\"object\",\"name\":\"MercatorTickFormatter\",\"id\":\"588be6cc-0bc3-48f6-a845-571446825edc\",\"attributes\":{\"dimension\":\"lon\"}},\"axis_label\":\"x\",\"major_label_policy\":{\"type\":\"object\",\"name\":\"AllLabels\",\"id\":\"d0325c69-d58e-4d2b-9992-ba0f13081c5a\"}}}],\"center\":[{\"type\":\"object\",\"name\":\"Grid\",\"id\":\"8184be85-7454-42f4-9a7f-6ed5863a16a5\",\"attributes\":{\"axis\":{\"id\":\"d3a82d81-8d3d-4bf0-8b8b-aeb4eae0f23e\"},\"grid_line_color\":null}},{\"type\":\"object\",\"name\":\"Grid\",\"id\":\"ffc5d756-c9d3-4ade-a643-8147f786cb60\",\"attributes\":{\"dimension\":1,\"axis\":{\"id\":\"2e0432fe-98f7-457a-840c-36866e53af12\"},\"grid_line_color\":null}}],\"frame_width\":800,\"frame_height\":600,\"min_border_top\":10,\"min_border_bottom\":10,\"min_border_left\":10,\"min_border_right\":10,\"output_backend\":\"webgl\",\"match_aspect\":true}},{\"type\":\"object\",\"name\":\"panel.models.widgets.Button\",\"id\":\"29bd90d1-cfdb-4335-86d3-f6e2091c685f\",\"attributes\":{\"button_type\":\"primary\",\"subscribed_events\":{\"type\":\"set\",\"entries\":[\"button_click\"]},\"css_classes\":[\"solid\"],\"stylesheets\":[\"\\n:host(.pn-loading):before, .pn-loading:before {\\n  background-color: #c3c3c3;\\n  mask-size: auto calc(min(50%, 400px));\\n  -webkit-mask-size: auto calc(min(50%, 400px));\\n}\",{\"id\":\"720f99df-7a84-4140-8610-3d5bb6c977cb\"},{\"type\":\"object\",\"name\":\"ImportedStyleSheet\",\"id\":\"f89aa441-f80d-4f35-a33a-0b32cb63abef\",\"attributes\":{\"url\":\"https://cdn.holoviz.org/panel/1.7.5/dist/css/button.css\"}},{\"id\":\"2ad09be2-2d8b-4d66-93db-1ab549a804f2\"},{\"id\":\"dfc145d6-8336-4883-b527-f4a310e9cd89\"}],\"margin\":[5,10],\"align\":\"start\",\"label\":\"Apply\"}},{\"type\":\"object\",\"name\":\"panel.models.markup.HTML\",\"id\":\"1e62901f-7ee8-499c-b01f-fbae6dd31659\",\"attributes\":{\"css_classes\":[\"markdown\"],\"stylesheets\":[\"\\n:host(.pn-loading):before, .pn-loading:before {\\n  background-color: #c3c3c3;\\n  mask-size: auto calc(min(50%, 400px));\\n  -webkit-mask-size: auto calc(min(50%, 400px));\\n}\",{\"id\":\"720f99df-7a84-4140-8610-3d5bb6c977cb\"},{\"type\":\"object\",\"name\":\"ImportedStyleSheet\",\"id\":\"191a103b-d742-437b-98f4-c768389446d8\",\"attributes\":{\"url\":\"https://cdn.holoviz.org/panel/1.7.5/dist/css/markdown.css\"}},{\"id\":\"2ad09be2-2d8b-4d66-93db-1ab549a804f2\"},{\"id\":\"dfc145d6-8336-4883-b527-f4a310e9cd89\"}],\"margin\":[5,10],\"align\":\"start\"}}]}},{\"type\":\"object\",\"name\":\"panel.models.comm_manager.CommManager\",\"id\":\"fdb02800-518c-4558-ac84-ce7eddbf8ebe\",\"attributes\":{\"plot_id\":\"755a8406-b23f-4dc9-852c-d19e3ff701ad\",\"comm_id\":\"3c87aefb049346078d00476a30f1f799\",\"client_comm_id\":\"721c057c012249039ebbbe8a79accbaf\"}}],\"defs\":[{\"type\":\"model\",\"name\":\"ReactiveHTML1\"},{\"type\":\"model\",\"name\":\"FlexBox1\",\"properties\":[{\"name\":\"align_content\",\"kind\":\"Any\",\"default\":\"flex-start\"},{\"name\":\"align_items\",\"kind\":\"Any\",\"default\":\"flex-start\"},{\"name\":\"flex_direction\",\"kind\":\"Any\",\"default\":\"row\"},{\"name\":\"flex_wrap\",\"kind\":\"Any\",\"default\":\"wrap\"},{\"name\":\"gap\",\"kind\":\"Any\",\"default\":\"\"},{\"name\":\"justify_content\",\"kind\":\"Any\",\"default\":\"flex-start\"}]},{\"type\":\"model\",\"name\":\"FloatPanel1\",\"properties\":[{\"name\":\"config\",\"kind\":\"Any\",\"default\":{\"type\":\"map\"}},{\"name\":\"contained\",\"kind\":\"Any\",\"default\":true},{\"name\":\"position\",\"kind\":\"Any\",\"default\":\"right-top\"},{\"name\":\"offsetx\",\"kind\":\"Any\",\"default\":null},{\"name\":\"offsety\",\"kind\":\"Any\",\"default\":null},{\"name\":\"theme\",\"kind\":\"Any\",\"default\":\"primary\"},{\"name\":\"status\",\"kind\":\"Any\",\"default\":\"normalized\"}]},{\"type\":\"model\",\"name\":\"GridStack1\",\"properties\":[{\"name\":\"ncols\",\"kind\":\"Any\",\"default\":null},{\"name\":\"nrows\",\"kind\":\"Any\",\"default\":null},{\"name\":\"allow_resize\",\"kind\":\"Any\",\"default\":true},{\"name\":\"allow_drag\",\"kind\":\"Any\",\"default\":true},{\"name\":\"state\",\"kind\":\"Any\",\"default\":[]}]},{\"type\":\"model\",\"name\":\"drag1\",\"properties\":[{\"name\":\"slider_width\",\"kind\":\"Any\",\"default\":5},{\"name\":\"slider_color\",\"kind\":\"Any\",\"default\":\"black\"},{\"name\":\"value\",\"kind\":\"Any\",\"default\":50}]},{\"type\":\"model\",\"name\":\"click1\",\"properties\":[{\"name\":\"terminal_output\",\"kind\":\"Any\",\"default\":\"\"},{\"name\":\"debug_name\",\"kind\":\"Any\",\"default\":\"\"},{\"name\":\"clears\",\"kind\":\"Any\",\"default\":0}]},{\"type\":\"model\",\"name\":\"ReactiveESM1\",\"properties\":[{\"name\":\"esm_constants\",\"kind\":\"Any\",\"default\":{\"type\":\"map\"}}]},{\"type\":\"model\",\"name\":\"JSComponent1\",\"properties\":[{\"name\":\"esm_constants\",\"kind\":\"Any\",\"default\":{\"type\":\"map\"}}]},{\"type\":\"model\",\"name\":\"ReactComponent1\",\"properties\":[{\"name\":\"use_shadow_dom\",\"kind\":\"Any\",\"default\":true},{\"name\":\"esm_constants\",\"kind\":\"Any\",\"default\":{\"type\":\"map\"}}]},{\"type\":\"model\",\"name\":\"AnyWidgetComponent1\",\"properties\":[{\"name\":\"use_shadow_dom\",\"kind\":\"Any\",\"default\":true},{\"name\":\"esm_constants\",\"kind\":\"Any\",\"default\":{\"type\":\"map\"}}]},{\"type\":\"model\",\"name\":\"FastWrapper1\",\"properties\":[{\"name\":\"object\",\"kind\":\"Any\",\"default\":null},{\"name\":\"style\",\"kind\":\"Any\",\"default\":null}]},{\"type\":\"model\",\"name\":\"NotificationArea1\",\"properties\":[{\"name\":\"js_events\",\"kind\":\"Any\",\"default\":{\"type\":\"map\"}},{\"name\":\"max_notifications\",\"kind\":\"Any\",\"default\":5},{\"name\":\"notifications\",\"kind\":\"Any\",\"default\":[]},{\"name\":\"position\",\"kind\":\"Any\",\"default\":\"bottom-right\"},{\"name\":\"_clear\",\"kind\":\"Any\",\"default\":0},{\"name\":\"types\",\"kind\":\"Any\",\"default\":[{\"type\":\"map\",\"entries\":[[\"type\",\"warning\"],[\"background\",\"#ffc107\"],[\"icon\",{\"type\":\"map\",\"entries\":[[\"className\",\"fas fa-exclamation-triangle\"],[\"tagName\",\"i\"],[\"color\",\"white\"]]}]]},{\"type\":\"map\",\"entries\":[[\"type\",\"info\"],[\"background\",\"#007bff\"],[\"icon\",{\"type\":\"map\",\"entries\":[[\"className\",\"fas fa-info-circle\"],[\"tagName\",\"i\"],[\"color\",\"white\"]]}]]}]}]},{\"type\":\"model\",\"name\":\"Notification\",\"properties\":[{\"name\":\"background\",\"kind\":\"Any\",\"default\":null},{\"name\":\"duration\",\"kind\":\"Any\",\"default\":3000},{\"name\":\"icon\",\"kind\":\"Any\",\"default\":null},{\"name\":\"message\",\"kind\":\"Any\",\"default\":\"\"},{\"name\":\"notification_type\",\"kind\":\"Any\",\"default\":null},{\"name\":\"_rendered\",\"kind\":\"Any\",\"default\":false},{\"name\":\"_destroyed\",\"kind\":\"Any\",\"default\":false}]},{\"type\":\"model\",\"name\":\"TemplateActions1\",\"properties\":[{\"name\":\"open_modal\",\"kind\":\"Any\",\"default\":0},{\"name\":\"close_modal\",\"kind\":\"Any\",\"default\":0}]},{\"type\":\"model\",\"name\":\"BootstrapTemplateActions1\",\"properties\":[{\"name\":\"open_modal\",\"kind\":\"Any\",\"default\":0},{\"name\":\"close_modal\",\"kind\":\"Any\",\"default\":0}]},{\"type\":\"model\",\"name\":\"TemplateEditor1\",\"properties\":[{\"name\":\"layout\",\"kind\":\"Any\",\"default\":[]}]},{\"type\":\"model\",\"name\":\"MaterialTemplateActions1\",\"properties\":[{\"name\":\"open_modal\",\"kind\":\"Any\",\"default\":0},{\"name\":\"close_modal\",\"kind\":\"Any\",\"default\":0}]},{\"type\":\"model\",\"name\":\"request_value1\",\"properties\":[{\"name\":\"fill\",\"kind\":\"Any\",\"default\":\"none\"},{\"name\":\"_synced\",\"kind\":\"Any\",\"default\":null},{\"name\":\"_request_sync\",\"kind\":\"Any\",\"default\":0}]},{\"type\":\"model\",\"name\":\"holoviews.plotting.bokeh.raster.HoverModel\",\"properties\":[{\"name\":\"xy\",\"kind\":\"Any\",\"default\":null},{\"name\":\"data\",\"kind\":\"Any\",\"default\":null}]}]}};\n",
       "  var render_items = [{\"docid\":\"fab2a819-5475-44e0-9961-0727604f3b25\",\"roots\":{\"755a8406-b23f-4dc9-852c-d19e3ff701ad\":\"f3708c11-0deb-4902-8c8e-e41461467a69\"},\"root_ids\":[\"755a8406-b23f-4dc9-852c-d19e3ff701ad\"]}];\n",
       "  var docs = Object.values(docs_json)\n",
       "  if (!docs) {\n",
       "    return\n",
       "  }\n",
       "  const py_version = docs[0].version.replace('rc', '-rc.').replace('.dev', '-dev.')\n",
       "  async function embed_document(root) {\n",
       "    var Bokeh = get_bokeh(root)\n",
       "    await Bokeh.embed.embed_items_notebook(docs_json, render_items);\n",
       "    for (const render_item of render_items) {\n",
       "      for (const root_id of render_item.root_ids) {\n",
       "\tconst id_el = document.getElementById(root_id)\n",
       "\tif (id_el.children.length && id_el.children[0].hasAttribute('data-root-id')) {\n",
       "\t  const root_el = id_el.children[0]\n",
       "\t  root_el.id = root_el.id + '-rendered'\n",
       "\t  for (const child of root_el.children) {\n",
       "            // Ensure JupyterLab does not capture keyboard shortcuts\n",
       "            // see: https://jupyterlab.readthedocs.io/en/4.1.x/extension/notebook.html#keyboard-interaction-model\n",
       "\t    child.setAttribute('data-lm-suppress-shortcuts', 'true')\n",
       "\t  }\n",
       "\t}\n",
       "      }\n",
       "    }\n",
       "  }\n",
       "  function get_bokeh(root) {\n",
       "    if (root.Bokeh === undefined) {\n",
       "      return null\n",
       "    } else if (root.Bokeh.version !== py_version) {\n",
       "      if (root.Bokeh.versions === undefined || !root.Bokeh.versions.has(py_version)) {\n",
       "\treturn null\n",
       "      }\n",
       "      return root.Bokeh.versions.get(py_version);\n",
       "    } else if (root.Bokeh.version === py_version) {\n",
       "      return root.Bokeh\n",
       "    }\n",
       "    return null\n",
       "  }\n",
       "  function is_loaded(root) {\n",
       "    var Bokeh = get_bokeh(root)\n",
       "    return (Bokeh != null && Bokeh.Panel !== undefined)\n",
       "  }\n",
       "  if (is_loaded(root)) {\n",
       "    embed_document(root);\n",
       "  } else {\n",
       "    var attempts = 0;\n",
       "    var timer = setInterval(function(root) {\n",
       "      if (is_loaded(root)) {\n",
       "        clearInterval(timer);\n",
       "        embed_document(root);\n",
       "      } else if (document.readyState == \"complete\") {\n",
       "        attempts++;\n",
       "        if (attempts > 200) {\n",
       "          clearInterval(timer);\n",
       "\t  var Bokeh = get_bokeh(root)\n",
       "\t  if (Bokeh == null || Bokeh.Panel == null) {\n",
       "            console.warn(\"Panel: ERROR: Unable to run Panel code because Bokeh or Panel library is missing\");\n",
       "\t  } else {\n",
       "\t    console.warn(\"Panel: WARNING: Attempting to render but not all required libraries could be resolved.\")\n",
       "\t    embed_document(root)\n",
       "\t  }\n",
       "        }\n",
       "      }\n",
       "    }, 25, root)\n",
       "  }\n",
       "})(window);</script>"
      ],
      "text/plain": [
       "Column\n",
       "    [0] HoloViews(Overlay, height=600, sizing_mode='fixed', width=800)\n",
       "    [1] Button(button_type='primary', name='Apply')\n",
       "    [2] Markdown(str)"
      ]
     },
     "metadata": {
      "application/vnd.holoviews_exec.v0+json": {
       "id": "755a8406-b23f-4dc9-852c-d19e3ff701ad"
      }
     },
     "output_type": "display_data"
    }
   ],
   "source": [
    "bbox_selector = build_bbox_selector(catalog)"
   ]
  },
  {
   "cell_type": "code",
   "execution_count": 23,
   "id": "b79b4eb6",
   "metadata": {},
   "outputs": [],
   "source": [
    "import pandas"
   ]
  },
  {
   "cell_type": "code",
   "execution_count": 24,
   "id": "51317530",
   "metadata": {},
   "outputs": [
    {
     "data": {
      "text/plain": [
       "'2.3.2'"
      ]
     },
     "execution_count": 24,
     "metadata": {},
     "output_type": "execute_result"
    }
   ],
   "source": [
    "pandas.__version__"
   ]
  },
  {
   "cell_type": "code",
   "execution_count": 12,
   "id": "41d349ba",
   "metadata": {},
   "outputs": [
    {
     "name": "stdout",
     "output_type": "stream",
     "text": [
      "Help on function filter_catalog in module fresca_catalog.catalog:\n",
      "\n",
      "filter_catalog(catalog: intake.readers.entry.Catalog, entry_names: List[str] = None, variables: List[str] = None, time_range: Tuple[str, str] = None, bbox: Tuple[float, float, float, float] = None) -> intake.readers.entry.Catalog\n",
      "    Filters a catalog based on the provided criteria.\n",
      "    \n",
      "    Parameters\n",
      "    ----------\n",
      "    catalog : Catalog\n",
      "        The catalog to filter.\n",
      "    entries : list, optional\n",
      "        The entries to be used for filtering.\n",
      "    variables : list, optional\n",
      "        The variables to be used for filtering.\n",
      "    time_range : list, optional\n",
      "        The time range to be used for filtering, formatted as [min_time, max_time].\n",
      "    bbox : list, optional\n",
      "        The bounding box to be used for filtering, formatted as [min_lon, min_lat, max_lon, max_lat].\n",
      "    \n",
      "    Returns\n",
      "    -------\n",
      "    Catalog\n",
      "        The filtered catalog.\n",
      "\n"
     ]
    }
   ],
   "source": [
    "help(filter_catalog)"
   ]
  },
  {
   "cell_type": "code",
   "execution_count": 13,
   "id": "be084ba3",
   "metadata": {},
   "outputs": [
    {
     "data": {
      "text/plain": [
       "Catalog\n",
       " named datasets: ['all_ctd', 'carbonate', 'sfer']"
      ]
     },
     "execution_count": 13,
     "metadata": {},
     "output_type": "execute_result"
    }
   ],
   "source": [
    "filtered_catalog = filter_catalog(\n",
    "    catalog,\n",
    "    # entries=entries_selector.result,\n",
    "    variables=variables_selector.result,\n",
    "    time_range=time_range_selector.result,\n",
    "    bbox=bbox_selector.result\n",
    ")\n",
    "filtered_catalog"
   ]
  },
  {
   "cell_type": "code",
   "execution_count": 14,
   "id": "583d4f10",
   "metadata": {},
   "outputs": [
    {
     "data": {
      "text/html": [
       "<div>\n",
       "<style scoped>\n",
       "    .dataframe tbody tr th:only-of-type {\n",
       "        vertical-align: middle;\n",
       "    }\n",
       "\n",
       "    .dataframe tbody tr th {\n",
       "        vertical-align: top;\n",
       "    }\n",
       "\n",
       "    .dataframe thead th {\n",
       "        text-align: right;\n",
       "    }\n",
       "</style>\n",
       "<table border=\"1\" class=\"dataframe\">\n",
       "  <thead>\n",
       "    <tr style=\"text-align: right;\">\n",
       "      <th></th>\n",
       "      <th>station</th>\n",
       "      <th>date_start</th>\n",
       "      <th>date_end</th>\n",
       "      <th>lon</th>\n",
       "      <th>lat</th>\n",
       "      <th>total_casts</th>\n",
       "      <th>max_depths</th>\n",
       "      <th>median_depths</th>\n",
       "    </tr>\n",
       "  </thead>\n",
       "  <tbody>\n",
       "    <tr>\n",
       "      <th>0</th>\n",
       "      <td>58</td>\n",
       "      <td>2006-01-18</td>\n",
       "      <td>2021-06-05</td>\n",
       "      <td>-81.653875</td>\n",
       "      <td>25.166403</td>\n",
       "      <td>48</td>\n",
       "      <td>35</td>\n",
       "      <td>19</td>\n",
       "    </tr>\n",
       "    <tr>\n",
       "      <th>1</th>\n",
       "      <td>59</td>\n",
       "      <td>2006-01-18</td>\n",
       "      <td>2018-10-19</td>\n",
       "      <td>-81.498136</td>\n",
       "      <td>25.166614</td>\n",
       "      <td>22</td>\n",
       "      <td>22</td>\n",
       "      <td>12</td>\n",
       "    </tr>\n",
       "    <tr>\n",
       "      <th>2</th>\n",
       "      <td>60</td>\n",
       "      <td>2006-01-18</td>\n",
       "      <td>2022-10-14</td>\n",
       "      <td>-81.335901</td>\n",
       "      <td>25.166635</td>\n",
       "      <td>52</td>\n",
       "      <td>10</td>\n",
       "      <td>7</td>\n",
       "    </tr>\n",
       "    <tr>\n",
       "      <th>3</th>\n",
       "      <td>61</td>\n",
       "      <td>2006-01-18</td>\n",
       "      <td>2017-10-11</td>\n",
       "      <td>-81.274400</td>\n",
       "      <td>25.166867</td>\n",
       "      <td>5</td>\n",
       "      <td>7</td>\n",
       "      <td>7</td>\n",
       "    </tr>\n",
       "    <tr>\n",
       "      <th>4</th>\n",
       "      <td>62</td>\n",
       "      <td>2006-01-18</td>\n",
       "      <td>2018-08-09</td>\n",
       "      <td>-81.234971</td>\n",
       "      <td>25.166490</td>\n",
       "      <td>17</td>\n",
       "      <td>5</td>\n",
       "      <td>3</td>\n",
       "    </tr>\n",
       "    <tr>\n",
       "      <th>...</th>\n",
       "      <td>...</td>\n",
       "      <td>...</td>\n",
       "      <td>...</td>\n",
       "      <td>...</td>\n",
       "      <td>...</td>\n",
       "      <td>...</td>\n",
       "      <td>...</td>\n",
       "      <td>...</td>\n",
       "    </tr>\n",
       "    <tr>\n",
       "      <th>470</th>\n",
       "      <td>.CW5</td>\n",
       "      <td>2023-03-07</td>\n",
       "      <td>2023-03-07</td>\n",
       "      <td>-83.239167</td>\n",
       "      <td>28.010500</td>\n",
       "      <td>1</td>\n",
       "      <td>37</td>\n",
       "      <td>37</td>\n",
       "    </tr>\n",
       "    <tr>\n",
       "      <th>471</th>\n",
       "      <td>.CW6</td>\n",
       "      <td>2023-03-07</td>\n",
       "      <td>2023-03-07</td>\n",
       "      <td>-83.403500</td>\n",
       "      <td>28.010500</td>\n",
       "      <td>1</td>\n",
       "      <td>50</td>\n",
       "      <td>50</td>\n",
       "    </tr>\n",
       "    <tr>\n",
       "      <th>472</th>\n",
       "      <td>.CW7</td>\n",
       "      <td>2023-03-07</td>\n",
       "      <td>2023-03-07</td>\n",
       "      <td>-83.567833</td>\n",
       "      <td>28.011833</td>\n",
       "      <td>1</td>\n",
       "      <td>61</td>\n",
       "      <td>61</td>\n",
       "    </tr>\n",
       "    <tr>\n",
       "      <th>473</th>\n",
       "      <td>.ROME4</td>\n",
       "      <td>2023-03-07</td>\n",
       "      <td>2023-03-07</td>\n",
       "      <td>-82.921167</td>\n",
       "      <td>27.649667</td>\n",
       "      <td>1</td>\n",
       "      <td>16</td>\n",
       "      <td>16</td>\n",
       "    </tr>\n",
       "    <tr>\n",
       "      <th>474</th>\n",
       "      <td>.ROME5</td>\n",
       "      <td>2023-03-07</td>\n",
       "      <td>2023-03-07</td>\n",
       "      <td>-82.839500</td>\n",
       "      <td>27.648333</td>\n",
       "      <td>1</td>\n",
       "      <td>13</td>\n",
       "      <td>13</td>\n",
       "    </tr>\n",
       "  </tbody>\n",
       "</table>\n",
       "<p>475 rows × 8 columns</p>\n",
       "</div>"
      ],
      "text/plain": [
       "    station  date_start    date_end        lon        lat  total_casts  \\\n",
       "0        58  2006-01-18  2021-06-05 -81.653875  25.166403           48   \n",
       "1        59  2006-01-18  2018-10-19 -81.498136  25.166614           22   \n",
       "2        60  2006-01-18  2022-10-14 -81.335901  25.166635           52   \n",
       "3        61  2006-01-18  2017-10-11 -81.274400  25.166867            5   \n",
       "4        62  2006-01-18  2018-08-09 -81.234971  25.166490           17   \n",
       "..      ...         ...         ...        ...        ...          ...   \n",
       "470    .CW5  2023-03-07  2023-03-07 -83.239167  28.010500            1   \n",
       "471    .CW6  2023-03-07  2023-03-07 -83.403500  28.010500            1   \n",
       "472    .CW7  2023-03-07  2023-03-07 -83.567833  28.011833            1   \n",
       "473  .ROME4  2023-03-07  2023-03-07 -82.921167  27.649667            1   \n",
       "474  .ROME5  2023-03-07  2023-03-07 -82.839500  27.648333            1   \n",
       "\n",
       "     max_depths  median_depths  \n",
       "0            35             19  \n",
       "1            22             12  \n",
       "2            10              7  \n",
       "3             7              7  \n",
       "4             5              3  \n",
       "..          ...            ...  \n",
       "470          37             37  \n",
       "471          50             50  \n",
       "472          61             61  \n",
       "473          16             16  \n",
       "474          13             13  \n",
       "\n",
       "[475 rows x 8 columns]"
      ]
     },
     "metadata": {},
     "output_type": "display_data"
    }
   ],
   "source": [
    "summarize_entry_stations(catalog, 'all_ctd')"
   ]
  },
  {
   "cell_type": "code",
   "execution_count": 15,
   "id": "d73a16f8",
   "metadata": {},
   "outputs": [
    {
     "data": {
      "text/html": [
       "<div>\n",
       "<style scoped>\n",
       "    .dataframe tbody tr th:only-of-type {\n",
       "        vertical-align: middle;\n",
       "    }\n",
       "\n",
       "    .dataframe tbody tr th {\n",
       "        vertical-align: top;\n",
       "    }\n",
       "\n",
       "    .dataframe thead th {\n",
       "        text-align: right;\n",
       "    }\n",
       "</style>\n",
       "<table border=\"1\" class=\"dataframe\">\n",
       "  <thead>\n",
       "    <tr style=\"text-align: right;\">\n",
       "      <th></th>\n",
       "      <th>variable</th>\n",
       "      <th>date_start</th>\n",
       "      <th>date_end</th>\n",
       "      <th>lon_min</th>\n",
       "      <th>lon_max</th>\n",
       "      <th>lat_min</th>\n",
       "      <th>lat_max</th>\n",
       "      <th>total_stations</th>\n",
       "      <th>total_casts</th>\n",
       "      <th>mean_station_casts</th>\n",
       "      <th>median_station_casts</th>\n",
       "    </tr>\n",
       "  </thead>\n",
       "  <tbody>\n",
       "    <tr>\n",
       "      <th>0</th>\n",
       "      <td>scan</td>\n",
       "      <td>2006-01-18</td>\n",
       "      <td>2023-03-08</td>\n",
       "      <td>-84.062667</td>\n",
       "      <td>-80.067667</td>\n",
       "      <td>23.6660</td>\n",
       "      <td>28.018667</td>\n",
       "      <td>475</td>\n",
       "      <td>3199</td>\n",
       "      <td>6.9</td>\n",
       "      <td>3.0</td>\n",
       "    </tr>\n",
       "    <tr>\n",
       "      <th>1</th>\n",
       "      <td>salinity</td>\n",
       "      <td>2006-01-18</td>\n",
       "      <td>2023-03-08</td>\n",
       "      <td>-84.062667</td>\n",
       "      <td>-80.067667</td>\n",
       "      <td>23.6660</td>\n",
       "      <td>28.018667</td>\n",
       "      <td>475</td>\n",
       "      <td>3196</td>\n",
       "      <td>6.9</td>\n",
       "      <td>3.0</td>\n",
       "    </tr>\n",
       "    <tr>\n",
       "      <th>2</th>\n",
       "      <td>temperature</td>\n",
       "      <td>2006-01-18</td>\n",
       "      <td>2023-03-08</td>\n",
       "      <td>-84.062667</td>\n",
       "      <td>-80.067667</td>\n",
       "      <td>23.6660</td>\n",
       "      <td>28.018667</td>\n",
       "      <td>475</td>\n",
       "      <td>3199</td>\n",
       "      <td>6.9</td>\n",
       "      <td>3.0</td>\n",
       "    </tr>\n",
       "    <tr>\n",
       "      <th>3</th>\n",
       "      <td>pressure</td>\n",
       "      <td>2006-01-18</td>\n",
       "      <td>2023-03-08</td>\n",
       "      <td>-84.062667</td>\n",
       "      <td>-80.067667</td>\n",
       "      <td>23.6660</td>\n",
       "      <td>28.018667</td>\n",
       "      <td>475</td>\n",
       "      <td>3199</td>\n",
       "      <td>6.9</td>\n",
       "      <td>3.0</td>\n",
       "    </tr>\n",
       "    <tr>\n",
       "      <th>4</th>\n",
       "      <td>sea_water_electrical_conductivity</td>\n",
       "      <td>2006-01-18</td>\n",
       "      <td>2023-03-08</td>\n",
       "      <td>-84.062667</td>\n",
       "      <td>-80.067667</td>\n",
       "      <td>23.6660</td>\n",
       "      <td>28.018667</td>\n",
       "      <td>475</td>\n",
       "      <td>3196</td>\n",
       "      <td>6.9</td>\n",
       "      <td>3.0</td>\n",
       "    </tr>\n",
       "    <tr>\n",
       "      <th>5</th>\n",
       "      <td>CDOM</td>\n",
       "      <td>2018-03-08</td>\n",
       "      <td>2023-03-08</td>\n",
       "      <td>-83.567833</td>\n",
       "      <td>-80.081833</td>\n",
       "      <td>24.4745</td>\n",
       "      <td>28.017167</td>\n",
       "      <td>299</td>\n",
       "      <td>697</td>\n",
       "      <td>2.4</td>\n",
       "      <td>2.0</td>\n",
       "    </tr>\n",
       "    <tr>\n",
       "      <th>6</th>\n",
       "      <td>dissolved_oxygen</td>\n",
       "      <td>2006-01-18</td>\n",
       "      <td>2023-03-08</td>\n",
       "      <td>-84.062667</td>\n",
       "      <td>-80.067667</td>\n",
       "      <td>23.6660</td>\n",
       "      <td>28.018667</td>\n",
       "      <td>473</td>\n",
       "      <td>3151</td>\n",
       "      <td>6.8</td>\n",
       "      <td>3.0</td>\n",
       "    </tr>\n",
       "    <tr>\n",
       "      <th>7</th>\n",
       "      <td>oxygen_saturation</td>\n",
       "      <td>2006-01-18</td>\n",
       "      <td>2023-03-08</td>\n",
       "      <td>-84.062667</td>\n",
       "      <td>-80.067667</td>\n",
       "      <td>23.6660</td>\n",
       "      <td>28.018667</td>\n",
       "      <td>473</td>\n",
       "      <td>3151</td>\n",
       "      <td>6.8</td>\n",
       "      <td>3.0</td>\n",
       "    </tr>\n",
       "    <tr>\n",
       "      <th>8</th>\n",
       "      <td>chlorophyll_concentration</td>\n",
       "      <td>2018-03-08</td>\n",
       "      <td>2023-03-08</td>\n",
       "      <td>-83.567833</td>\n",
       "      <td>-80.081833</td>\n",
       "      <td>24.4745</td>\n",
       "      <td>28.017167</td>\n",
       "      <td>286</td>\n",
       "      <td>627</td>\n",
       "      <td>2.3</td>\n",
       "      <td>1.0</td>\n",
       "    </tr>\n",
       "    <tr>\n",
       "      <th>9</th>\n",
       "      <td>chlorophyll_fluorescence</td>\n",
       "      <td>2006-01-18</td>\n",
       "      <td>2023-03-08</td>\n",
       "      <td>-84.062667</td>\n",
       "      <td>-80.067667</td>\n",
       "      <td>23.6660</td>\n",
       "      <td>28.018667</td>\n",
       "      <td>412</td>\n",
       "      <td>3078</td>\n",
       "      <td>7.6</td>\n",
       "      <td>3.0</td>\n",
       "    </tr>\n",
       "    <tr>\n",
       "      <th>10</th>\n",
       "      <td>photosynthetically_available_radiation</td>\n",
       "      <td>2006-01-18</td>\n",
       "      <td>2023-03-08</td>\n",
       "      <td>-84.062667</td>\n",
       "      <td>-80.067667</td>\n",
       "      <td>23.6660</td>\n",
       "      <td>28.018667</td>\n",
       "      <td>411</td>\n",
       "      <td>2863</td>\n",
       "      <td>7.1</td>\n",
       "      <td>3.0</td>\n",
       "    </tr>\n",
       "    <tr>\n",
       "      <th>11</th>\n",
       "      <td>beam_attenuation</td>\n",
       "      <td>2006-01-18</td>\n",
       "      <td>2023-03-08</td>\n",
       "      <td>-84.062667</td>\n",
       "      <td>-80.067667</td>\n",
       "      <td>23.6660</td>\n",
       "      <td>28.018667</td>\n",
       "      <td>404</td>\n",
       "      <td>2900</td>\n",
       "      <td>7.3</td>\n",
       "      <td>3.0</td>\n",
       "    </tr>\n",
       "    <tr>\n",
       "      <th>12</th>\n",
       "      <td>beam_transmission</td>\n",
       "      <td>2006-01-18</td>\n",
       "      <td>2023-03-08</td>\n",
       "      <td>-84.062667</td>\n",
       "      <td>-80.067667</td>\n",
       "      <td>23.6660</td>\n",
       "      <td>28.018667</td>\n",
       "      <td>390</td>\n",
       "      <td>2481</td>\n",
       "      <td>6.5</td>\n",
       "      <td>3.0</td>\n",
       "    </tr>\n",
       "    <tr>\n",
       "      <th>13</th>\n",
       "      <td>depth</td>\n",
       "      <td>2006-01-18</td>\n",
       "      <td>2023-03-08</td>\n",
       "      <td>-84.062667</td>\n",
       "      <td>-80.067667</td>\n",
       "      <td>23.6660</td>\n",
       "      <td>28.018667</td>\n",
       "      <td>475</td>\n",
       "      <td>3199</td>\n",
       "      <td>6.9</td>\n",
       "      <td>3.0</td>\n",
       "    </tr>\n",
       "    <tr>\n",
       "      <th>14</th>\n",
       "      <td>sea_water_sigma_t</td>\n",
       "      <td>2006-01-18</td>\n",
       "      <td>2023-03-08</td>\n",
       "      <td>-84.062667</td>\n",
       "      <td>-80.067667</td>\n",
       "      <td>23.6660</td>\n",
       "      <td>28.018667</td>\n",
       "      <td>475</td>\n",
       "      <td>3196</td>\n",
       "      <td>6.9</td>\n",
       "      <td>3.0</td>\n",
       "    </tr>\n",
       "    <tr>\n",
       "      <th>15</th>\n",
       "      <td>sound_velocity</td>\n",
       "      <td>2006-01-18</td>\n",
       "      <td>2023-03-08</td>\n",
       "      <td>-84.062667</td>\n",
       "      <td>-80.067667</td>\n",
       "      <td>23.6660</td>\n",
       "      <td>28.018667</td>\n",
       "      <td>475</td>\n",
       "      <td>3196</td>\n",
       "      <td>6.9</td>\n",
       "      <td>3.0</td>\n",
       "    </tr>\n",
       "    <tr>\n",
       "      <th>16</th>\n",
       "      <td>altimeter</td>\n",
       "      <td>2006-01-18</td>\n",
       "      <td>2023-03-08</td>\n",
       "      <td>-84.062667</td>\n",
       "      <td>-80.067667</td>\n",
       "      <td>23.6660</td>\n",
       "      <td>28.018667</td>\n",
       "      <td>470</td>\n",
       "      <td>3108</td>\n",
       "      <td>6.8</td>\n",
       "      <td>3.0</td>\n",
       "    </tr>\n",
       "  </tbody>\n",
       "</table>\n",
       "</div>"
      ],
      "text/plain": [
       "                                  variable  date_start    date_end    lon_min  \\\n",
       "0                                     scan  2006-01-18  2023-03-08 -84.062667   \n",
       "1                                 salinity  2006-01-18  2023-03-08 -84.062667   \n",
       "2                              temperature  2006-01-18  2023-03-08 -84.062667   \n",
       "3                                 pressure  2006-01-18  2023-03-08 -84.062667   \n",
       "4        sea_water_electrical_conductivity  2006-01-18  2023-03-08 -84.062667   \n",
       "5                                     CDOM  2018-03-08  2023-03-08 -83.567833   \n",
       "6                         dissolved_oxygen  2006-01-18  2023-03-08 -84.062667   \n",
       "7                        oxygen_saturation  2006-01-18  2023-03-08 -84.062667   \n",
       "8                chlorophyll_concentration  2018-03-08  2023-03-08 -83.567833   \n",
       "9                 chlorophyll_fluorescence  2006-01-18  2023-03-08 -84.062667   \n",
       "10  photosynthetically_available_radiation  2006-01-18  2023-03-08 -84.062667   \n",
       "11                        beam_attenuation  2006-01-18  2023-03-08 -84.062667   \n",
       "12                       beam_transmission  2006-01-18  2023-03-08 -84.062667   \n",
       "13                                   depth  2006-01-18  2023-03-08 -84.062667   \n",
       "14                       sea_water_sigma_t  2006-01-18  2023-03-08 -84.062667   \n",
       "15                          sound_velocity  2006-01-18  2023-03-08 -84.062667   \n",
       "16                               altimeter  2006-01-18  2023-03-08 -84.062667   \n",
       "\n",
       "      lon_max  lat_min    lat_max  total_stations  total_casts  \\\n",
       "0  -80.067667  23.6660  28.018667             475         3199   \n",
       "1  -80.067667  23.6660  28.018667             475         3196   \n",
       "2  -80.067667  23.6660  28.018667             475         3199   \n",
       "3  -80.067667  23.6660  28.018667             475         3199   \n",
       "4  -80.067667  23.6660  28.018667             475         3196   \n",
       "5  -80.081833  24.4745  28.017167             299          697   \n",
       "6  -80.067667  23.6660  28.018667             473         3151   \n",
       "7  -80.067667  23.6660  28.018667             473         3151   \n",
       "8  -80.081833  24.4745  28.017167             286          627   \n",
       "9  -80.067667  23.6660  28.018667             412         3078   \n",
       "10 -80.067667  23.6660  28.018667             411         2863   \n",
       "11 -80.067667  23.6660  28.018667             404         2900   \n",
       "12 -80.067667  23.6660  28.018667             390         2481   \n",
       "13 -80.067667  23.6660  28.018667             475         3199   \n",
       "14 -80.067667  23.6660  28.018667             475         3196   \n",
       "15 -80.067667  23.6660  28.018667             475         3196   \n",
       "16 -80.067667  23.6660  28.018667             470         3108   \n",
       "\n",
       "    mean_station_casts  median_station_casts  \n",
       "0                  6.9                   3.0  \n",
       "1                  6.9                   3.0  \n",
       "2                  6.9                   3.0  \n",
       "3                  6.9                   3.0  \n",
       "4                  6.9                   3.0  \n",
       "5                  2.4                   2.0  \n",
       "6                  6.8                   3.0  \n",
       "7                  6.8                   3.0  \n",
       "8                  2.3                   1.0  \n",
       "9                  7.6                   3.0  \n",
       "10                 7.1                   3.0  \n",
       "11                 7.3                   3.0  \n",
       "12                 6.5                   3.0  \n",
       "13                 6.9                   3.0  \n",
       "14                 6.9                   3.0  \n",
       "15                 6.9                   3.0  \n",
       "16                 6.8                   3.0  "
      ]
     },
     "metadata": {},
     "output_type": "display_data"
    }
   ],
   "source": [
    "summarize_entry_variables(catalog, 'all_ctd')"
   ]
  },
  {
   "cell_type": "code",
   "execution_count": 16,
   "id": "df1979a6",
   "metadata": {},
   "outputs": [
    {
     "data": {},
     "metadata": {},
     "output_type": "display_data"
    },
    {
     "data": {
      "application/vnd.holoviews_exec.v0+json": "",
      "text/html": [
       "<div id='4bcafb71-f200-485b-a082-b45aadfcc28d'>\n",
       "  <div id=\"d0be2c17-4c6c-461a-9737-25486c02483c\" data-root-id=\"4bcafb71-f200-485b-a082-b45aadfcc28d\" style=\"display: contents;\"></div>\n",
       "</div>\n",
       "<script type=\"application/javascript\">(function(root) {\n",
       "  var docs_json = {\"818a601a-58bf-446e-a21c-5d5396a6f555\":{\"version\":\"3.7.3\",\"title\":\"Bokeh Application\",\"roots\":[{\"type\":\"object\",\"name\":\"Row\",\"id\":\"4bcafb71-f200-485b-a082-b45aadfcc28d\",\"attributes\":{\"name\":\"Row00475\",\"tags\":[\"embedded\"],\"stylesheets\":[\"\\n:host(.pn-loading):before, .pn-loading:before {\\n  background-color: #c3c3c3;\\n  mask-size: auto calc(min(50%, 400px));\\n  -webkit-mask-size: auto calc(min(50%, 400px));\\n}\",{\"type\":\"object\",\"name\":\"ImportedStyleSheet\",\"id\":\"f95d8134-1b71-4023-a176-35c478332c53\",\"attributes\":{\"url\":\"https://cdn.holoviz.org/panel/1.7.5/dist/css/loading.css\"}},{\"type\":\"object\",\"name\":\"ImportedStyleSheet\",\"id\":\"ef701d90-7935-41e9-bca9-3588c9901ef9\",\"attributes\":{\"url\":\"https://cdn.holoviz.org/panel/1.7.5/dist/css/listpanel.css\"}},{\"type\":\"object\",\"name\":\"ImportedStyleSheet\",\"id\":\"bd4d29cc-8123-43df-bf84-7e3e54fc7b73\",\"attributes\":{\"url\":\"https://cdn.holoviz.org/panel/1.7.5/dist/bundled/theme/default.css\"}},{\"type\":\"object\",\"name\":\"ImportedStyleSheet\",\"id\":\"fb452e31-54b4-4b6a-b974-441f7104be1b\",\"attributes\":{\"url\":\"https://cdn.holoviz.org/panel/1.7.5/dist/bundled/theme/native.css\"}}],\"min_width\":800,\"margin\":0,\"sizing_mode\":\"stretch_width\",\"align\":\"start\",\"children\":[{\"type\":\"object\",\"name\":\"Spacer\",\"id\":\"3b8007ce-07d3-4047-9148-4df2cbfba139\",\"attributes\":{\"name\":\"HSpacer00479\",\"stylesheets\":[\"\\n:host(.pn-loading):before, .pn-loading:before {\\n  background-color: #c3c3c3;\\n  mask-size: auto calc(min(50%, 400px));\\n  -webkit-mask-size: auto calc(min(50%, 400px));\\n}\",{\"id\":\"f95d8134-1b71-4023-a176-35c478332c53\"},{\"id\":\"bd4d29cc-8123-43df-bf84-7e3e54fc7b73\"},{\"id\":\"fb452e31-54b4-4b6a-b974-441f7104be1b\"}],\"min_width\":0,\"margin\":0,\"sizing_mode\":\"stretch_width\",\"align\":\"start\"}},{\"type\":\"object\",\"name\":\"Figure\",\"id\":\"55c285d4-cd8c-4d32-aeb0-8d4d6af6b1f9\",\"attributes\":{\"width\":800,\"margin\":[5,10],\"sizing_mode\":\"fixed\",\"align\":\"start\",\"x_range\":{\"type\":\"object\",\"name\":\"Range1d\",\"id\":\"0099b971-ef83-4159-8e74-d29beecd0fec\",\"attributes\":{\"name\":\"Longitude\",\"tags\":[[[\"Longitude\",null]],[]],\"start\":-10059627.174428696,\"end\":701834.3349439426,\"reset_start\":-10059627.174428696,\"reset_end\":701834.3349439426,\"min_interval\":5}},\"y_range\":{\"type\":\"object\",\"name\":\"Range1d\",\"id\":\"8758ef2b-96e2-4c0c-b8b8-3e20375d514c\",\"attributes\":{\"name\":\"Latitude\",\"tags\":[[[\"Latitude\",null]],{\"type\":\"map\",\"entries\":[[\"invert_yaxis\",false],[\"autorange\",false]]}],\"start\":-2410017.2848570743,\"end\":5661078.847172406,\"reset_start\":-2410017.2848570743,\"reset_end\":5661078.847172406,\"min_interval\":5}},\"x_scale\":{\"type\":\"object\",\"name\":\"LinearScale\",\"id\":\"c69dac7e-2081-48af-9d85-a1e5e124f60d\"},\"y_scale\":{\"type\":\"object\",\"name\":\"LinearScale\",\"id\":\"70e73e50-7833-4e58-a41e-5abd0de67c66\"},\"title\":{\"type\":\"object\",\"name\":\"Title\",\"id\":\"dabd06d6-465a-4af0-9207-148a6117d296\",\"attributes\":{\"text_color\":\"black\",\"text_font_size\":\"12pt\"}},\"renderers\":[{\"type\":\"object\",\"name\":\"TileRenderer\",\"id\":\"de57bfae-2899-4534-a2ed-665ebde5576a\",\"attributes\":{\"level\":\"underlay\",\"tile_source\":{\"type\":\"object\",\"name\":\"WMTSTileSource\",\"id\":\"f0ceebfd-1a46-4e2e-9f18-4d177f27e93d\",\"attributes\":{\"url\":\"https://c.tile.openstreetmap.org/{Z}/{X}/{Y}.png\",\"attribution\":\"&copy; <a href=\\\"https://www.openstreetmap.org/copyright\\\">OpenStreetMap</a> contributors\"}}}},{\"type\":\"object\",\"name\":\"GlyphRenderer\",\"id\":\"6839de95-5043-4712-92a0-c8ba9227dac1\",\"attributes\":{\"data_source\":{\"type\":\"object\",\"name\":\"ColumnDataSource\",\"id\":\"e215b2d3-916b-4a0a-a2d8-66b427f0b79a\",\"attributes\":{\"selected\":{\"type\":\"object\",\"name\":\"Selection\",\"id\":\"60e8aa55-6bb5-417a-af5e-16fd34b90327\",\"attributes\":{\"indices\":[],\"line_indices\":[]}},\"selection_policy\":{\"type\":\"object\",\"name\":\"UnionRenderers\",\"id\":\"a8095b4e-78f7-46a7-b92a-5e09873d6806\"},\"data\":{\"type\":\"map\",\"entries\":[[\"Longitude\",{\"type\":\"ndarray\",\"array\":{\"type\":\"bytes\",\"data\":\"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\"},\"shape\":[228],\"dtype\":\"float64\",\"order\":\"little\"}],[\"Latitude\",{\"type\":\"ndarray\",\"array\":{\"type\":\"bytes\",\"data\":\"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\"},\"shape\":[228],\"dtype\":\"float64\",\"order\":\"little\"}],[\"mean\",{\"type\":\"ndarray\",\"array\":{\"type\":\"bytes\",\"data\":\"5mDX37sUaz/mYNffuxRrP+vZIXBjGcQ/qA+XV+VKyz/mYNffuxRrP/XW1J0Hxrw/5mDX37sUaz/mYNffuxRrP+Zg19+7FMs/YwNY8Giouj/gpdgAFjy6P+0b1r5h7bs/YwNY8Giouj/mYNffuxRrP7aFlBUx/Mw/aHyigBCtwz9+71JsAAvOP91jJLIXaMI/5mDX37sUWz84oV+2hZTFP2DBo6Fq1MI/A03SW1N3jj/r2SFwYxnEP62I4eeMT3Q/5mDX37sUaz/mYNffuxRrP62I4eeMT7Q/eDRUjVoyvT+A71JsAAu+P2DBo6Fq1MI/Z3yigBCtwz+tiOHnjE/EP8p03GMkspc/ynTcYySylz+tiOHnjE+UP+Zg19+7FGs/bjehX7aFxD8pK2L4OePDP+Cl2AAWPKo/5mDX37sUaz+7/t6l2ADGP+0b1r5h7as/WQalwsT7wT84oV+2hZS1P54S5ClBnrI/5mDX37sUaz9GF1100UW3P8K53YR+2aY/zu0m9Mu2wD+tiOHnjE+0P2DBo6Fq1MI/0S/bQsqKqD/gpdgAFjyqP+Cl2AAWPKo/SpCnBHlKwD/mYNffuxRrP4aqUUum474/u/7epdgAtj+0Q+DGMii1P4aqUUum474/ynTcYySypz/tG9a+Ye27P4nh54xPFMA/rYjh54xPlD/RL9tCyoq4P8p03GMkspc/E/plW0hZwT+7/t6l2ACWPxP6ZVtIWcE/SpCnBHlKwD+tiOHnjE+kP1kGpcLE+8E/ynTcYySypz/WqCXTcY/BP5Cc5mv17KA/5mDX37sUaz+eEuQpQZ6iPzDmYNffu8Q//ZHTfK2evT9LkKcEeUrAPw0/Z3yigMA/5mDX37sUaz928p8+XF7FP/2R03ytnq0/TdJbU3ceuD/11tSdB8asP7RD4MYyKLU/ynTcYySytz/mYNffuxRrP+0b1r5h7as/9dbUnQfGrD/mYNffuxRrP2d8ooAQrcM/Kiti+Dnjsz8rbRZHOLfLP+Zg19+7FFs/wrndhH7Zpj/mYNffuxRbP45lUCpMvL8/5mDX37sUWz9qvlbPDoHLPy1tFkc4t8s/5mDX37sUez/mYNffuxR7P+Zg19+7FHs/5mDX37sUaz8DTdJbU3eOP8p03GMksoc/ynTcYySyhz/mYNffuxRrP62I4eeMT3Q/5mDX37sUaz/Cud2EftmmP4nh54xPFKA/ps3iCOd2oz+XV+VKm8WhP9Ev20LKiqg/A03SW1N3jj+tiOHnjE90P62I4eeMT3Q/5mDX37sUaz/mYNffuxSLP+Zg19+7FGs/5mDX37sUaz/mYNffuxSLP+Zg19+7FFs/5mDX37sUWz+tiOHnjE+EP62I4eeMT4Q/rYjh54xPhD+tiOHnjE+EP62I4eeMT3Q/rYjh54xPdD/mYNffuxRbP+Zg19+7FGs/5mDX37sUaz/KdNxjJLKnP8p03GMksqc/ynTcYySypz/KdNxjJLKnP8K53YR+2aY/ynTcYySypz/mYNffuxRbP62I4eeMT5Q/rYjh54xPlD+tiOHnjE+UP62I4eeMT5Q/l1flSpvFoT/mYNffuxRrP+Zg19+7FFs/ieHnjE8UoD+J4eeMTxSgP8p03GMksoc/l1flSpvFoT/mYNffuxRbP+Zg19+7FFs/5mDX37sUWz/mYNffuxRbP+Zg19+7FFs/iyOc203oxz/mYNffuxRrP+Zg19+7FGs/5mDX37sUaz/mYNffuxRrP+Zg19+7FGs/5mDX37sUaz/mYNffuxRrP+Zg19+7FGs/5mDX37sUez/mYNffuxRrP+Zg19+7FGs/5mDX37sUaz/mYNffuxRbP+Zg19+7FGs/5mDX37sUWz/mYNffuxRrP+Zg19+7FGs/l1flSpvFoT+XV+VKm8WhP5dX5UqbxaE/l1flSpvFoT/mYNffuxRbPwNN0ltTd44/rYjh54xPhD+tiOHnjE90P62I4eeMT3Q/rYjh54xPdD8DTdJbU3eOPwNN0ltTd44/A03SW1N3jj8DTdJbU3eOP62I4eeMT4Q/rYjh54xPhD+tiOHnjE+EP62I4eeMT4Q/5mDX37sUaz/KdNxjJLKnP8p03GMksqc/ynTcYySypz/KdNxjJLKnP8p03GMksqc/ynTcYySypz+tiOHnjE+UP62I4eeMT3Q/rYjh54xPdD+tiOHnjE+UPwNN0ltTd44/rYjh54xPlD8DTdJbU3eOP62I4eeMT5Q/A03SW1N3jj8DTdJbU3eOPwNN0ltTd44/TdJbU3ceyD/mYNffuxRrP+Zg19+7FGs/5mDX37sUWz/mYNffuxRbP+Zg19+7FFs/5mDX37sUWz/mYNffuxRbP+Zg19+7FGs/5mDX37sUWz/mYNffuxRbP+Zg19+7FFs/5mDX37sUWz/mYNffuxRbP+Zg19+7FFs/\"},\"shape\":[228],\"dtype\":\"float64\",\"order\":\"little\"}],[\"station\",[\"02\",\"09\",\"1\",\"10\",\"1016\",\"11\",\"116\",\"117\",\"12\",\"13\",\"14\",\"15\",\"15.5\",\"15.5SURFACE\",\"16\",\"17\",\"18\",\"19\",\"1B\",\"2\",\"20\",\"21\",\"21.5\",\"21.5B\",\"21.5V2\",\"21.LK\",\"21/LK\",\"21LK\",\"22\",\"22.5\",\"23\",\"24\",\"25.5\",\"28\",\"29\",\"29.5\",\"3\",\"30\",\"30.5\",\"30B\",\"31\",\"32\",\"33\",\"34\",\"39\",\"3B\",\"4\",\"40\",\"41\",\"42\",\"45\",\"46\",\"47\",\"48\",\"49\",\"49A\",\"5\",\"5.5\",\"50\",\"51\",\"52\",\"53\",\"54\",\"54B\",\"55\",\"55B\",\"56\",\"56B\",\"57\",\"57.1\",\"57.1B\",\"57.2\",\"57.2B\",\"57.3\",\"57.3B\",\"57.3SURF\",\"57B\",\"58\",\"59\",\"6\",\"6.5\",\"6.75\",\"60\",\"61\",\"62\",\"63\",\"64\",\"65\",\"65A\",\"66\",\"67\",\"675\",\"68\",\"69\",\"7\",\"7.B\",\"70\",\"71\",\"8\",\"8b\",\"9\",\"9.5\",\"9.6\",\"9.7\",\"9.8\",\"9B\",\"BG2\",\"BG3\",\"BG4\",\"BG5\",\"BK1\",\"BLOOM\",\"CAL1\",\"CAL2\",\"CAL3\",\"CAL4\",\"CAL5\",\"CAL6\",\"CAL7\",\"CAL8\",\"CAPTIVA\",\"CH2\",\"CH3\",\"CH4\",\"CH5\",\"CK1\",\"CK2\",\"CW1\",\"CW2\",\"CW3\",\"CW4\",\"CW5\",\"CW6\",\"Caseyhole\",\"DT.9\",\"EK\",\"EKIN\",\"EKMID\",\"EKOFF\",\"EK_IN\",\"EK_MID\",\"EK_OFF\",\"Ek_MID\",\"GP1\",\"GP2\",\"GP3\",\"GP4\",\"GP5\",\"JUNKPILE\",\"Junkpile\",\"KW1\",\"KW2\",\"KW3\",\"KW4\",\"M01\",\"M02\",\"M03\",\"M04\",\"M05\",\"MR\",\"MR.REDO\",\"MR1\",\"MR2\",\"MR3\",\"MR4\",\"MR5\",\"MR6\",\"MR7\",\"MRA\",\"MRB\",\"MRV2\",\"MUDHOLE\",\"Mudhole\",\"NAPLESBLUEHOLE\",\"NaplesBlueHole\",\"REAL24\",\"REDTIDE\",\"RP1\",\"RP2\",\"RP3\",\"RP4\",\"RedTide\",\"TB1\",\"TB10\",\"TB11\",\"TB12\",\"TB13\",\"TB2\",\"TB3\",\"TB4\",\"TB5\",\"TB6\",\"TB7\",\"TB8\",\"TB9\",\"UK\",\"UKIN\",\"UKMID\",\"UKOFF\",\"UK_IN\",\"UK_MID\",\"UK_OFF\",\"V1\",\"V10\",\"V11\",\"V2\",\"V3\",\"V4\",\"V5\",\"V6\",\"V7\",\"V8\",\"V9\",\"WS\",\"WSB\",\"Z03\",\"Z03027\",\"Z03076\",\"Z03116\",\"Z03146\",\"Z03198\",\"Z04\",\"Z04067\",\"Z04068\",\"Z04093\",\"Z04099\",\"Z04110\",\"Z04610\"]],[\"color\",{\"type\":\"ndarray\",\"array\":{\"type\":\"bytes\",\"data\":\"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\"},\"shape\":[228],\"dtype\":\"float64\",\"order\":\"little\"}]]}}},\"view\":{\"type\":\"object\",\"name\":\"CDSView\",\"id\":\"eaca22ae-788c-4734-84ae-e2b23c939e2e\",\"attributes\":{\"filter\":{\"type\":\"object\",\"name\":\"AllIndices\",\"id\":\"7ea13a5c-cc78-48a1-bce7-b4066a449f2b\"}}},\"glyph\":{\"type\":\"object\",\"name\":\"Scatter\",\"id\":\"4a76e223-6ad7-4450-b4d9-47156fdf0cbc\",\"attributes\":{\"tags\":[\"apply_ranges\"],\"x\":{\"type\":\"field\",\"field\":\"Longitude\"},\"y\":{\"type\":\"field\",\"field\":\"Latitude\"},\"size\":{\"type\":\"value\",\"value\":5.477225575051661},\"line_color\":{\"type\":\"field\",\"field\":\"color\",\"transform\":{\"type\":\"object\",\"name\":\"LogColorMapper\",\"id\":\"e76b00f4-d31e-4a79-9020-d8d79ca65475\",\"attributes\":{\"palette\":[\"#440154\",\"#440255\",\"#440357\",\"#450558\",\"#45065a\",\"#45085b\",\"#46095c\",\"#460b5e\",\"#460c5f\",\"#460e61\",\"#470f62\",\"#471163\",\"#471265\",\"#471466\",\"#471567\",\"#471669\",\"#47186a\",\"#48196b\",\"#481a6c\",\"#481c6e\",\"#481d6f\",\"#481e70\",\"#482071\",\"#482172\",\"#482273\",\"#482374\",\"#472575\",\"#472676\",\"#472777\",\"#472878\",\"#472a79\",\"#472b7a\",\"#472c7b\",\"#462d7c\",\"#462f7c\",\"#46307d\",\"#46317e\",\"#45327f\",\"#45347f\",\"#453580\",\"#453681\",\"#443781\",\"#443982\",\"#433a83\",\"#433b83\",\"#433c84\",\"#423d84\",\"#423e85\",\"#424085\",\"#414186\",\"#414286\",\"#404387\",\"#404487\",\"#3f4587\",\"#3f4788\",\"#3e4888\",\"#3e4989\",\"#3d4a89\",\"#3d4b89\",\"#3d4c89\",\"#3c4d8a\",\"#3c4e8a\",\"#3b508a\",\"#3b518a\",\"#3a528b\",\"#3a538b\",\"#39548b\",\"#39558b\",\"#38568b\",\"#38578c\",\"#37588c\",\"#37598c\",\"#365a8c\",\"#365b8c\",\"#355c8c\",\"#355d8c\",\"#345e8d\",\"#345f8d\",\"#33608d\",\"#33618d\",\"#32628d\",\"#32638d\",\"#31648d\",\"#31658d\",\"#31668d\",\"#30678d\",\"#30688d\",\"#2f698d\",\"#2f6a8d\",\"#2e6b8e\",\"#2e6c8e\",\"#2e6d8e\",\"#2d6e8e\",\"#2d6f8e\",\"#2c708e\",\"#2c718e\",\"#2c728e\",\"#2b738e\",\"#2b748e\",\"#2a758e\",\"#2a768e\",\"#2a778e\",\"#29788e\",\"#29798e\",\"#287a8e\",\"#287a8e\",\"#287b8e\",\"#277c8e\",\"#277d8e\",\"#277e8e\",\"#267f8e\",\"#26808e\",\"#26818e\",\"#25828e\",\"#25838d\",\"#24848d\",\"#24858d\",\"#24868d\",\"#23878d\",\"#23888d\",\"#23898d\",\"#22898d\",\"#228a8d\",\"#228b8d\",\"#218c8d\",\"#218d8c\",\"#218e8c\",\"#208f8c\",\"#20908c\",\"#20918c\",\"#1f928c\",\"#1f938b\",\"#1f948b\",\"#1f958b\",\"#1f968b\",\"#1e978a\",\"#1e988a\",\"#1e998a\",\"#1e998a\",\"#1e9a89\",\"#1e9b89\",\"#1e9c89\",\"#1e9d88\",\"#1e9e88\",\"#1e9f88\",\"#1ea087\",\"#1fa187\",\"#1fa286\",\"#1fa386\",\"#20a485\",\"#20a585\",\"#21a685\",\"#21a784\",\"#22a784\",\"#23a883\",\"#23a982\",\"#24aa82\",\"#25ab81\",\"#26ac81\",\"#27ad80\",\"#28ae7f\",\"#29af7f\",\"#2ab07e\",\"#2bb17d\",\"#2cb17d\",\"#2eb27c\",\"#2fb37b\",\"#30b47a\",\"#32b57a\",\"#33b679\",\"#35b778\",\"#36b877\",\"#38b976\",\"#39b976\",\"#3bba75\",\"#3dbb74\",\"#3ebc73\",\"#40bd72\",\"#42be71\",\"#44be70\",\"#45bf6f\",\"#47c06e\",\"#49c16d\",\"#4bc26c\",\"#4dc26b\",\"#4fc369\",\"#51c468\",\"#53c567\",\"#55c666\",\"#57c665\",\"#59c764\",\"#5bc862\",\"#5ec961\",\"#60c960\",\"#62ca5f\",\"#64cb5d\",\"#67cc5c\",\"#69cc5b\",\"#6bcd59\",\"#6dce58\",\"#70ce56\",\"#72cf55\",\"#74d054\",\"#77d052\",\"#79d151\",\"#7cd24f\",\"#7ed24e\",\"#81d34c\",\"#83d34b\",\"#86d449\",\"#88d547\",\"#8bd546\",\"#8dd644\",\"#90d643\",\"#92d741\",\"#95d73f\",\"#97d83e\",\"#9ad83c\",\"#9dd93a\",\"#9fd938\",\"#a2da37\",\"#a5da35\",\"#a7db33\",\"#aadb32\",\"#addc30\",\"#afdc2e\",\"#b2dd2c\",\"#b5dd2b\",\"#b7dd29\",\"#bade27\",\"#bdde26\",\"#bfdf24\",\"#c2df22\",\"#c5df21\",\"#c7e01f\",\"#cae01e\",\"#cde01d\",\"#cfe11c\",\"#d2e11b\",\"#d4e11a\",\"#d7e219\",\"#dae218\",\"#dce218\",\"#dfe318\",\"#e1e318\",\"#e4e318\",\"#e7e419\",\"#e9e419\",\"#ece41a\",\"#eee51b\",\"#f1e51c\",\"#f3e51e\",\"#f6e61f\",\"#f8e621\",\"#fae622\",\"#fde724\"],\"low\":0.001652892561983471,\"high\":0.23471074380165285}}},\"fill_color\":{\"type\":\"field\",\"field\":\"color\",\"transform\":{\"id\":\"e76b00f4-d31e-4a79-9020-d8d79ca65475\"}},\"hatch_color\":{\"type\":\"field\",\"field\":\"color\",\"transform\":{\"id\":\"e76b00f4-d31e-4a79-9020-d8d79ca65475\"}}}},\"selection_glyph\":{\"type\":\"object\",\"name\":\"Scatter\",\"id\":\"589084a1-1c1c-49d4-82e6-cc738aad67b7\",\"attributes\":{\"tags\":[\"apply_ranges\"],\"x\":{\"type\":\"field\",\"field\":\"Longitude\"},\"y\":{\"type\":\"field\",\"field\":\"Latitude\"},\"size\":{\"type\":\"value\",\"value\":5.477225575051661},\"line_color\":{\"type\":\"field\",\"field\":\"color\",\"transform\":{\"id\":\"e76b00f4-d31e-4a79-9020-d8d79ca65475\"}},\"fill_color\":{\"type\":\"field\",\"field\":\"color\",\"transform\":{\"id\":\"e76b00f4-d31e-4a79-9020-d8d79ca65475\"}},\"hatch_color\":{\"type\":\"field\",\"field\":\"color\",\"transform\":{\"id\":\"e76b00f4-d31e-4a79-9020-d8d79ca65475\"}}}},\"nonselection_glyph\":{\"type\":\"object\",\"name\":\"Scatter\",\"id\":\"33478f26-7196-4f95-8cbb-98552cd1df30\",\"attributes\":{\"tags\":[\"apply_ranges\"],\"x\":{\"type\":\"field\",\"field\":\"Longitude\"},\"y\":{\"type\":\"field\",\"field\":\"Latitude\"},\"size\":{\"type\":\"value\",\"value\":5.477225575051661},\"line_color\":{\"type\":\"field\",\"field\":\"color\",\"transform\":{\"id\":\"e76b00f4-d31e-4a79-9020-d8d79ca65475\"}},\"line_alpha\":{\"type\":\"value\",\"value\":0.1},\"fill_color\":{\"type\":\"field\",\"field\":\"color\",\"transform\":{\"id\":\"e76b00f4-d31e-4a79-9020-d8d79ca65475\"}},\"fill_alpha\":{\"type\":\"value\",\"value\":0.1},\"hatch_color\":{\"type\":\"field\",\"field\":\"color\",\"transform\":{\"id\":\"e76b00f4-d31e-4a79-9020-d8d79ca65475\"}},\"hatch_alpha\":{\"type\":\"value\",\"value\":0.1}}},\"hover_glyph\":{\"type\":\"object\",\"name\":\"Scatter\",\"id\":\"cdb9f7eb-778c-4486-a1ca-ea9c196e9957\",\"attributes\":{\"tags\":[\"apply_ranges\"],\"x\":{\"type\":\"field\",\"field\":\"Longitude\"},\"y\":{\"type\":\"field\",\"field\":\"Latitude\"},\"size\":{\"type\":\"value\",\"value\":5.477225575051661},\"line_color\":{\"type\":\"field\",\"field\":\"color\",\"transform\":{\"id\":\"e76b00f4-d31e-4a79-9020-d8d79ca65475\"}},\"fill_color\":{\"type\":\"field\",\"field\":\"color\",\"transform\":{\"id\":\"e76b00f4-d31e-4a79-9020-d8d79ca65475\"}},\"hatch_color\":{\"type\":\"field\",\"field\":\"color\",\"transform\":{\"id\":\"e76b00f4-d31e-4a79-9020-d8d79ca65475\"}}}},\"muted_glyph\":{\"type\":\"object\",\"name\":\"Scatter\",\"id\":\"8a0a3eb2-4fdc-4c87-9e94-f4be5b823a08\",\"attributes\":{\"tags\":[\"apply_ranges\"],\"x\":{\"type\":\"field\",\"field\":\"Longitude\"},\"y\":{\"type\":\"field\",\"field\":\"Latitude\"},\"size\":{\"type\":\"value\",\"value\":5.477225575051661},\"line_color\":{\"type\":\"field\",\"field\":\"color\",\"transform\":{\"id\":\"e76b00f4-d31e-4a79-9020-d8d79ca65475\"}},\"line_alpha\":{\"type\":\"value\",\"value\":0.2},\"fill_color\":{\"type\":\"field\",\"field\":\"color\",\"transform\":{\"id\":\"e76b00f4-d31e-4a79-9020-d8d79ca65475\"}},\"fill_alpha\":{\"type\":\"value\",\"value\":0.2},\"hatch_color\":{\"type\":\"field\",\"field\":\"color\",\"transform\":{\"id\":\"e76b00f4-d31e-4a79-9020-d8d79ca65475\"}},\"hatch_alpha\":{\"type\":\"value\",\"value\":0.2}}}}}],\"toolbar\":{\"type\":\"object\",\"name\":\"Toolbar\",\"id\":\"3d0bbe5d-c7b4-45bf-b768-d2261c25653c\",\"attributes\":{\"tools\":[{\"type\":\"object\",\"name\":\"WheelZoomTool\",\"id\":\"1c7d9d4f-f20e-4e87-a83e-be90b56f94f1\",\"attributes\":{\"renderers\":\"auto\",\"zoom_on_axis\":false}},{\"type\":\"object\",\"name\":\"BoxZoomTool\",\"id\":\"3046e487-5689-40ac-8f2c-d5aacb8c22f1\",\"attributes\":{\"overlay\":{\"type\":\"object\",\"name\":\"BoxAnnotation\",\"id\":\"74f702aa-4cc8-4ce7-8184-58b11ddb5796\",\"attributes\":{\"syncable\":false,\"line_color\":\"black\",\"line_alpha\":1.0,\"line_width\":2,\"line_dash\":[4,4],\"fill_color\":\"lightgrey\",\"fill_alpha\":0.5,\"level\":\"overlay\",\"visible\":false,\"left\":{\"type\":\"number\",\"value\":\"nan\"},\"right\":{\"type\":\"number\",\"value\":\"nan\"},\"top\":{\"type\":\"number\",\"value\":\"nan\"},\"bottom\":{\"type\":\"number\",\"value\":\"nan\"},\"left_units\":\"canvas\",\"right_units\":\"canvas\",\"top_units\":\"canvas\",\"bottom_units\":\"canvas\",\"handles\":{\"type\":\"object\",\"name\":\"BoxInteractionHandles\",\"id\":\"66398d44-eaca-470a-9103-88ff9236a6d5\",\"attributes\":{\"all\":{\"type\":\"object\",\"name\":\"AreaVisuals\",\"id\":\"8889f6eb-6874-43bd-8825-6625896de32a\",\"attributes\":{\"fill_color\":\"white\",\"hover_fill_color\":\"lightgray\"}}}}}},\"match_aspect\":true}},{\"type\":\"object\",\"name\":\"HoverTool\",\"id\":\"e3a0173e-e6ab-41bf-8400-a8d98818d174\",\"attributes\":{\"tags\":[\"hv_created\"],\"renderers\":[{\"id\":\"6839de95-5043-4712-92a0-c8ba9227dac1\"}],\"tooltips\":[[\"Longitude\",\"$x{custom}\"],[\"Latitude\",\"$y{custom}\"],[\"mean\",\"@{mean}\"],[\"station\",\"@{station}\"]],\"formatters\":{\"type\":\"map\",\"entries\":[[\"$x\",{\"type\":\"object\",\"name\":\"CustomJSHover\",\"id\":\"bd639d0f-8150-4fbf-af62-d0393eef484e\",\"attributes\":{\"code\":\"\\n        const projections = Bokeh.require(\\\"core/util/projections\\\");\\n        const {snap_x, snap_y} = special_vars\\n        const coords = projections.wgs84_mercator.invert(snap_x, snap_y)\\n        return \\\"\\\" + (coords[0]).toFixed(4)\\n    \"}}],[\"$y\",{\"type\":\"object\",\"name\":\"CustomJSHover\",\"id\":\"e0bd5fa5-6aad-42cc-b336-68275a7ac7b2\",\"attributes\":{\"code\":\"\\n        const projections = Bokeh.require(\\\"core/util/projections\\\");\\n        const {snap_x, snap_y} = special_vars\\n        const coords = projections.wgs84_mercator.invert(snap_x, snap_y)\\n        return \\\"\\\" + (coords[1]).toFixed(4)\\n    \"}}]]}}},{\"type\":\"object\",\"name\":\"PanTool\",\"id\":\"a8f259dd-2aa1-47e6-9446-f64f3a0dca01\"},{\"type\":\"object\",\"name\":\"ResetTool\",\"id\":\"445e7e0e-70e3-4358-b881-7cad67ebb339\"}],\"active_drag\":{\"id\":\"a8f259dd-2aa1-47e6-9446-f64f3a0dca01\"}}},\"left\":[{\"type\":\"object\",\"name\":\"LinearAxis\",\"id\":\"0baa52ea-fe7b-4db4-9aa9-a54193ec46e7\",\"attributes\":{\"ticker\":{\"type\":\"object\",\"name\":\"MercatorTicker\",\"id\":\"7b0d1b25-4850-444c-983c-90b2df80fa87\",\"attributes\":{\"mantissas\":[1,2,5],\"dimension\":\"lat\"}},\"formatter\":{\"type\":\"object\",\"name\":\"MercatorTickFormatter\",\"id\":\"1cb83b10-85a0-4173-8f62-8646cdf60399\",\"attributes\":{\"dimension\":\"lat\"}},\"axis_label\":\"Latitude\",\"major_label_policy\":{\"type\":\"object\",\"name\":\"AllLabels\",\"id\":\"8008febc-0222-46d8-83da-e0fffe0d8e0c\"}}}],\"right\":[{\"type\":\"object\",\"name\":\"ColorBar\",\"id\":\"cfb3ddc6-8ff0-497c-b0d4-d77a2b26b840\",\"attributes\":{\"location\":[0,0],\"ticker\":{\"type\":\"object\",\"name\":\"LogTicker\",\"id\":\"abbb0c49-39ac-4706-9602-0b4129c8aa12\",\"attributes\":{\"mantissas\":[1,5]}},\"major_label_policy\":{\"type\":\"object\",\"name\":\"NoOverlap\",\"id\":\"c41a81f2-3326-4dd0-8529-05370949585c\"},\"label_standoff\":8,\"major_tick_line_color\":\"black\",\"bar_line_color\":\"black\",\"color_mapper\":{\"id\":\"e76b00f4-d31e-4a79-9020-d8d79ca65475\"}}}],\"below\":[{\"type\":\"object\",\"name\":\"LinearAxis\",\"id\":\"863e5242-7ae7-4dff-9663-33c0f79374a8\",\"attributes\":{\"ticker\":{\"type\":\"object\",\"name\":\"MercatorTicker\",\"id\":\"0304a23a-d975-4b54-a096-42a9d2244ab8\",\"attributes\":{\"mantissas\":[1,2,5],\"dimension\":\"lon\"}},\"formatter\":{\"type\":\"object\",\"name\":\"MercatorTickFormatter\",\"id\":\"7b4e48ca-1691-42bb-bbfc-9b7aec47b970\",\"attributes\":{\"dimension\":\"lon\"}},\"axis_label\":\"Longitude\",\"major_label_policy\":{\"type\":\"object\",\"name\":\"AllLabels\",\"id\":\"d0c228d6-8b5a-4fa7-bb11-ff636988cdb8\"}}}],\"center\":[{\"type\":\"object\",\"name\":\"Grid\",\"id\":\"c7f4f768-3407-4160-8a2b-0b52adf105ec\",\"attributes\":{\"axis\":{\"id\":\"863e5242-7ae7-4dff-9663-33c0f79374a8\"},\"grid_line_color\":null}},{\"type\":\"object\",\"name\":\"Grid\",\"id\":\"659a3044-0bd7-4e6c-b194-1e86e5d8876a\",\"attributes\":{\"dimension\":1,\"axis\":{\"id\":\"0baa52ea-fe7b-4db4-9aa9-a54193ec46e7\"},\"grid_line_color\":null}}],\"frame_width\":800,\"frame_height\":600,\"min_border_top\":10,\"min_border_bottom\":10,\"min_border_left\":10,\"min_border_right\":10,\"output_backend\":\"webgl\",\"match_aspect\":true}},{\"type\":\"object\",\"name\":\"Spacer\",\"id\":\"5c9c12e9-4421-4589-874f-9e2f10ba3ad8\",\"attributes\":{\"name\":\"HSpacer00480\",\"stylesheets\":[\"\\n:host(.pn-loading):before, .pn-loading:before {\\n  background-color: #c3c3c3;\\n  mask-size: auto calc(min(50%, 400px));\\n  -webkit-mask-size: auto calc(min(50%, 400px));\\n}\",{\"id\":\"f95d8134-1b71-4023-a176-35c478332c53\"},{\"id\":\"bd4d29cc-8123-43df-bf84-7e3e54fc7b73\"},{\"id\":\"fb452e31-54b4-4b6a-b974-441f7104be1b\"}],\"min_width\":0,\"margin\":0,\"sizing_mode\":\"stretch_width\",\"align\":\"start\"}}]}}],\"defs\":[{\"type\":\"model\",\"name\":\"ReactiveHTML1\"},{\"type\":\"model\",\"name\":\"FlexBox1\",\"properties\":[{\"name\":\"align_content\",\"kind\":\"Any\",\"default\":\"flex-start\"},{\"name\":\"align_items\",\"kind\":\"Any\",\"default\":\"flex-start\"},{\"name\":\"flex_direction\",\"kind\":\"Any\",\"default\":\"row\"},{\"name\":\"flex_wrap\",\"kind\":\"Any\",\"default\":\"wrap\"},{\"name\":\"gap\",\"kind\":\"Any\",\"default\":\"\"},{\"name\":\"justify_content\",\"kind\":\"Any\",\"default\":\"flex-start\"}]},{\"type\":\"model\",\"name\":\"FloatPanel1\",\"properties\":[{\"name\":\"config\",\"kind\":\"Any\",\"default\":{\"type\":\"map\"}},{\"name\":\"contained\",\"kind\":\"Any\",\"default\":true},{\"name\":\"position\",\"kind\":\"Any\",\"default\":\"right-top\"},{\"name\":\"offsetx\",\"kind\":\"Any\",\"default\":null},{\"name\":\"offsety\",\"kind\":\"Any\",\"default\":null},{\"name\":\"theme\",\"kind\":\"Any\",\"default\":\"primary\"},{\"name\":\"status\",\"kind\":\"Any\",\"default\":\"normalized\"}]},{\"type\":\"model\",\"name\":\"GridStack1\",\"properties\":[{\"name\":\"ncols\",\"kind\":\"Any\",\"default\":null},{\"name\":\"nrows\",\"kind\":\"Any\",\"default\":null},{\"name\":\"allow_resize\",\"kind\":\"Any\",\"default\":true},{\"name\":\"allow_drag\",\"kind\":\"Any\",\"default\":true},{\"name\":\"state\",\"kind\":\"Any\",\"default\":[]}]},{\"type\":\"model\",\"name\":\"drag1\",\"properties\":[{\"name\":\"slider_width\",\"kind\":\"Any\",\"default\":5},{\"name\":\"slider_color\",\"kind\":\"Any\",\"default\":\"black\"},{\"name\":\"value\",\"kind\":\"Any\",\"default\":50}]},{\"type\":\"model\",\"name\":\"click1\",\"properties\":[{\"name\":\"terminal_output\",\"kind\":\"Any\",\"default\":\"\"},{\"name\":\"debug_name\",\"kind\":\"Any\",\"default\":\"\"},{\"name\":\"clears\",\"kind\":\"Any\",\"default\":0}]},{\"type\":\"model\",\"name\":\"ReactiveESM1\",\"properties\":[{\"name\":\"esm_constants\",\"kind\":\"Any\",\"default\":{\"type\":\"map\"}}]},{\"type\":\"model\",\"name\":\"JSComponent1\",\"properties\":[{\"name\":\"esm_constants\",\"kind\":\"Any\",\"default\":{\"type\":\"map\"}}]},{\"type\":\"model\",\"name\":\"ReactComponent1\",\"properties\":[{\"name\":\"use_shadow_dom\",\"kind\":\"Any\",\"default\":true},{\"name\":\"esm_constants\",\"kind\":\"Any\",\"default\":{\"type\":\"map\"}}]},{\"type\":\"model\",\"name\":\"AnyWidgetComponent1\",\"properties\":[{\"name\":\"use_shadow_dom\",\"kind\":\"Any\",\"default\":true},{\"name\":\"esm_constants\",\"kind\":\"Any\",\"default\":{\"type\":\"map\"}}]},{\"type\":\"model\",\"name\":\"FastWrapper1\",\"properties\":[{\"name\":\"object\",\"kind\":\"Any\",\"default\":null},{\"name\":\"style\",\"kind\":\"Any\",\"default\":null}]},{\"type\":\"model\",\"name\":\"NotificationArea1\",\"properties\":[{\"name\":\"js_events\",\"kind\":\"Any\",\"default\":{\"type\":\"map\"}},{\"name\":\"max_notifications\",\"kind\":\"Any\",\"default\":5},{\"name\":\"notifications\",\"kind\":\"Any\",\"default\":[]},{\"name\":\"position\",\"kind\":\"Any\",\"default\":\"bottom-right\"},{\"name\":\"_clear\",\"kind\":\"Any\",\"default\":0},{\"name\":\"types\",\"kind\":\"Any\",\"default\":[{\"type\":\"map\",\"entries\":[[\"type\",\"warning\"],[\"background\",\"#ffc107\"],[\"icon\",{\"type\":\"map\",\"entries\":[[\"className\",\"fas fa-exclamation-triangle\"],[\"tagName\",\"i\"],[\"color\",\"white\"]]}]]},{\"type\":\"map\",\"entries\":[[\"type\",\"info\"],[\"background\",\"#007bff\"],[\"icon\",{\"type\":\"map\",\"entries\":[[\"className\",\"fas fa-info-circle\"],[\"tagName\",\"i\"],[\"color\",\"white\"]]}]]}]}]},{\"type\":\"model\",\"name\":\"Notification\",\"properties\":[{\"name\":\"background\",\"kind\":\"Any\",\"default\":null},{\"name\":\"duration\",\"kind\":\"Any\",\"default\":3000},{\"name\":\"icon\",\"kind\":\"Any\",\"default\":null},{\"name\":\"message\",\"kind\":\"Any\",\"default\":\"\"},{\"name\":\"notification_type\",\"kind\":\"Any\",\"default\":null},{\"name\":\"_rendered\",\"kind\":\"Any\",\"default\":false},{\"name\":\"_destroyed\",\"kind\":\"Any\",\"default\":false}]},{\"type\":\"model\",\"name\":\"TemplateActions1\",\"properties\":[{\"name\":\"open_modal\",\"kind\":\"Any\",\"default\":0},{\"name\":\"close_modal\",\"kind\":\"Any\",\"default\":0}]},{\"type\":\"model\",\"name\":\"BootstrapTemplateActions1\",\"properties\":[{\"name\":\"open_modal\",\"kind\":\"Any\",\"default\":0},{\"name\":\"close_modal\",\"kind\":\"Any\",\"default\":0}]},{\"type\":\"model\",\"name\":\"TemplateEditor1\",\"properties\":[{\"name\":\"layout\",\"kind\":\"Any\",\"default\":[]}]},{\"type\":\"model\",\"name\":\"MaterialTemplateActions1\",\"properties\":[{\"name\":\"open_modal\",\"kind\":\"Any\",\"default\":0},{\"name\":\"close_modal\",\"kind\":\"Any\",\"default\":0}]},{\"type\":\"model\",\"name\":\"request_value1\",\"properties\":[{\"name\":\"fill\",\"kind\":\"Any\",\"default\":\"none\"},{\"name\":\"_synced\",\"kind\":\"Any\",\"default\":null},{\"name\":\"_request_sync\",\"kind\":\"Any\",\"default\":0}]},{\"type\":\"model\",\"name\":\"holoviews.plotting.bokeh.raster.HoverModel\",\"properties\":[{\"name\":\"xy\",\"kind\":\"Any\",\"default\":null},{\"name\":\"data\",\"kind\":\"Any\",\"default\":null}]}]}};\n",
       "  var render_items = [{\"docid\":\"818a601a-58bf-446e-a21c-5d5396a6f555\",\"roots\":{\"4bcafb71-f200-485b-a082-b45aadfcc28d\":\"d0be2c17-4c6c-461a-9737-25486c02483c\"},\"root_ids\":[\"4bcafb71-f200-485b-a082-b45aadfcc28d\"]}];\n",
       "  var docs = Object.values(docs_json)\n",
       "  if (!docs) {\n",
       "    return\n",
       "  }\n",
       "  const py_version = docs[0].version.replace('rc', '-rc.').replace('.dev', '-dev.')\n",
       "  async function embed_document(root) {\n",
       "    var Bokeh = get_bokeh(root)\n",
       "    await Bokeh.embed.embed_items_notebook(docs_json, render_items);\n",
       "    for (const render_item of render_items) {\n",
       "      for (const root_id of render_item.root_ids) {\n",
       "\tconst id_el = document.getElementById(root_id)\n",
       "\tif (id_el.children.length && id_el.children[0].hasAttribute('data-root-id')) {\n",
       "\t  const root_el = id_el.children[0]\n",
       "\t  root_el.id = root_el.id + '-rendered'\n",
       "\t  for (const child of root_el.children) {\n",
       "            // Ensure JupyterLab does not capture keyboard shortcuts\n",
       "            // see: https://jupyterlab.readthedocs.io/en/4.1.x/extension/notebook.html#keyboard-interaction-model\n",
       "\t    child.setAttribute('data-lm-suppress-shortcuts', 'true')\n",
       "\t  }\n",
       "\t}\n",
       "      }\n",
       "    }\n",
       "  }\n",
       "  function get_bokeh(root) {\n",
       "    if (root.Bokeh === undefined) {\n",
       "      return null\n",
       "    } else if (root.Bokeh.version !== py_version) {\n",
       "      if (root.Bokeh.versions === undefined || !root.Bokeh.versions.has(py_version)) {\n",
       "\treturn null\n",
       "      }\n",
       "      return root.Bokeh.versions.get(py_version);\n",
       "    } else if (root.Bokeh.version === py_version) {\n",
       "      return root.Bokeh\n",
       "    }\n",
       "    return null\n",
       "  }\n",
       "  function is_loaded(root) {\n",
       "    var Bokeh = get_bokeh(root)\n",
       "    return (Bokeh != null && Bokeh.Panel !== undefined)\n",
       "  }\n",
       "  if (is_loaded(root)) {\n",
       "    embed_document(root);\n",
       "  } else {\n",
       "    var attempts = 0;\n",
       "    var timer = setInterval(function(root) {\n",
       "      if (is_loaded(root)) {\n",
       "        clearInterval(timer);\n",
       "        embed_document(root);\n",
       "      } else if (document.readyState == \"complete\") {\n",
       "        attempts++;\n",
       "        if (attempts > 200) {\n",
       "          clearInterval(timer);\n",
       "\t  var Bokeh = get_bokeh(root)\n",
       "\t  if (Bokeh == null || Bokeh.Panel == null) {\n",
       "            console.warn(\"Panel: ERROR: Unable to run Panel code because Bokeh or Panel library is missing\");\n",
       "\t  } else {\n",
       "\t    console.warn(\"Panel: WARNING: Attempting to render but not all required libraries could be resolved.\")\n",
       "\t    embed_document(root)\n",
       "\t  }\n",
       "        }\n",
       "      }\n",
       "    }, 25, root)\n",
       "  }\n",
       "})(window);</script>"
      ],
      "text/plain": [
       ":Overlay\n",
       "   .WMTS.I   :WMTS   [Longitude,Latitude]\n",
       "   .Points.I :Points   [Longitude,Latitude]   (mean,station)"
      ]
     },
     "metadata": {
      "application/vnd.holoviews_exec.v0+json": {
       "id": "4bcafb71-f200-485b-a082-b45aadfcc28d"
      }
     },
     "output_type": "display_data"
    }
   ],
   "source": [
    "plot_map(filtered_catalog, time_bin='ME', log=True)"
   ]
  },
  {
   "cell_type": "code",
   "execution_count": 17,
   "id": "3c01d2b0-7374-444d-a21a-241e02e6403e",
   "metadata": {},
   "outputs": [
    {
     "data": {
      "text/plain": [
       "['5',\n",
       " '5.5',\n",
       " '6',\n",
       " '6.5',\n",
       " '6.75',\n",
       " '675',\n",
       " 'MR',\n",
       " 'MR.REDO',\n",
       " 'MR7',\n",
       " 'MRA',\n",
       " 'MRB',\n",
       " 'MRV2']"
      ]
     },
     "execution_count": 17,
     "metadata": {},
     "output_type": "execute_result"
    }
   ],
   "source": [
    "stations = stations_from_bbox(filtered_catalog, bbox_selector.result)\n",
    "stations"
   ]
  },
  {
   "cell_type": "code",
   "execution_count": 18,
   "id": "888d7c04",
   "metadata": {},
   "outputs": [
    {
     "data": {
      "image/png": "[encoded data removed]",
      "text/plain": [
       "<Figure size 250x600 with 2 Axes>"
      ]
     },
     "metadata": {},
     "output_type": "display_data"
    }
   ],
   "source": [
    "plot_grid(filtered_catalog, stations=stations, time_bin='ME', log=True)"
   ]
  },
  {
   "cell_type": "code",
   "execution_count": 20,
   "id": "e5abae8e",
   "metadata": {},
   "outputs": [
    {
     "data": {
      "image/png": "[encoded data removed]",
      "text/plain": [
       "<Figure size 640x480 with 1 Axes>"
      ]
     },
     "metadata": {},
     "output_type": "display_data"
    }
   ],
   "source": [
    "plot_timeseries(filtered_catalog, stations=stations, time_bin='ME')"
   ]
  },
  {
   "cell_type": "code",
   "execution_count": 21,
   "id": "8198b18b",
   "metadata": {},
   "outputs": [
    {
     "data": {
      "image/png": "[encoded data removed]",
      "text/plain": [
       "<Figure size 640x480 with 1 Axes>"
      ]
     },
     "metadata": {},
     "output_type": "display_data"
    }
   ],
   "source": [
    "plot_timeseries(filtered_catalog, stations='MR', time_bin='ME')"
   ]
  },
  {
   "cell_type": "code",
   "execution_count": 24,
   "id": "1f120be5-f1d6-4280-a761-02f70db0d4ea",
   "metadata": {},
   "outputs": [],
   "source": [
    "my_catalog.to_yaml_file('my_catalog.yaml')"
   ]
  }
 ],
 "metadata": {
  "kernelspec": {
   "display_name": "fresca",
   "language": "python",
   "name": "python3"
  },
  "language_info": {
   "codemirror_mode": {
    "name": "ipython",
    "version": 3
   },
   "file_extension": ".py",
   "mimetype": "text/x-python",
   "name": "python",
   "nbconvert_exporter": "python",
   "pygments_lexer": "ipython3",
   "version": "3.10.18"
  }
 },
 "nbformat": 4,
 "nbformat_minor": 5
}
