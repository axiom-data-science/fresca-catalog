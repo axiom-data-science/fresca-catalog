{
 "cells": [
  {
   "cell_type": "markdown",
   "id": "c378513d",
   "metadata": {},
   "source": [
    "# Catalog exploration example"
   ]
  },
  {
   "cell_type": "code",
   "execution_count": 16,
   "id": "43df3c34-5622-4267-9cb7-e124903f812a",
   "metadata": {},
   "outputs": [],
   "source": [
    "import intake\n",
    "\n",
    "from fresca_catalog.catalog import (\n",
    "    search_catalog_variables,\n",
    "    filter_catalog\n",
    ")\n",
    "from fresca_catalog.selector import (\n",
    "    build_entries_selector,\n",
    "    build_variables_selector,\n",
    "    build_time_range_selector,\n",
    "    build_bbox_selector\n",
    ")\n",
    "from fresca_catalog.plot import (\n",
    "    plot_map,\n",
    "    plot_grid, \n",
    "    plot_timeseries\n",
    ")\n",
    "from fresca_catalog.summary import (\n",
    "    summarize_catalog,\n",
    "    summarize_entry_stations,\n",
    "    summarize_entry_variables\n",
    ")"
   ]
  },
  {
   "cell_type": "code",
   "execution_count": 17,
   "id": "0b3490a9-28cb-40d2-bf60-0ecf537d51f7",
   "metadata": {},
   "outputs": [
    {
     "data": {
      "text/plain": [
       "Catalog\n",
       " named datasets: ['all_ctd', 'sfer']\n",
       "  parameters: ['CATALOG_DIR', 'CATALOG_PATH', 'STORAGE_OPTIONS']"
      ]
     },
     "execution_count": 17,
     "metadata": {},
     "output_type": "execute_result"
    }
   ],
   "source": [
    "catalog = intake.open_catalog('full_catalog.yml')\n",
    "catalog"
   ]
  },
  {
   "cell_type": "code",
   "execution_count": 19,
   "id": "ea6f1195",
   "metadata": {},
   "outputs": [
    {
     "data": {
      "application/vnd.microsoft.datawrangler.viewer.v0+json": {
       "columns": [
        {
         "name": "index",
         "rawType": "int64",
         "type": "integer"
        },
        {
         "name": "dataset",
         "rawType": "object",
         "type": "string"
        },
        {
         "name": "date_start",
         "rawType": "object",
         "type": "string"
        },
        {
         "name": "date_end",
         "rawType": "object",
         "type": "string"
        },
        {
         "name": "lon_min",
         "rawType": "float64",
         "type": "float"
        },
        {
         "name": "lon_max",
         "rawType": "float64",
         "type": "float"
        },
        {
         "name": "lat_min",
         "rawType": "float64",
         "type": "float"
        },
        {
         "name": "lat_max",
         "rawType": "float64",
         "type": "float"
        },
        {
         "name": "total_stations",
         "rawType": "int64",
         "type": "integer"
        },
        {
         "name": "total_casts",
         "rawType": "int64",
         "type": "integer"
        },
        {
         "name": "mean_station_casts",
         "rawType": "float64",
         "type": "float"
        },
        {
         "name": "median_station_casts",
         "rawType": "float64",
         "type": "float"
        }
       ],
       "ref": "b86bbea0-6c15-49fa-9520-343b46f04824",
       "rows": [
        [
         "0",
         "all_ctd",
         "2006-01-18",
         "2023-03-08",
         "-84.0626666666667",
         "-80.0676666666667",
         "23.666",
         "28.0186666666667",
         "475",
         "3199",
         "6.9",
         "3.0"
        ],
        [
         "1",
         "sfer",
         "2014-12-01",
         "2024-11-17",
         "-85.0221",
         "-80.0442",
         "24.3952",
         "28.7841",
         "216",
         "5814",
         "28.0",
         "28.5"
        ]
       ],
       "shape": {
        "columns": 11,
        "rows": 2
       }
      },
      "text/html": [
       "<div>\n",
       "<style scoped>\n",
       "    .dataframe tbody tr th:only-of-type {\n",
       "        vertical-align: middle;\n",
       "    }\n",
       "\n",
       "    .dataframe tbody tr th {\n",
       "        vertical-align: top;\n",
       "    }\n",
       "\n",
       "    .dataframe thead th {\n",
       "        text-align: right;\n",
       "    }\n",
       "</style>\n",
       "<table border=\"1\" class=\"dataframe\">\n",
       "  <thead>\n",
       "    <tr style=\"text-align: right;\">\n",
       "      <th></th>\n",
       "      <th>dataset</th>\n",
       "      <th>date_start</th>\n",
       "      <th>date_end</th>\n",
       "      <th>lon_min</th>\n",
       "      <th>lon_max</th>\n",
       "      <th>lat_min</th>\n",
       "      <th>lat_max</th>\n",
       "      <th>total_stations</th>\n",
       "      <th>total_casts</th>\n",
       "      <th>mean_station_casts</th>\n",
       "      <th>median_station_casts</th>\n",
       "    </tr>\n",
       "  </thead>\n",
       "  <tbody>\n",
       "    <tr>\n",
       "      <th>0</th>\n",
       "      <td>all_ctd</td>\n",
       "      <td>2006-01-18</td>\n",
       "      <td>2023-03-08</td>\n",
       "      <td>-84.062667</td>\n",
       "      <td>-80.067667</td>\n",
       "      <td>23.6660</td>\n",
       "      <td>28.018667</td>\n",
       "      <td>475</td>\n",
       "      <td>3199</td>\n",
       "      <td>6.9</td>\n",
       "      <td>3.0</td>\n",
       "    </tr>\n",
       "    <tr>\n",
       "      <th>1</th>\n",
       "      <td>sfer</td>\n",
       "      <td>2014-12-01</td>\n",
       "      <td>2024-11-17</td>\n",
       "      <td>-85.022100</td>\n",
       "      <td>-80.044200</td>\n",
       "      <td>24.3952</td>\n",
       "      <td>28.784100</td>\n",
       "      <td>216</td>\n",
       "      <td>5814</td>\n",
       "      <td>28.0</td>\n",
       "      <td>28.5</td>\n",
       "    </tr>\n",
       "  </tbody>\n",
       "</table>\n",
       "</div>"
      ],
      "text/plain": [
       "   dataset  date_start    date_end    lon_min    lon_max  lat_min    lat_max  \\\n",
       "0  all_ctd  2006-01-18  2023-03-08 -84.062667 -80.067667  23.6660  28.018667   \n",
       "1     sfer  2014-12-01  2024-11-17 -85.022100 -80.044200  24.3952  28.784100   \n",
       "\n",
       "   total_stations  total_casts  mean_station_casts  median_station_casts  \n",
       "0             475         3199                 6.9                   3.0  \n",
       "1             216         5814                28.0                  28.5  "
      ]
     },
     "metadata": {},
     "output_type": "display_data"
    }
   ],
   "source": [
    "summarize_catalog(catalog)"
   ]
  },
  {
   "cell_type": "code",
   "execution_count": null,
   "id": "2ae5f825",
   "metadata": {},
   "outputs": [],
   "source": []
  },
  {
   "cell_type": "code",
   "execution_count": 3,
   "id": "5a996d7f",
   "metadata": {},
   "outputs": [],
   "source": [
    "# entries_selector = build_entries_selector(catalog)"
   ]
  },
  {
   "cell_type": "code",
   "execution_count": 4,
   "id": "50416c7a",
   "metadata": {},
   "outputs": [
    {
     "name": "stdout",
     "output_type": "stream",
     "text": [
      "Help on function search_catalog_variables in module fresca_catalog.catalog:\n",
      "\n",
      "search_catalog_variables(catalog, query=None, case_insensitive=True, fuzzy=False) -> List[str]\n",
      "    Searches the catalog for variables.\n",
      "    \n",
      "    Parameters\n",
      "    ----------\n",
      "    catalog : Catalog\n",
      "        The catalog to search.\n",
      "    query : str or list, optional\n",
      "        The query or list of queries to search for. If None, returns all variables. Default is None.\n",
      "    case_insensitive : bool, optional\n",
      "        Whether to perform a case-insensitive search. Default is True.\n",
      "    fuzzy : bool, optional\n",
      "        Whether to perform a fuzzy search. Default is False.\n",
      "    \n",
      "    Returns\n",
      "    -------\n",
      "    list\n",
      "        A list of matching variables.\n",
      "\n"
     ]
    }
   ],
   "source": [
    "help(search_catalog_variables)"
   ]
  },
  {
   "cell_type": "code",
   "execution_count": 5,
   "id": "72aea6db",
   "metadata": {},
   "outputs": [
    {
     "data": {
      "text/plain": [
       "['sal', 'salinity']"
      ]
     },
     "execution_count": 5,
     "metadata": {},
     "output_type": "execute_result"
    }
   ],
   "source": [
    "search_catalog_variables(catalog, 'sal')"
   ]
  },
  {
   "cell_type": "code",
   "execution_count": 6,
   "id": "51185355",
   "metadata": {},
   "outputs": [
    {
     "data": {
      "text/plain": [
       "['dissolved_oxygen', 'no2', 'no3_no2', 'o2_ctd', 'oxygen_saturation']"
      ]
     },
     "execution_count": 6,
     "metadata": {},
     "output_type": "execute_result"
    }
   ],
   "source": [
    "search_catalog_variables(catalog, ['o2', 'oxy'])"
   ]
  },
  {
   "cell_type": "code",
   "execution_count": null,
   "id": "a1595c14",
   "metadata": {},
   "outputs": [
    {
     "data": {
      "application/vnd.jupyter.widget-view+json": {
       "model_id": "f82ea44814254ee09868179a7c25faf7",
       "version_major": 2,
       "version_minor": 0
      },
      "text/plain": [
       "VBox(children=(SelectMultiple(options=('altimeter', 'avg_chl_a', 'avg_phaeo', 'beam_attenuation', 'beam_transm…"
      ]
     },
     "metadata": {},
     "output_type": "display_data"
    }
   ],
   "source": [
    "variables_selector = build_variables_selector(catalog)"
   ]
  },
  {
   "cell_type": "code",
   "execution_count": null,
   "id": "2a9b4912",
   "metadata": {},
   "outputs": [
    {
     "data": {
      "application/vnd.jupyter.widget-view+json": {
       "model_id": "5cc70103a9c84b1b892ba8948dd9be5f",
       "version_major": 2,
       "version_minor": 0
      },
      "text/plain": [
       "VBox(children=(SelectionRangeSlider(continuous_update=False, description='Date range', index=(0, 6878), layout…"
      ]
     },
     "metadata": {},
     "output_type": "display_data"
    }
   ],
   "source": [
    "time_range_selector = build_time_range_selector(catalog)"
   ]
  },
  {
   "cell_type": "code",
   "execution_count": 9,
   "id": "4f20c615-a592-4946-b5b4-04e3c36254b8",
   "metadata": {},
   "outputs": [
    {
     "name": "stderr",
     "output_type": "stream",
     "text": [
      "WARNING:param.main: active_tools option not found for points plot with bokeh; similar options include: ['hover_tooltips']\n"
     ]
    },
    {
     "data": {
      "application/vnd.jupyter.widget-view+json": {
       "model_id": "a0b7919da1dc470f950618a06d0c4514",
       "version_major": 2,
       "version_minor": 0
      },
      "text/plain": [
       "BokehModel(combine_events=True, render_bundle={'docs_json': {'43e200db-9bcd-47aa-849d-7e04cc10071b': {'version…"
      ]
     },
     "metadata": {},
     "output_type": "display_data"
    }
   ],
   "source": [
    "bbox_selector = build_bbox_selector(catalog)"
   ]
  },
  {
   "cell_type": "code",
   "execution_count": 13,
   "id": "41d349ba",
   "metadata": {},
   "outputs": [
    {
     "name": "stdout",
     "output_type": "stream",
     "text": [
      "Help on function filter_catalog in module fresca_catalog:\n",
      "\n",
      "filter_catalog(catalog: intake.readers.entry.Catalog, entry_names: List[str] = None, variables: List[str] = None, time_range: Tuple[str, str] = None, bbox: Tuple[float, float, float, float] = None) -> intake.readers.entry.Catalog\n",
      "    Filters a catalog based on the provided criteria.\n",
      "    \n",
      "    Parameters\n",
      "    ----------\n",
      "    catalog : Catalog\n",
      "        The catalog to filter.\n",
      "    entries : list, optional\n",
      "        The entries to be used for filtering.\n",
      "    variables : list, optional\n",
      "        The variables to be used for filtering.\n",
      "    time_range : list, optional\n",
      "        The time range to be used for filtering, formatted as [min_time, max_time].\n",
      "    bbox : list, optional\n",
      "        The bounding box to be used for filtering, formatted as [min_lon, min_lat, max_lon, max_lat].\n",
      "    \n",
      "    Returns\n",
      "    -------\n",
      "    Catalog\n",
      "        The filtered catalog.\n",
      "\n"
     ]
    }
   ],
   "source": [
    "help(filter_catalog)"
   ]
  },
  {
   "cell_type": "code",
   "execution_count": 10,
   "id": "be084ba3",
   "metadata": {},
   "outputs": [
    {
     "data": {
      "text/plain": [
       "Catalog\n",
       " named datasets: ['all_ctd']"
      ]
     },
     "execution_count": 10,
     "metadata": {},
     "output_type": "execute_result"
    }
   ],
   "source": [
    "filtered_catalog = filter_catalog(\n",
    "    catalog,\n",
    "    # entries=entries_selector.result,\n",
    "    variables=variables_selector.result,\n",
    "    time_range=time_range_selector.result,\n",
    "    bbox=bbox_selector.result\n",
    ")\n",
    "filtered_catalog"
   ]
  },
  {
   "cell_type": "code",
   "execution_count": 20,
   "id": "583d4f10",
   "metadata": {},
   "outputs": [
    {
     "data": {
      "application/vnd.microsoft.datawrangler.viewer.v0+json": {
       "columns": [
        {
         "name": "index",
         "rawType": "int64",
         "type": "integer"
        },
        {
         "name": "station",
         "rawType": "object",
         "type": "string"
        },
        {
         "name": "date_start",
         "rawType": "object",
         "type": "string"
        },
        {
         "name": "date_end",
         "rawType": "object",
         "type": "string"
        },
        {
         "name": "lon",
         "rawType": "float64",
         "type": "float"
        },
        {
         "name": "lat",
         "rawType": "float64",
         "type": "float"
        },
        {
         "name": "total_casts",
         "rawType": "int64",
         "type": "integer"
        },
        {
         "name": "max_depths",
         "rawType": "int64",
         "type": "integer"
        },
        {
         "name": "median_depths",
         "rawType": "int64",
         "type": "integer"
        }
       ],
       "ref": "4938c681-13e6-4deb-a994-fe8edf35fda5",
       "rows": [
        [
         "0",
         "58",
         "2006-01-18",
         "2021-06-05",
         "-81.653875",
         "25.166402777777773",
         "48",
         "35",
         "19"
        ],
        [
         "1",
         "59",
         "2006-01-18",
         "2018-10-19",
         "-81.49813636363638",
         "25.166613636363635",
         "22",
         "22",
         "12"
        ],
        [
         "2",
         "60",
         "2006-01-18",
         "2022-10-14",
         "-81.33590064102563",
         "25.16663461538462",
         "52",
         "10",
         "7"
        ],
        [
         "3",
         "61",
         "2006-01-18",
         "2017-10-11",
         "-81.2744",
         "25.166866666666657",
         "5",
         "7",
         "7"
        ],
        [
         "4",
         "62",
         "2006-01-18",
         "2018-08-09",
         "-81.2349705882353",
         "25.166490196078428",
         "17",
         "5",
         "3"
        ],
        [
         "5",
         "63",
         "2006-01-18",
         "2020-08-22",
         "-81.20227777777778",
         "25.16661111111112",
         "6",
         "5",
         "3"
        ],
        [
         "6",
         "64",
         "2006-01-18",
         "2022-10-14",
         "-81.15960185185185",
         "25.165944444444442",
         "18",
         "3",
         "1"
        ],
        [
         "7",
         "65",
         "2006-01-18",
         "2022-10-14",
         "-81.01394166666668",
         "25.094299999999993",
         "20",
         "146",
         "1"
        ],
        [
         "8",
         "66",
         "2006-01-18",
         "2017-10-11",
         "-81.10853333333331",
         "25.067500000000003",
         "5",
         "5",
         "3"
        ],
        [
         "9",
         "67",
         "2006-01-18",
         "2017-10-11",
         "-81.12693333333334",
         "25.029466666666657",
         "5",
         "5",
         "4"
        ],
        [
         "10",
         "68",
         "2006-01-18",
         "2022-10-14",
         "-81.16709629629628",
         "24.929529629629627",
         "45",
         "7",
         "3"
        ],
        [
         "11",
         "69",
         "2006-01-18",
         "2017-10-11",
         "-81.09485416666666",
         "24.92984027777779",
         "24",
         "6",
         "3"
        ],
        [
         "12",
         "70",
         "2006-01-18",
         "2017-10-11",
         "-81.02439999999999",
         "24.930000000000003",
         "5",
         "4",
         "3"
        ],
        [
         "13",
         "71",
         "2006-01-18",
         "2006-05-09",
         "-80.9630833333333",
         "24.92983333333335",
         "2",
         "3",
         "2"
        ],
        [
         "14",
         "39",
         "2006-01-19",
         "2017-10-12",
         "-81.48500833333335",
         "25.78022500000001",
         "20",
         "4",
         "3"
        ],
        [
         "15",
         "40",
         "2006-01-19",
         "2006-05-08",
         "-81.52341666666665",
         "25.76008333333335",
         "2",
         "6",
         "6"
        ],
        [
         "16",
         "41",
         "2006-01-19",
         "2021-06-05",
         "-81.57560344827588",
         "25.733160919540232",
         "29",
         "9",
         "4"
        ],
        [
         "17",
         "44",
         "2006-01-19",
         "2006-08-07",
         "-81.66633333333336",
         "25.583833333333303",
         "2",
         "16",
         "14"
        ],
        [
         "18",
         "45",
         "2006-01-19",
         "2021-06-05",
         "-81.47123039215685",
         "25.582906862745094",
         "34",
         "11",
         "7"
        ],
        [
         "19",
         "46",
         "2006-01-19",
         "2006-05-08",
         "-81.40816666666666",
         "25.58316666666665",
         "2",
         "9",
         "9"
        ],
        [
         "20",
         "47",
         "2006-01-19",
         "2021-06-05",
         "-81.36633333333333",
         "25.582916666666673",
         "4",
         "7",
         "5"
        ],
        [
         "21",
         "48",
         "2006-01-19",
         "2015-04-15",
         "-81.33116666666666",
         "25.583708333333348",
         "4",
         "6",
         "2"
        ],
        [
         "22",
         "49",
         "2006-01-19",
         "2020-08-21",
         "-81.293875",
         "25.58317592592592",
         "36",
         "4",
         "2"
        ],
        [
         "23",
         "50",
         "2006-01-19",
         "2017-10-12",
         "-81.35040909090908",
         "25.452856060606063",
         "22",
         "10",
         "6"
        ],
        [
         "24",
         "51",
         "2006-01-19",
         "2021-06-05",
         "-81.30839743589743",
         "25.453461538461536",
         "26",
         "7",
         "4"
        ],
        [
         "25",
         "52",
         "2006-01-19",
         "2006-05-08",
         "-81.2596666666667",
         "25.4533333333333",
         "2",
         "3",
         "2"
        ],
        [
         "26",
         "53",
         "2006-01-19",
         "2021-06-05",
         "-81.22693548387095",
         "25.453075268817205",
         "31",
         "4",
         "2"
        ],
        [
         "27",
         "54",
         "2006-01-19",
         "2020-08-21",
         "-81.15391666666665",
         "25.343388888888896",
         "36",
         "6",
         "2"
        ],
        [
         "28",
         "55",
         "2006-01-19",
         "2022-10-13",
         "-81.19563492063492",
         "25.34996825396825",
         "21",
         "4",
         "1"
        ],
        [
         "29",
         "56",
         "2006-01-19",
         "2022-10-14",
         "-81.22763095238095",
         "25.34998412698412",
         "42",
         "5",
         "2"
        ],
        [
         "30",
         "57",
         "2006-01-19",
         "2022-10-14",
         "-81.2655202020202",
         "25.351545454545455",
         "33",
         "7",
         "3"
        ],
        [
         "31",
         "42",
         "2006-01-20",
         "2019-09-28",
         "-81.7185",
         "25.6548409090909",
         "22",
         "15",
         "13"
        ],
        [
         "32",
         "CAL1",
         "2006-01-20",
         "2022-10-10",
         "-81.95974",
         "26.42604666666666",
         "25",
         "6",
         "3"
        ],
        [
         "33",
         "CAL2",
         "2006-01-20",
         "2022-10-10",
         "-81.9999861111111",
         "26.383444444444446",
         "12",
         "12",
         "8"
        ],
        [
         "34",
         "CAL3",
         "2006-01-20",
         "2022-10-10",
         "-82.04408333333335",
         "26.341404761904755",
         "14",
         "16",
         "14"
        ],
        [
         "35",
         "CAL4",
         "2006-01-20",
         "2022-10-10",
         "-82.13680952380953",
         "26.255214285714285",
         "14",
         "24",
         "19"
        ],
        [
         "36",
         "CAL5",
         "2006-01-20",
         "2022-10-10",
         "-82.21732051282052",
         "26.183012820512833",
         "26",
         "34",
         "30"
        ],
        [
         "37",
         "CH1",
         "2006-01-20",
         "2006-05-07",
         "-82.2495",
         "26.717750000000002",
         "2",
         "18",
         "16"
        ],
        [
         "38",
         "CH2",
         "2006-01-20",
         "2010-10-14",
         "-82.33124509803919",
         "26.66201960784312",
         "17",
         "21",
         "17"
        ],
        [
         "39",
         "CH3",
         "2006-01-20",
         "2010-08-18",
         "-82.46644444444446",
         "26.554333333333364",
         "3",
         "32",
         "30"
        ],
        [
         "40",
         "CH4",
         "2006-01-20",
         "2010-08-18",
         "-82.617",
         "26.47172222222223",
         "3",
         "49",
         "43"
        ],
        [
         "41",
         "CH5",
         "2006-01-20",
         "2010-10-14",
         "-82.76721111111111",
         "26.383488888888902",
         "15",
         "58",
         "52"
        ],
        [
         "42",
         "29",
         "2006-01-21",
         "2012-08-08",
         "-82.47878888888889",
         "25.063677777777787",
         "15",
         "64",
         "61"
        ],
        [
         "43",
         "29.5",
         "2006-01-21",
         "2011-02-23",
         "-82.34994444444446",
         "25.22683333333333",
         "3",
         "56",
         "55"
        ],
        [
         "44",
         "30",
         "2006-01-21",
         "2021-06-01",
         "-82.2102840909091",
         "25.401121212121215",
         "44",
         "48",
         "44"
        ],
        [
         "45",
         "31",
         "2006-01-21",
         "2021-06-01",
         "-81.943477124183",
         "25.741081699346402",
         "51",
         "28",
         "25"
        ],
        [
         "46",
         "32",
         "2006-01-21",
         "2017-10-12",
         "-81.83350000000002",
         "25.87263333333336",
         "5",
         "20",
         "18"
        ],
        [
         "47",
         "33",
         "2006-01-21",
         "2021-06-01",
         "-81.80427450980393",
         "25.90649019607844",
         "34",
         "24",
         "12"
        ],
        [
         "48",
         "34",
         "2006-01-21",
         "2017-10-12",
         "-81.7680486111111",
         "25.948979166666664",
         "24",
         "9",
         "6"
        ],
        [
         "49",
         "28",
         "2006-01-22",
         "2012-08-08",
         "-82.74907777777777",
         "24.728222222222225",
         "15",
         "55",
         "51"
        ]
       ],
       "shape": {
        "columns": 8,
        "rows": 475
       }
      },
      "text/html": [
       "<div>\n",
       "<style scoped>\n",
       "    .dataframe tbody tr th:only-of-type {\n",
       "        vertical-align: middle;\n",
       "    }\n",
       "\n",
       "    .dataframe tbody tr th {\n",
       "        vertical-align: top;\n",
       "    }\n",
       "\n",
       "    .dataframe thead th {\n",
       "        text-align: right;\n",
       "    }\n",
       "</style>\n",
       "<table border=\"1\" class=\"dataframe\">\n",
       "  <thead>\n",
       "    <tr style=\"text-align: right;\">\n",
       "      <th></th>\n",
       "      <th>station</th>\n",
       "      <th>date_start</th>\n",
       "      <th>date_end</th>\n",
       "      <th>lon</th>\n",
       "      <th>lat</th>\n",
       "      <th>total_casts</th>\n",
       "      <th>max_depths</th>\n",
       "      <th>median_depths</th>\n",
       "    </tr>\n",
       "  </thead>\n",
       "  <tbody>\n",
       "    <tr>\n",
       "      <th>0</th>\n",
       "      <td>58</td>\n",
       "      <td>2006-01-18</td>\n",
       "      <td>2021-06-05</td>\n",
       "      <td>-81.653875</td>\n",
       "      <td>25.166403</td>\n",
       "      <td>48</td>\n",
       "      <td>35</td>\n",
       "      <td>19</td>\n",
       "    </tr>\n",
       "    <tr>\n",
       "      <th>1</th>\n",
       "      <td>59</td>\n",
       "      <td>2006-01-18</td>\n",
       "      <td>2018-10-19</td>\n",
       "      <td>-81.498136</td>\n",
       "      <td>25.166614</td>\n",
       "      <td>22</td>\n",
       "      <td>22</td>\n",
       "      <td>12</td>\n",
       "    </tr>\n",
       "    <tr>\n",
       "      <th>2</th>\n",
       "      <td>60</td>\n",
       "      <td>2006-01-18</td>\n",
       "      <td>2022-10-14</td>\n",
       "      <td>-81.335901</td>\n",
       "      <td>25.166635</td>\n",
       "      <td>52</td>\n",
       "      <td>10</td>\n",
       "      <td>7</td>\n",
       "    </tr>\n",
       "    <tr>\n",
       "      <th>3</th>\n",
       "      <td>61</td>\n",
       "      <td>2006-01-18</td>\n",
       "      <td>2017-10-11</td>\n",
       "      <td>-81.274400</td>\n",
       "      <td>25.166867</td>\n",
       "      <td>5</td>\n",
       "      <td>7</td>\n",
       "      <td>7</td>\n",
       "    </tr>\n",
       "    <tr>\n",
       "      <th>4</th>\n",
       "      <td>62</td>\n",
       "      <td>2006-01-18</td>\n",
       "      <td>2018-08-09</td>\n",
       "      <td>-81.234971</td>\n",
       "      <td>25.166490</td>\n",
       "      <td>17</td>\n",
       "      <td>5</td>\n",
       "      <td>3</td>\n",
       "    </tr>\n",
       "    <tr>\n",
       "      <th>...</th>\n",
       "      <td>...</td>\n",
       "      <td>...</td>\n",
       "      <td>...</td>\n",
       "      <td>...</td>\n",
       "      <td>...</td>\n",
       "      <td>...</td>\n",
       "      <td>...</td>\n",
       "      <td>...</td>\n",
       "    </tr>\n",
       "    <tr>\n",
       "      <th>470</th>\n",
       "      <td>.CW5</td>\n",
       "      <td>2023-03-07</td>\n",
       "      <td>2023-03-07</td>\n",
       "      <td>-83.239167</td>\n",
       "      <td>28.010500</td>\n",
       "      <td>1</td>\n",
       "      <td>37</td>\n",
       "      <td>37</td>\n",
       "    </tr>\n",
       "    <tr>\n",
       "      <th>471</th>\n",
       "      <td>.CW6</td>\n",
       "      <td>2023-03-07</td>\n",
       "      <td>2023-03-07</td>\n",
       "      <td>-83.403500</td>\n",
       "      <td>28.010500</td>\n",
       "      <td>1</td>\n",
       "      <td>50</td>\n",
       "      <td>50</td>\n",
       "    </tr>\n",
       "    <tr>\n",
       "      <th>472</th>\n",
       "      <td>.CW7</td>\n",
       "      <td>2023-03-07</td>\n",
       "      <td>2023-03-07</td>\n",
       "      <td>-83.567833</td>\n",
       "      <td>28.011833</td>\n",
       "      <td>1</td>\n",
       "      <td>61</td>\n",
       "      <td>61</td>\n",
       "    </tr>\n",
       "    <tr>\n",
       "      <th>473</th>\n",
       "      <td>.ROME4</td>\n",
       "      <td>2023-03-07</td>\n",
       "      <td>2023-03-07</td>\n",
       "      <td>-82.921167</td>\n",
       "      <td>27.649667</td>\n",
       "      <td>1</td>\n",
       "      <td>16</td>\n",
       "      <td>16</td>\n",
       "    </tr>\n",
       "    <tr>\n",
       "      <th>474</th>\n",
       "      <td>.ROME5</td>\n",
       "      <td>2023-03-07</td>\n",
       "      <td>2023-03-07</td>\n",
       "      <td>-82.839500</td>\n",
       "      <td>27.648333</td>\n",
       "      <td>1</td>\n",
       "      <td>13</td>\n",
       "      <td>13</td>\n",
       "    </tr>\n",
       "  </tbody>\n",
       "</table>\n",
       "<p>475 rows × 8 columns</p>\n",
       "</div>"
      ],
      "text/plain": [
       "    station  date_start    date_end        lon        lat  total_casts  \\\n",
       "0        58  2006-01-18  2021-06-05 -81.653875  25.166403           48   \n",
       "1        59  2006-01-18  2018-10-19 -81.498136  25.166614           22   \n",
       "2        60  2006-01-18  2022-10-14 -81.335901  25.166635           52   \n",
       "3        61  2006-01-18  2017-10-11 -81.274400  25.166867            5   \n",
       "4        62  2006-01-18  2018-08-09 -81.234971  25.166490           17   \n",
       "..      ...         ...         ...        ...        ...          ...   \n",
       "470    .CW5  2023-03-07  2023-03-07 -83.239167  28.010500            1   \n",
       "471    .CW6  2023-03-07  2023-03-07 -83.403500  28.010500            1   \n",
       "472    .CW7  2023-03-07  2023-03-07 -83.567833  28.011833            1   \n",
       "473  .ROME4  2023-03-07  2023-03-07 -82.921167  27.649667            1   \n",
       "474  .ROME5  2023-03-07  2023-03-07 -82.839500  27.648333            1   \n",
       "\n",
       "     max_depths  median_depths  \n",
       "0            35             19  \n",
       "1            22             12  \n",
       "2            10              7  \n",
       "3             7              7  \n",
       "4             5              3  \n",
       "..          ...            ...  \n",
       "470          37             37  \n",
       "471          50             50  \n",
       "472          61             61  \n",
       "473          16             16  \n",
       "474          13             13  \n",
       "\n",
       "[475 rows x 8 columns]"
      ]
     },
     "metadata": {},
     "output_type": "display_data"
    }
   ],
   "source": [
    "summarize_entry_stations(catalog, 'all_ctd')"
   ]
  },
  {
   "cell_type": "code",
   "execution_count": 21,
   "id": "d73a16f8",
   "metadata": {},
   "outputs": [
    {
     "data": {
      "application/vnd.microsoft.datawrangler.viewer.v0+json": {
       "columns": [
        {
         "name": "index",
         "rawType": "int64",
         "type": "integer"
        },
        {
         "name": "variable",
         "rawType": "object",
         "type": "string"
        },
        {
         "name": "date_start",
         "rawType": "object",
         "type": "string"
        },
        {
         "name": "date_end",
         "rawType": "object",
         "type": "string"
        },
        {
         "name": "lon_min",
         "rawType": "float64",
         "type": "float"
        },
        {
         "name": "lon_max",
         "rawType": "float64",
         "type": "float"
        },
        {
         "name": "lat_min",
         "rawType": "float64",
         "type": "float"
        },
        {
         "name": "lat_max",
         "rawType": "float64",
         "type": "float"
        },
        {
         "name": "total_stations",
         "rawType": "int64",
         "type": "integer"
        },
        {
         "name": "total_casts",
         "rawType": "int64",
         "type": "integer"
        },
        {
         "name": "mean_station_casts",
         "rawType": "float64",
         "type": "float"
        },
        {
         "name": "median_station_casts",
         "rawType": "float64",
         "type": "float"
        }
       ],
       "ref": "44d82dba-51f1-4a66-b7ff-846a05da3839",
       "rows": [
        [
         "0",
         "scan",
         "2006-01-18",
         "2023-03-08",
         "-84.0626666666667",
         "-80.0676666666667",
         "23.666",
         "28.0186666666667",
         "475",
         "3199",
         "6.9",
         "3.0"
        ],
        [
         "1",
         "salinity",
         "2006-01-18",
         "2023-03-08",
         "-84.0626666666667",
         "-80.0676666666667",
         "23.666",
         "28.0186666666667",
         "475",
         "3196",
         "6.9",
         "3.0"
        ],
        [
         "2",
         "temperature",
         "2006-01-18",
         "2023-03-08",
         "-84.0626666666667",
         "-80.0676666666667",
         "23.666",
         "28.0186666666667",
         "475",
         "3199",
         "6.9",
         "3.0"
        ],
        [
         "3",
         "pressure",
         "2006-01-18",
         "2023-03-08",
         "-84.0626666666667",
         "-80.0676666666667",
         "23.666",
         "28.0186666666667",
         "475",
         "3199",
         "6.9",
         "3.0"
        ],
        [
         "4",
         "sea_water_electrical_conductivity",
         "2006-01-18",
         "2023-03-08",
         "-84.0626666666667",
         "-80.0676666666667",
         "23.666",
         "28.0186666666667",
         "475",
         "3196",
         "6.9",
         "3.0"
        ],
        [
         "5",
         "CDOM",
         "2018-03-08",
         "2023-03-08",
         "-83.5678333333333",
         "-80.0818333333333",
         "24.4745",
         "28.0171666666667",
         "299",
         "697",
         "2.4",
         "2.0"
        ],
        [
         "6",
         "dissolved_oxygen",
         "2006-01-18",
         "2023-03-08",
         "-84.0626666666667",
         "-80.0676666666667",
         "23.666",
         "28.0186666666667",
         "473",
         "3151",
         "6.8",
         "3.0"
        ],
        [
         "7",
         "oxygen_saturation",
         "2006-01-18",
         "2023-03-08",
         "-84.0626666666667",
         "-80.0676666666667",
         "23.666",
         "28.0186666666667",
         "473",
         "3151",
         "6.8",
         "3.0"
        ],
        [
         "8",
         "chlorophyll_concentration",
         "2018-03-08",
         "2023-03-08",
         "-83.5678333333333",
         "-80.0818333333333",
         "24.4745",
         "28.0171666666667",
         "286",
         "627",
         "2.3",
         "1.0"
        ],
        [
         "9",
         "chlorophyll_fluorescence",
         "2006-01-18",
         "2023-03-08",
         "-84.0626666666667",
         "-80.0676666666667",
         "23.666",
         "28.0186666666667",
         "412",
         "3078",
         "7.6",
         "3.0"
        ],
        [
         "10",
         "photosynthetically_available_radiation",
         "2006-01-18",
         "2023-03-08",
         "-84.0626666666667",
         "-80.0676666666667",
         "23.666",
         "28.0186666666667",
         "411",
         "2863",
         "7.1",
         "3.0"
        ],
        [
         "11",
         "beam_attenuation",
         "2006-01-18",
         "2023-03-08",
         "-84.0626666666667",
         "-80.0676666666667",
         "23.666",
         "28.0186666666667",
         "404",
         "2900",
         "7.3",
         "3.0"
        ],
        [
         "12",
         "beam_transmission",
         "2006-01-18",
         "2023-03-08",
         "-84.0626666666667",
         "-80.0676666666667",
         "23.666",
         "28.0186666666667",
         "390",
         "2481",
         "6.5",
         "3.0"
        ],
        [
         "13",
         "depth",
         "2006-01-18",
         "2023-03-08",
         "-84.0626666666667",
         "-80.0676666666667",
         "23.666",
         "28.0186666666667",
         "475",
         "3199",
         "6.9",
         "3.0"
        ],
        [
         "14",
         "sea_water_sigma_t",
         "2006-01-18",
         "2023-03-08",
         "-84.0626666666667",
         "-80.0676666666667",
         "23.666",
         "28.0186666666667",
         "475",
         "3196",
         "6.9",
         "3.0"
        ],
        [
         "15",
         "sound_velocity",
         "2006-01-18",
         "2023-03-08",
         "-84.0626666666667",
         "-80.0676666666667",
         "23.666",
         "28.0186666666667",
         "475",
         "3196",
         "6.9",
         "3.0"
        ],
        [
         "16",
         "altimeter",
         "2006-01-18",
         "2023-03-08",
         "-84.0626666666667",
         "-80.0676666666667",
         "23.666",
         "28.0186666666667",
         "470",
         "3108",
         "6.8",
         "3.0"
        ]
       ],
       "shape": {
        "columns": 11,
        "rows": 17
       }
      },
      "text/html": [
       "<div>\n",
       "<style scoped>\n",
       "    .dataframe tbody tr th:only-of-type {\n",
       "        vertical-align: middle;\n",
       "    }\n",
       "\n",
       "    .dataframe tbody tr th {\n",
       "        vertical-align: top;\n",
       "    }\n",
       "\n",
       "    .dataframe thead th {\n",
       "        text-align: right;\n",
       "    }\n",
       "</style>\n",
       "<table border=\"1\" class=\"dataframe\">\n",
       "  <thead>\n",
       "    <tr style=\"text-align: right;\">\n",
       "      <th></th>\n",
       "      <th>variable</th>\n",
       "      <th>date_start</th>\n",
       "      <th>date_end</th>\n",
       "      <th>lon_min</th>\n",
       "      <th>lon_max</th>\n",
       "      <th>lat_min</th>\n",
       "      <th>lat_max</th>\n",
       "      <th>total_stations</th>\n",
       "      <th>total_casts</th>\n",
       "      <th>mean_station_casts</th>\n",
       "      <th>median_station_casts</th>\n",
       "    </tr>\n",
       "  </thead>\n",
       "  <tbody>\n",
       "    <tr>\n",
       "      <th>0</th>\n",
       "      <td>scan</td>\n",
       "      <td>2006-01-18</td>\n",
       "      <td>2023-03-08</td>\n",
       "      <td>-84.062667</td>\n",
       "      <td>-80.067667</td>\n",
       "      <td>23.6660</td>\n",
       "      <td>28.018667</td>\n",
       "      <td>475</td>\n",
       "      <td>3199</td>\n",
       "      <td>6.9</td>\n",
       "      <td>3.0</td>\n",
       "    </tr>\n",
       "    <tr>\n",
       "      <th>1</th>\n",
       "      <td>salinity</td>\n",
       "      <td>2006-01-18</td>\n",
       "      <td>2023-03-08</td>\n",
       "      <td>-84.062667</td>\n",
       "      <td>-80.067667</td>\n",
       "      <td>23.6660</td>\n",
       "      <td>28.018667</td>\n",
       "      <td>475</td>\n",
       "      <td>3196</td>\n",
       "      <td>6.9</td>\n",
       "      <td>3.0</td>\n",
       "    </tr>\n",
       "    <tr>\n",
       "      <th>2</th>\n",
       "      <td>temperature</td>\n",
       "      <td>2006-01-18</td>\n",
       "      <td>2023-03-08</td>\n",
       "      <td>-84.062667</td>\n",
       "      <td>-80.067667</td>\n",
       "      <td>23.6660</td>\n",
       "      <td>28.018667</td>\n",
       "      <td>475</td>\n",
       "      <td>3199</td>\n",
       "      <td>6.9</td>\n",
       "      <td>3.0</td>\n",
       "    </tr>\n",
       "    <tr>\n",
       "      <th>3</th>\n",
       "      <td>pressure</td>\n",
       "      <td>2006-01-18</td>\n",
       "      <td>2023-03-08</td>\n",
       "      <td>-84.062667</td>\n",
       "      <td>-80.067667</td>\n",
       "      <td>23.6660</td>\n",
       "      <td>28.018667</td>\n",
       "      <td>475</td>\n",
       "      <td>3199</td>\n",
       "      <td>6.9</td>\n",
       "      <td>3.0</td>\n",
       "    </tr>\n",
       "    <tr>\n",
       "      <th>4</th>\n",
       "      <td>sea_water_electrical_conductivity</td>\n",
       "      <td>2006-01-18</td>\n",
       "      <td>2023-03-08</td>\n",
       "      <td>-84.062667</td>\n",
       "      <td>-80.067667</td>\n",
       "      <td>23.6660</td>\n",
       "      <td>28.018667</td>\n",
       "      <td>475</td>\n",
       "      <td>3196</td>\n",
       "      <td>6.9</td>\n",
       "      <td>3.0</td>\n",
       "    </tr>\n",
       "    <tr>\n",
       "      <th>5</th>\n",
       "      <td>CDOM</td>\n",
       "      <td>2018-03-08</td>\n",
       "      <td>2023-03-08</td>\n",
       "      <td>-83.567833</td>\n",
       "      <td>-80.081833</td>\n",
       "      <td>24.4745</td>\n",
       "      <td>28.017167</td>\n",
       "      <td>299</td>\n",
       "      <td>697</td>\n",
       "      <td>2.4</td>\n",
       "      <td>2.0</td>\n",
       "    </tr>\n",
       "    <tr>\n",
       "      <th>6</th>\n",
       "      <td>dissolved_oxygen</td>\n",
       "      <td>2006-01-18</td>\n",
       "      <td>2023-03-08</td>\n",
       "      <td>-84.062667</td>\n",
       "      <td>-80.067667</td>\n",
       "      <td>23.6660</td>\n",
       "      <td>28.018667</td>\n",
       "      <td>473</td>\n",
       "      <td>3151</td>\n",
       "      <td>6.8</td>\n",
       "      <td>3.0</td>\n",
       "    </tr>\n",
       "    <tr>\n",
       "      <th>7</th>\n",
       "      <td>oxygen_saturation</td>\n",
       "      <td>2006-01-18</td>\n",
       "      <td>2023-03-08</td>\n",
       "      <td>-84.062667</td>\n",
       "      <td>-80.067667</td>\n",
       "      <td>23.6660</td>\n",
       "      <td>28.018667</td>\n",
       "      <td>473</td>\n",
       "      <td>3151</td>\n",
       "      <td>6.8</td>\n",
       "      <td>3.0</td>\n",
       "    </tr>\n",
       "    <tr>\n",
       "      <th>8</th>\n",
       "      <td>chlorophyll_concentration</td>\n",
       "      <td>2018-03-08</td>\n",
       "      <td>2023-03-08</td>\n",
       "      <td>-83.567833</td>\n",
       "      <td>-80.081833</td>\n",
       "      <td>24.4745</td>\n",
       "      <td>28.017167</td>\n",
       "      <td>286</td>\n",
       "      <td>627</td>\n",
       "      <td>2.3</td>\n",
       "      <td>1.0</td>\n",
       "    </tr>\n",
       "    <tr>\n",
       "      <th>9</th>\n",
       "      <td>chlorophyll_fluorescence</td>\n",
       "      <td>2006-01-18</td>\n",
       "      <td>2023-03-08</td>\n",
       "      <td>-84.062667</td>\n",
       "      <td>-80.067667</td>\n",
       "      <td>23.6660</td>\n",
       "      <td>28.018667</td>\n",
       "      <td>412</td>\n",
       "      <td>3078</td>\n",
       "      <td>7.6</td>\n",
       "      <td>3.0</td>\n",
       "    </tr>\n",
       "    <tr>\n",
       "      <th>10</th>\n",
       "      <td>photosynthetically_available_radiation</td>\n",
       "      <td>2006-01-18</td>\n",
       "      <td>2023-03-08</td>\n",
       "      <td>-84.062667</td>\n",
       "      <td>-80.067667</td>\n",
       "      <td>23.6660</td>\n",
       "      <td>28.018667</td>\n",
       "      <td>411</td>\n",
       "      <td>2863</td>\n",
       "      <td>7.1</td>\n",
       "      <td>3.0</td>\n",
       "    </tr>\n",
       "    <tr>\n",
       "      <th>11</th>\n",
       "      <td>beam_attenuation</td>\n",
       "      <td>2006-01-18</td>\n",
       "      <td>2023-03-08</td>\n",
       "      <td>-84.062667</td>\n",
       "      <td>-80.067667</td>\n",
       "      <td>23.6660</td>\n",
       "      <td>28.018667</td>\n",
       "      <td>404</td>\n",
       "      <td>2900</td>\n",
       "      <td>7.3</td>\n",
       "      <td>3.0</td>\n",
       "    </tr>\n",
       "    <tr>\n",
       "      <th>12</th>\n",
       "      <td>beam_transmission</td>\n",
       "      <td>2006-01-18</td>\n",
       "      <td>2023-03-08</td>\n",
       "      <td>-84.062667</td>\n",
       "      <td>-80.067667</td>\n",
       "      <td>23.6660</td>\n",
       "      <td>28.018667</td>\n",
       "      <td>390</td>\n",
       "      <td>2481</td>\n",
       "      <td>6.5</td>\n",
       "      <td>3.0</td>\n",
       "    </tr>\n",
       "    <tr>\n",
       "      <th>13</th>\n",
       "      <td>depth</td>\n",
       "      <td>2006-01-18</td>\n",
       "      <td>2023-03-08</td>\n",
       "      <td>-84.062667</td>\n",
       "      <td>-80.067667</td>\n",
       "      <td>23.6660</td>\n",
       "      <td>28.018667</td>\n",
       "      <td>475</td>\n",
       "      <td>3199</td>\n",
       "      <td>6.9</td>\n",
       "      <td>3.0</td>\n",
       "    </tr>\n",
       "    <tr>\n",
       "      <th>14</th>\n",
       "      <td>sea_water_sigma_t</td>\n",
       "      <td>2006-01-18</td>\n",
       "      <td>2023-03-08</td>\n",
       "      <td>-84.062667</td>\n",
       "      <td>-80.067667</td>\n",
       "      <td>23.6660</td>\n",
       "      <td>28.018667</td>\n",
       "      <td>475</td>\n",
       "      <td>3196</td>\n",
       "      <td>6.9</td>\n",
       "      <td>3.0</td>\n",
       "    </tr>\n",
       "    <tr>\n",
       "      <th>15</th>\n",
       "      <td>sound_velocity</td>\n",
       "      <td>2006-01-18</td>\n",
       "      <td>2023-03-08</td>\n",
       "      <td>-84.062667</td>\n",
       "      <td>-80.067667</td>\n",
       "      <td>23.6660</td>\n",
       "      <td>28.018667</td>\n",
       "      <td>475</td>\n",
       "      <td>3196</td>\n",
       "      <td>6.9</td>\n",
       "      <td>3.0</td>\n",
       "    </tr>\n",
       "    <tr>\n",
       "      <th>16</th>\n",
       "      <td>altimeter</td>\n",
       "      <td>2006-01-18</td>\n",
       "      <td>2023-03-08</td>\n",
       "      <td>-84.062667</td>\n",
       "      <td>-80.067667</td>\n",
       "      <td>23.6660</td>\n",
       "      <td>28.018667</td>\n",
       "      <td>470</td>\n",
       "      <td>3108</td>\n",
       "      <td>6.8</td>\n",
       "      <td>3.0</td>\n",
       "    </tr>\n",
       "  </tbody>\n",
       "</table>\n",
       "</div>"
      ],
      "text/plain": [
       "                                  variable  date_start    date_end    lon_min  \\\n",
       "0                                     scan  2006-01-18  2023-03-08 -84.062667   \n",
       "1                                 salinity  2006-01-18  2023-03-08 -84.062667   \n",
       "2                              temperature  2006-01-18  2023-03-08 -84.062667   \n",
       "3                                 pressure  2006-01-18  2023-03-08 -84.062667   \n",
       "4        sea_water_electrical_conductivity  2006-01-18  2023-03-08 -84.062667   \n",
       "5                                     CDOM  2018-03-08  2023-03-08 -83.567833   \n",
       "6                         dissolved_oxygen  2006-01-18  2023-03-08 -84.062667   \n",
       "7                        oxygen_saturation  2006-01-18  2023-03-08 -84.062667   \n",
       "8                chlorophyll_concentration  2018-03-08  2023-03-08 -83.567833   \n",
       "9                 chlorophyll_fluorescence  2006-01-18  2023-03-08 -84.062667   \n",
       "10  photosynthetically_available_radiation  2006-01-18  2023-03-08 -84.062667   \n",
       "11                        beam_attenuation  2006-01-18  2023-03-08 -84.062667   \n",
       "12                       beam_transmission  2006-01-18  2023-03-08 -84.062667   \n",
       "13                                   depth  2006-01-18  2023-03-08 -84.062667   \n",
       "14                       sea_water_sigma_t  2006-01-18  2023-03-08 -84.062667   \n",
       "15                          sound_velocity  2006-01-18  2023-03-08 -84.062667   \n",
       "16                               altimeter  2006-01-18  2023-03-08 -84.062667   \n",
       "\n",
       "      lon_max  lat_min    lat_max  total_stations  total_casts  \\\n",
       "0  -80.067667  23.6660  28.018667             475         3199   \n",
       "1  -80.067667  23.6660  28.018667             475         3196   \n",
       "2  -80.067667  23.6660  28.018667             475         3199   \n",
       "3  -80.067667  23.6660  28.018667             475         3199   \n",
       "4  -80.067667  23.6660  28.018667             475         3196   \n",
       "5  -80.081833  24.4745  28.017167             299          697   \n",
       "6  -80.067667  23.6660  28.018667             473         3151   \n",
       "7  -80.067667  23.6660  28.018667             473         3151   \n",
       "8  -80.081833  24.4745  28.017167             286          627   \n",
       "9  -80.067667  23.6660  28.018667             412         3078   \n",
       "10 -80.067667  23.6660  28.018667             411         2863   \n",
       "11 -80.067667  23.6660  28.018667             404         2900   \n",
       "12 -80.067667  23.6660  28.018667             390         2481   \n",
       "13 -80.067667  23.6660  28.018667             475         3199   \n",
       "14 -80.067667  23.6660  28.018667             475         3196   \n",
       "15 -80.067667  23.6660  28.018667             475         3196   \n",
       "16 -80.067667  23.6660  28.018667             470         3108   \n",
       "\n",
       "    mean_station_casts  median_station_casts  \n",
       "0                  6.9                   3.0  \n",
       "1                  6.9                   3.0  \n",
       "2                  6.9                   3.0  \n",
       "3                  6.9                   3.0  \n",
       "4                  6.9                   3.0  \n",
       "5                  2.4                   2.0  \n",
       "6                  6.8                   3.0  \n",
       "7                  6.8                   3.0  \n",
       "8                  2.3                   1.0  \n",
       "9                  7.6                   3.0  \n",
       "10                 7.1                   3.0  \n",
       "11                 7.3                   3.0  \n",
       "12                 6.5                   3.0  \n",
       "13                 6.9                   3.0  \n",
       "14                 6.9                   3.0  \n",
       "15                 6.9                   3.0  \n",
       "16                 6.8                   3.0  "
      ]
     },
     "metadata": {},
     "output_type": "display_data"
    }
   ],
   "source": [
    "summarize_entry_variables(catalog, 'all_ctd')"
   ]
  },
  {
   "cell_type": "code",
   "execution_count": 11,
   "id": "df1979a6",
   "metadata": {},
   "outputs": [
    {
     "data": {},
     "metadata": {},
     "output_type": "display_data"
    },
    {
     "data": {
      "application/vnd.holoviews_exec.v0+json": "",
      "text/html": [
       "<div id='d26a1e89-fa7b-452b-a51c-3e75fd75dd1c'>\n",
       "  <div id=\"a6259c4b-790a-4080-b232-11c76cc1ec4f\" data-root-id=\"d26a1e89-fa7b-452b-a51c-3e75fd75dd1c\" style=\"display: contents;\"></div>\n",
       "</div>\n",
       "<script type=\"application/javascript\">(function(root) {\n",
       "  var docs_json = {\"78d39bbf-40f0-437d-809f-d887626e6d8b\":{\"version\":\"3.7.2\",\"title\":\"Bokeh Application\",\"roots\":[{\"type\":\"object\",\"name\":\"Row\",\"id\":\"d26a1e89-fa7b-452b-a51c-3e75fd75dd1c\",\"attributes\":{\"name\":\"Row00470\",\"tags\":[\"embedded\"],\"stylesheets\":[\"\\n:host(.pn-loading):before, .pn-loading:before {\\n  background-color: #c3c3c3;\\n  mask-size: auto calc(min(50%, 400px));\\n  -webkit-mask-size: auto calc(min(50%, 400px));\\n}\",{\"type\":\"object\",\"name\":\"ImportedStyleSheet\",\"id\":\"2f50eae4-b11e-4a28-8f89-1927649cff5a\",\"attributes\":{\"url\":\"https://cdn.holoviz.org/panel/1.7.4/dist/css/loading.css\"}},{\"type\":\"object\",\"name\":\"ImportedStyleSheet\",\"id\":\"58f2555d-edf5-40b6-bda8-6b51e0d0f864\",\"attributes\":{\"url\":\"https://cdn.holoviz.org/panel/1.7.4/dist/css/listpanel.css\"}},{\"type\":\"object\",\"name\":\"ImportedStyleSheet\",\"id\":\"7d05983d-9de7-4647-b06d-aae76df6312c\",\"attributes\":{\"url\":\"https://cdn.holoviz.org/panel/1.7.4/dist/bundled/theme/default.css\"}},{\"type\":\"object\",\"name\":\"ImportedStyleSheet\",\"id\":\"050d02db-542f-4398-b0cb-1bc762c515b9\",\"attributes\":{\"url\":\"https://cdn.holoviz.org/panel/1.7.4/dist/bundled/theme/native.css\"}}],\"min_width\":800,\"margin\":0,\"sizing_mode\":\"stretch_width\",\"align\":\"start\",\"children\":[{\"type\":\"object\",\"name\":\"Spacer\",\"id\":\"171b1d9b-3c4a-4cac-a9f3-37de1713560f\",\"attributes\":{\"name\":\"HSpacer00474\",\"stylesheets\":[\"\\n:host(.pn-loading):before, .pn-loading:before {\\n  background-color: #c3c3c3;\\n  mask-size: auto calc(min(50%, 400px));\\n  -webkit-mask-size: auto calc(min(50%, 400px));\\n}\",{\"id\":\"2f50eae4-b11e-4a28-8f89-1927649cff5a\"},{\"id\":\"7d05983d-9de7-4647-b06d-aae76df6312c\"},{\"id\":\"050d02db-542f-4398-b0cb-1bc762c515b9\"}],\"min_width\":0,\"margin\":0,\"sizing_mode\":\"stretch_width\",\"align\":\"start\"}},{\"type\":\"object\",\"name\":\"Figure\",\"id\":\"9d9e946d-e855-448c-a13c-77323ca60fde\",\"attributes\":{\"width\":800,\"margin\":[5,10],\"sizing_mode\":\"fixed\",\"align\":\"start\",\"x_range\":{\"type\":\"object\",\"name\":\"Range1d\",\"id\":\"15650f3f-d38c-4ec6-aa5e-5d128788f49e\",\"attributes\":{\"name\":\"Longitude\",\"tags\":[[[\"Longitude\",null]],[]],\"start\":-9334398.805170026,\"end\":-8854674.749103216,\"reset_start\":-9334398.805170026,\"reset_end\":-8854674.749103216,\"min_interval\":5}},\"y_range\":{\"type\":\"object\",\"name\":\"Range1d\",\"id\":\"6b3efd95-cd2a-469a-851e-501c1f605c33\",\"attributes\":{\"name\":\"Latitude\",\"tags\":[[[\"Latitude\",null]],{\"type\":\"map\",\"entries\":[[\"invert_yaxis\",false],[\"autorange\",false]]}],\"start\":2758441.9681235757,\"end\":3118235.010173683,\"reset_start\":2758441.9681235757,\"reset_end\":3118235.010173683,\"min_interval\":5}},\"x_scale\":{\"type\":\"object\",\"name\":\"LinearScale\",\"id\":\"088fb974-17c8-44df-a566-26f50454a589\"},\"y_scale\":{\"type\":\"object\",\"name\":\"LinearScale\",\"id\":\"c18121b9-92a2-4b7d-98a3-52c1b23c305e\"},\"title\":{\"type\":\"object\",\"name\":\"Title\",\"id\":\"6f7ce178-4c55-43ef-88d5-5d3c3ebc71ee\",\"attributes\":{\"text_color\":\"black\",\"text_font_size\":\"12pt\"}},\"renderers\":[{\"type\":\"object\",\"name\":\"TileRenderer\",\"id\":\"42d9fe95-300a-4f06-84d7-1c31be82f86b\",\"attributes\":{\"level\":\"underlay\",\"tile_source\":{\"type\":\"object\",\"name\":\"WMTSTileSource\",\"id\":\"9538b403-a0b2-4065-b240-2aef20649db5\",\"attributes\":{\"url\":\"https://c.tile.openstreetmap.org/{Z}/{X}/{Y}.png\",\"attribution\":\"&copy; <a href=\\\"https://www.openstreetmap.org/copyright\\\">OpenStreetMap</a> contributors\"}}}},{\"type\":\"object\",\"name\":\"GlyphRenderer\",\"id\":\"4c1033fc-d9b2-4238-851f-e46be1aa3c83\",\"attributes\":{\"data_source\":{\"type\":\"object\",\"name\":\"ColumnDataSource\",\"id\":\"386ed2ef-04e6-4d19-a885-ea5c9f4824d9\",\"attributes\":{\"selected\":{\"type\":\"object\",\"name\":\"Selection\",\"id\":\"63716a13-9c93-41e9-9db3-9dfb471eea44\",\"attributes\":{\"indices\":[],\"line_indices\":[]}},\"selection_policy\":{\"type\":\"object\",\"name\":\"UnionRenderers\",\"id\":\"8a103446-8379-4ea0-ab48-922782886355\"},\"data\":{\"type\":\"map\",\"entries\":[[\"Longitude\",{\"type\":\"ndarray\",\"array\":{\"type\":\"bytes\",\"data\":\"8oTN20MDYcESyiXQNythwY8UZ/5wKmHBB3/Wm6YpYcHyQnTySElhwa7O7sleNGHBgJCKrws0YcGODe2qqjNhwX1J8OJRMmHBPovxFd49YcFSwp76Uj1hwbWH8THMPGHBXYWplqtJYcE1iwbUSANhwWG+BDQfAmHBqyHNpZBJYcHQvWEuWUlhwbH8pMYdSGHBgdLl/kBJYcErR5+nB0hhwc0yWRggSGHBN+B5Xs5fYcH8DeIPyl9hwT9VoiIrYGHBWnhxy/VfYcHwBqow1V9hwXm7E4HLX2HBsOpZxeGSYcHocISN3JJhwUSPpsL+kmHB7xTFCPSSYcExmmUR15FhwXVBuHSrimHBYzDJ2SODYcF3VUnZJXxhwWnmPi3yAGHBTgwmV4h0YcHWAAcKOW1hweXV+jENZmHBaA9RNBJgYcFrcZRPN2BhwYGtKxuEXGHBYa7DaMxcYcGeVFboJE1hwcHqB/INEWHBidpkJzlPYcGrgHhACVJhwSeY8x3RWWHBmyeI1P1WYcFRMzkKXkxhwWemHHX1SGHBtXmRMK5GYcE7gDUm00RhwaX9H3+mQmHBu1fkH4tSYcEABPW4tA9hwad18wqUDmHBRPr5FM5FYcELNyaaikNhwSFE5BbjQGHBqlCODgY/YcE6AztRIzthwe3GZB6RPWHBJLvBORw/YcFYWfnHMEFhwSJZHfdKVmHBFSUyr2RNYcE7WRInkg1hwUo5tcgADGHBrbtDheAIYcEJanbDCkVhwZTQUZSjQWHBqkpDVY8/YcGP1em2nD1hwV3QjStMO2HBuUdlXkcpYcHCZI50qjhhwX9wST6nOWHBm5W+6ukHYcEJHK5O2TthwclsyKvsN2HBCA9Hv3IIYcFteZ6NayVhwWILeOsbNGHB3Qa2JsQwYcFrr9piXiRhwbfL3zK+I2HB/UrslekhYcEgyx14wiFhwWVFfIvvZmHB2ePxGw91YcGm/kxZ9GZhweNv18cgaWHBZvx1H3drYcHK5HaRWHBhwat0SRjtdGHBh/KnjrB2YcGDafsIInthweZ9TFN7gmHBZibeS6qKYcGA1nJ51JJhwRSNdrrokmHBVj4Ni+iaYcGnOwclMaJhwRu+E4NpqWHB/aPIY06wYcGdTd5d+q1hwcWmMH4xrGHB4nd1MdSpYcHt5kXvu6Vhwbz8krLWoWHB7uJZiAWbYcFGz8Y78p1hwdopCDKimmHBWWVm5j2iYcGe+Cfll6lhwdG0fQRwsGHBuSR7FxKwYcHG9Y7wHqxhwbPXiETjqWHB7jWkYamlYcE/JMJrzaFhwZqqdS7tmmHBu6XZxBIJYcE=\"},\"shape\":[124],\"dtype\":\"float64\",\"order\":\"little\"}],[\"Latitude\",{\"type\":\"ndarray\",\"array\":{\"type\":\"bytes\",\"data\":\"3f1NxMCLRkFGqBzVN71FQaFboFmgtUVB+i1MtfqrRUGwTm5EGoJFQYsCe3EZqUVBB2IGkrmiRUEh1mwKEJtFQVeRVgIDj0VBLNKHalyiRUEMHo/6RJlFQZQh5bGDkEVBBOdpuyaTRUGLZEFAPIxGQSJsJaWgikZBSjK5kuaKRUEXBgNbVYRFQd3X/cAodUVBduExVAeCRUGWHrRJGHVFQVQgf9LCdEVBcfOP7EhuRUE7mcCKX2BFQQk0Oq7MYEVBD+SOBoFRRUEY0PbU43VFQcApwBewgUVBvwxM0YtfRUHwZbxMJEZFQWAnD3iRd0VBOGZQYn6ORUFqUBLspa9FQdvA9ZHo2EVBvuPXF+3/RUFGmL/nJydGQVuAe2T6i0ZB1zUtqCNRRkF4tDACJ3pGQYmVulT1okZBq7zEz9rCRkHGap2ZycFGQaJluvlH1UZBvcGI23rURkHYut1DTqxGQfVE7r6iCkZBBdPoOZqnRkGFCrWMR6FGQcmwfgA5jkZBBjn7xhV9RkH0TlZ++XxGQXz3JKPsfEZBcR8Z7PZ8RkHBFqM0GX1GQdjemcLmfEZBQ4Gi+6RdRkGVAJde+wZGQdKSHVGbA0ZBibYDiIddRkHJStqHuV1GQUOBovukXUZBLXlMhHldRkF6bS8uRkNGQYEa9ezFREZBCUagIsFERkF1w3fa6URGQTDQq9G0GEZBP1dH5dsYRkGwPDH+SwBGQc623H2N/EVB4QfzMBrwRUG3oleeohhGQVsyLyXmGEZBjcLUplYYRkGwiynmiRhGQZrC1KZWGEZBLbQ9IpEERkFccNoe7QBGQUr6nVrJ90VBtkk99vfwRUHsgUbZrN9FQRDDt53Z30VBSm4fUJHzRUH/dDW8E8VFQUDZus3w30VBgTwSWNzfRUFx30EqHLxFQYg7YiD5t0VBz7otE+2sRUEy12OZtq1FQfQBEsgPSUdBnleNAQEOR0Fdbu2a5UhHQSX5bQZxPkdB8I+7kW40R0Hs7rNULiBHQYi3KQLODUdBOUbOML6PR0H9v4hTLoJHQTD204n+Z0dBh/B3BexTR0FrcBrefz5HQdb4WxI4PkdBGLVinrumRUHsjvkJ0KZFQf3BeLghp0VBmpbTTA2nRUGTNOzbCIlFQdQr8DMtaUVBPoSJczFJRUF/wKwhCl1FQSm3GkRWcUVBda8t1MWmRUGFK5hU/4RFQad33FB7lUVBvYtiq+6mRUHAb88yp6ZFQQ6cYtMmp0VBdnz/RIWHRUEXTdVPx2hFQW3FP4/+SEVBol8d1sJcRUEFiYkrUXFFQQj9k3XkpkVBTejQMKbvRUE=\"},\"shape\":[124],\"dtype\":\"float64\",\"order\":\"little\"}],[\"mean\",{\"type\":\"ndarray\",\"array\":{\"type\":\"bytes\",\"data\":\"532KS4ZgzT872rxPccnQP1hHm/cpLqk/LhmCdbR5zz872rxPccmQP1hHm/cpLqk/O9q8T3HJoD9YR5v3KS6pP1hHm/cpLqk/O9q8T3HJ0D/ep7hkCNbRP96nuGQI1tE/LhmCdbR5zz872rxPccmAP1hHm/cpLqk/WEeb9ykuyT872rxPccmQPzvavE9xyZA/532KS4ZgvT+f4pIhWEfLPzvavE9xyZA/WEeb9ykuqT/nfYpLhmDNPzvavE9xyaA/O9q8T3HJkD/ep7hkCNbRPwzBOtq8T9E/O9q8T3HJoD872rxPccnAPzvavE9xyaA/O9q8T3HJwD872rxPccnAPzvavE9xyaA/gnW0eZ/iwj872rxPccmgPy4ZgnW0ec8/gnW0eZ/iwj872rxPccmQPy4ZgnW0ec8/O9q8T3HJsD872rxPccmwP96nuGQI1tE/O9q8T3HJkD+f4pIhWEfLP1hHm/cpLqk/O9q8T3HJoD9YR5v3KS6pPzvavE9xydA/O9q8T3HJoD872rxPccmwPzvavE9xyaA/O9q8T3HJoD9YR5v3KS6pP+d9ikuGYM0/O9q8T3HJkD/nfYpLhmDNP1hHm/cpLqk/ikuGYB1tzj872rxPccmgPzvavE9xyaA/WEeb9ykuyT+f4pIhWEfLPzvavE9xyaA/ikuGYB1tzj872rxPccmgPzvavE9xydA/O9q8T3HJoD8uGYJ1tHnPPy4ZgnW0ec8/WEeb9ykuqT/ep7hkCNbRPzvavE9xyaA/O9q8T3HJoD872rxPccmgPzvavE9xyZA/WEeb9ykuqT872rxPccmgPzvavE9xyaA/O9q8T3HJkD9DsI4271PMPy4ZgnW0ec8/O9q8T3HJkD9p8z7FJUPQPzvavE9xyaA/O9q8T3HJoD/JEKyjzfu0P+d9ikuGYM0/LhmCdbR5zz872rxPccmQPzvavE9xyZA/O9q8T3HJkD/nfYpLhmDNPzvavE9xyaA/WEeb9ykuqT872rxPccmwPy4ZgnW0ec8/O9q8T3HJoD/ep7hkCNbRP1hHm/cpLqk/WEeb9ykuqT8uGYJ1tHnPPzvavE9xyZA/O9q8T3HJkD872rxPccmQPzvavE9xyZA/O9q8T3HJkD872rxPccmQPzvavE9xyZA/O9q8T3HJkD872rxPccmQPzvavE9xyZA/O9q8T3HJoD9YR5v3KS6pP1hHm/cpLqk/O9q8T3HJoD872rxPccmQPzvavE9xyaA/O9q8T3HJkD872rxPccmQPzvavE9xyaA/O9q8T3HJkD872rxPccmgPzvavE9xyZA/O9q8T3HJkD8=\"},\"shape\":[124],\"dtype\":\"float64\",\"order\":\"little\"}],[\"station\",[\"1\",\"10\",\"11\",\"12\",\"120\",\"13\",\"14\",\"15\",\"15.5\",\"16\",\"17\",\"18\",\"19\",\"1B\",\"2\",\"20\",\"20.5\",\"205\",\"21\",\"21.5\",\"215\",\"22\",\"22.5\",\"225\",\"225A\",\"23\",\"24\",\"25\",\"25.5\",\"26\",\"27\",\"28\",\"28.5\",\"29\",\"29.5\",\"3\",\"30\",\"30.5\",\"31\",\"32\",\"33\",\"34\",\"34B\",\"39\",\"4\",\"40\",\"41\",\"42\",\"44\",\"45\",\"46\",\"47\",\"48\",\"49\",\"495\",\"5\",\"5.5\",\"50\",\"51\",\"52\",\"53\",\"54\",\"55\",\"56\",\"57\",\"58\",\"59\",\"6\",\"6.5\",\"6.75\",\"60\",\"61\",\"62\",\"63\",\"64\",\"65\",\"66\",\"67\",\"675\",\"68\",\"69\",\"6C\",\"7\",\"70\",\"71\",\"8\",\"9\",\"9.5\",\"95\",\"CAL01\",\"CAL05\",\"CAL1\",\"CAL2\",\"CAL3\",\"CAL4\",\"CAL5\",\"CH1\",\"CH2\",\"CH3\",\"CH4\",\"CH5\",\"CH5A\",\"DT01\",\"DT02\",\"DT03\",\"DT04\",\"DT05\",\"DT06\",\"DT07\",\"DT08\",\"DT09\",\"DT1\",\"DT10\",\"DT11\",\"DT2\",\"DT3\",\"DT4\",\"DT5\",\"DT6\",\"DT7\",\"DT8\",\"DT9\",\"DTXX\",\"NANCY\"]],[\"color\",{\"type\":\"ndarray\",\"array\":{\"type\":\"bytes\",\"data\":\"532KS4ZgzT872rxPccnQP1hHm/cpLqk/LhmCdbR5zz872rxPccmQP1hHm/cpLqk/O9q8T3HJoD9YR5v3KS6pP1hHm/cpLqk/O9q8T3HJ0D/ep7hkCNbRP96nuGQI1tE/LhmCdbR5zz872rxPccmAP1hHm/cpLqk/WEeb9ykuyT872rxPccmQPzvavE9xyZA/532KS4ZgvT+f4pIhWEfLPzvavE9xyZA/WEeb9ykuqT/nfYpLhmDNPzvavE9xyaA/O9q8T3HJkD/ep7hkCNbRPwzBOtq8T9E/O9q8T3HJoD872rxPccnAPzvavE9xyaA/O9q8T3HJwD872rxPccnAPzvavE9xyaA/gnW0eZ/iwj872rxPccmgPy4ZgnW0ec8/gnW0eZ/iwj872rxPccmQPy4ZgnW0ec8/O9q8T3HJsD872rxPccmwP96nuGQI1tE/O9q8T3HJkD+f4pIhWEfLP1hHm/cpLqk/O9q8T3HJoD9YR5v3KS6pPzvavE9xydA/O9q8T3HJoD872rxPccmwPzvavE9xyaA/O9q8T3HJoD9YR5v3KS6pP+d9ikuGYM0/O9q8T3HJkD/nfYpLhmDNP1hHm/cpLqk/ikuGYB1tzj872rxPccmgPzvavE9xyaA/WEeb9ykuyT+f4pIhWEfLPzvavE9xyaA/ikuGYB1tzj872rxPccmgPzvavE9xydA/O9q8T3HJoD8uGYJ1tHnPPy4ZgnW0ec8/WEeb9ykuqT/ep7hkCNbRPzvavE9xyaA/O9q8T3HJoD872rxPccmgPzvavE9xyZA/WEeb9ykuqT872rxPccmgPzvavE9xyaA/O9q8T3HJkD9DsI4271PMPy4ZgnW0ec8/O9q8T3HJkD9p8z7FJUPQPzvavE9xyaA/O9q8T3HJoD/JEKyjzfu0P+d9ikuGYM0/LhmCdbR5zz872rxPccmQPzvavE9xyZA/O9q8T3HJkD/nfYpLhmDNPzvavE9xyaA/WEeb9ykuqT872rxPccmwPy4ZgnW0ec8/O9q8T3HJoD/ep7hkCNbRP1hHm/cpLqk/WEeb9ykuqT8uGYJ1tHnPPzvavE9xyZA/O9q8T3HJkD872rxPccmQPzvavE9xyZA/O9q8T3HJkD872rxPccmQPzvavE9xyZA/O9q8T3HJkD872rxPccmQPzvavE9xyZA/O9q8T3HJoD9YR5v3KS6pP1hHm/cpLqk/O9q8T3HJoD872rxPccmQPzvavE9xyaA/O9q8T3HJkD872rxPccmQPzvavE9xyaA/O9q8T3HJkD872rxPccmgPzvavE9xyZA/O9q8T3HJkD8=\"},\"shape\":[124],\"dtype\":\"float64\",\"order\":\"little\"}]]}}},\"view\":{\"type\":\"object\",\"name\":\"CDSView\",\"id\":\"4fea13ed-7785-4048-bb44-5ace9812e5dc\",\"attributes\":{\"filter\":{\"type\":\"object\",\"name\":\"AllIndices\",\"id\":\"b3926440-667c-40a4-9054-be46b2d4db31\"}}},\"glyph\":{\"type\":\"object\",\"name\":\"Scatter\",\"id\":\"4eab39fb-8c91-4ffb-b886-19bc461ff885\",\"attributes\":{\"tags\":[\"apply_ranges\"],\"x\":{\"type\":\"field\",\"field\":\"Longitude\"},\"y\":{\"type\":\"field\",\"field\":\"Latitude\"},\"size\":{\"type\":\"value\",\"value\":5.477225575051661},\"line_color\":{\"type\":\"field\",\"field\":\"color\",\"transform\":{\"type\":\"object\",\"name\":\"LogColorMapper\",\"id\":\"8f646f8d-745b-4264-987a-905bcb296f49\",\"attributes\":{\"palette\":[\"#440154\",\"#440255\",\"#440357\",\"#450558\",\"#45065a\",\"#45085b\",\"#46095c\",\"#460b5e\",\"#460c5f\",\"#460e61\",\"#470f62\",\"#471163\",\"#471265\",\"#471466\",\"#471567\",\"#471669\",\"#47186a\",\"#48196b\",\"#481a6c\",\"#481c6e\",\"#481d6f\",\"#481e70\",\"#482071\",\"#482172\",\"#482273\",\"#482374\",\"#472575\",\"#472676\",\"#472777\",\"#472878\",\"#472a79\",\"#472b7a\",\"#472c7b\",\"#462d7c\",\"#462f7c\",\"#46307d\",\"#46317e\",\"#45327f\",\"#45347f\",\"#453580\",\"#453681\",\"#443781\",\"#443982\",\"#433a83\",\"#433b83\",\"#433c84\",\"#423d84\",\"#423e85\",\"#424085\",\"#414186\",\"#414286\",\"#404387\",\"#404487\",\"#3f4587\",\"#3f4788\",\"#3e4888\",\"#3e4989\",\"#3d4a89\",\"#3d4b89\",\"#3d4c89\",\"#3c4d8a\",\"#3c4e8a\",\"#3b508a\",\"#3b518a\",\"#3a528b\",\"#3a538b\",\"#39548b\",\"#39558b\",\"#38568b\",\"#38578c\",\"#37588c\",\"#37598c\",\"#365a8c\",\"#365b8c\",\"#355c8c\",\"#355d8c\",\"#345e8d\",\"#345f8d\",\"#33608d\",\"#33618d\",\"#32628d\",\"#32638d\",\"#31648d\",\"#31658d\",\"#31668d\",\"#30678d\",\"#30688d\",\"#2f698d\",\"#2f6a8d\",\"#2e6b8e\",\"#2e6c8e\",\"#2e6d8e\",\"#2d6e8e\",\"#2d6f8e\",\"#2c708e\",\"#2c718e\",\"#2c728e\",\"#2b738e\",\"#2b748e\",\"#2a758e\",\"#2a768e\",\"#2a778e\",\"#29788e\",\"#29798e\",\"#287a8e\",\"#287a8e\",\"#287b8e\",\"#277c8e\",\"#277d8e\",\"#277e8e\",\"#267f8e\",\"#26808e\",\"#26818e\",\"#25828e\",\"#25838d\",\"#24848d\",\"#24858d\",\"#24868d\",\"#23878d\",\"#23888d\",\"#23898d\",\"#22898d\",\"#228a8d\",\"#228b8d\",\"#218c8d\",\"#218d8c\",\"#218e8c\",\"#208f8c\",\"#20908c\",\"#20918c\",\"#1f928c\",\"#1f938b\",\"#1f948b\",\"#1f958b\",\"#1f968b\",\"#1e978a\",\"#1e988a\",\"#1e998a\",\"#1e998a\",\"#1e9a89\",\"#1e9b89\",\"#1e9c89\",\"#1e9d88\",\"#1e9e88\",\"#1e9f88\",\"#1ea087\",\"#1fa187\",\"#1fa286\",\"#1fa386\",\"#20a485\",\"#20a585\",\"#21a685\",\"#21a784\",\"#22a784\",\"#23a883\",\"#23a982\",\"#24aa82\",\"#25ab81\",\"#26ac81\",\"#27ad80\",\"#28ae7f\",\"#29af7f\",\"#2ab07e\",\"#2bb17d\",\"#2cb17d\",\"#2eb27c\",\"#2fb37b\",\"#30b47a\",\"#32b57a\",\"#33b679\",\"#35b778\",\"#36b877\",\"#38b976\",\"#39b976\",\"#3bba75\",\"#3dbb74\",\"#3ebc73\",\"#40bd72\",\"#42be71\",\"#44be70\",\"#45bf6f\",\"#47c06e\",\"#49c16d\",\"#4bc26c\",\"#4dc26b\",\"#4fc369\",\"#51c468\",\"#53c567\",\"#55c666\",\"#57c665\",\"#59c764\",\"#5bc862\",\"#5ec961\",\"#60c960\",\"#62ca5f\",\"#64cb5d\",\"#67cc5c\",\"#69cc5b\",\"#6bcd59\",\"#6dce58\",\"#70ce56\",\"#72cf55\",\"#74d054\",\"#77d052\",\"#79d151\",\"#7cd24f\",\"#7ed24e\",\"#81d34c\",\"#83d34b\",\"#86d449\",\"#88d547\",\"#8bd546\",\"#8dd644\",\"#90d643\",\"#92d741\",\"#95d73f\",\"#97d83e\",\"#9ad83c\",\"#9dd93a\",\"#9fd938\",\"#a2da37\",\"#a5da35\",\"#a7db33\",\"#aadb32\",\"#addc30\",\"#afdc2e\",\"#b2dd2c\",\"#b5dd2b\",\"#b7dd29\",\"#bade27\",\"#bdde26\",\"#bfdf24\",\"#c2df22\",\"#c5df21\",\"#c7e01f\",\"#cae01e\",\"#cde01d\",\"#cfe11c\",\"#d2e11b\",\"#d4e11a\",\"#d7e219\",\"#dae218\",\"#dce218\",\"#dfe318\",\"#e1e318\",\"#e4e318\",\"#e7e419\",\"#e9e419\",\"#ece41a\",\"#eee51b\",\"#f1e51c\",\"#f3e51e\",\"#f6e61f\",\"#f8e621\",\"#fae622\",\"#fde724\"],\"low\":0.00819672131147541,\"high\":0.2786885245901639}}},\"fill_color\":{\"type\":\"field\",\"field\":\"color\",\"transform\":{\"id\":\"8f646f8d-745b-4264-987a-905bcb296f49\"}},\"hatch_color\":{\"type\":\"field\",\"field\":\"color\",\"transform\":{\"id\":\"8f646f8d-745b-4264-987a-905bcb296f49\"}}}},\"selection_glyph\":{\"type\":\"object\",\"name\":\"Scatter\",\"id\":\"f2b0c6c9-c91b-4c4c-abcc-98db27a30743\",\"attributes\":{\"tags\":[\"apply_ranges\"],\"x\":{\"type\":\"field\",\"field\":\"Longitude\"},\"y\":{\"type\":\"field\",\"field\":\"Latitude\"},\"size\":{\"type\":\"value\",\"value\":5.477225575051661},\"line_color\":{\"type\":\"field\",\"field\":\"color\",\"transform\":{\"id\":\"8f646f8d-745b-4264-987a-905bcb296f49\"}},\"fill_color\":{\"type\":\"field\",\"field\":\"color\",\"transform\":{\"id\":\"8f646f8d-745b-4264-987a-905bcb296f49\"}},\"hatch_color\":{\"type\":\"field\",\"field\":\"color\",\"transform\":{\"id\":\"8f646f8d-745b-4264-987a-905bcb296f49\"}}}},\"nonselection_glyph\":{\"type\":\"object\",\"name\":\"Scatter\",\"id\":\"71396659-63a9-4df3-a448-581161a72e59\",\"attributes\":{\"tags\":[\"apply_ranges\"],\"x\":{\"type\":\"field\",\"field\":\"Longitude\"},\"y\":{\"type\":\"field\",\"field\":\"Latitude\"},\"size\":{\"type\":\"value\",\"value\":5.477225575051661},\"line_color\":{\"type\":\"field\",\"field\":\"color\",\"transform\":{\"id\":\"8f646f8d-745b-4264-987a-905bcb296f49\"}},\"line_alpha\":{\"type\":\"value\",\"value\":0.1},\"fill_color\":{\"type\":\"field\",\"field\":\"color\",\"transform\":{\"id\":\"8f646f8d-745b-4264-987a-905bcb296f49\"}},\"fill_alpha\":{\"type\":\"value\",\"value\":0.1},\"hatch_color\":{\"type\":\"field\",\"field\":\"color\",\"transform\":{\"id\":\"8f646f8d-745b-4264-987a-905bcb296f49\"}},\"hatch_alpha\":{\"type\":\"value\",\"value\":0.1}}},\"hover_glyph\":{\"type\":\"object\",\"name\":\"Scatter\",\"id\":\"3bdd05ca-f764-46cc-8128-f28a28f22501\",\"attributes\":{\"tags\":[\"apply_ranges\"],\"x\":{\"type\":\"field\",\"field\":\"Longitude\"},\"y\":{\"type\":\"field\",\"field\":\"Latitude\"},\"size\":{\"type\":\"value\",\"value\":5.477225575051661},\"line_color\":{\"type\":\"field\",\"field\":\"color\",\"transform\":{\"id\":\"8f646f8d-745b-4264-987a-905bcb296f49\"}},\"fill_color\":{\"type\":\"field\",\"field\":\"color\",\"transform\":{\"id\":\"8f646f8d-745b-4264-987a-905bcb296f49\"}},\"hatch_color\":{\"type\":\"field\",\"field\":\"color\",\"transform\":{\"id\":\"8f646f8d-745b-4264-987a-905bcb296f49\"}}}},\"muted_glyph\":{\"type\":\"object\",\"name\":\"Scatter\",\"id\":\"74842df5-2733-4084-a34a-006bdb38de10\",\"attributes\":{\"tags\":[\"apply_ranges\"],\"x\":{\"type\":\"field\",\"field\":\"Longitude\"},\"y\":{\"type\":\"field\",\"field\":\"Latitude\"},\"size\":{\"type\":\"value\",\"value\":5.477225575051661},\"line_color\":{\"type\":\"field\",\"field\":\"color\",\"transform\":{\"id\":\"8f646f8d-745b-4264-987a-905bcb296f49\"}},\"line_alpha\":{\"type\":\"value\",\"value\":0.2},\"fill_color\":{\"type\":\"field\",\"field\":\"color\",\"transform\":{\"id\":\"8f646f8d-745b-4264-987a-905bcb296f49\"}},\"fill_alpha\":{\"type\":\"value\",\"value\":0.2},\"hatch_color\":{\"type\":\"field\",\"field\":\"color\",\"transform\":{\"id\":\"8f646f8d-745b-4264-987a-905bcb296f49\"}},\"hatch_alpha\":{\"type\":\"value\",\"value\":0.2}}}}}],\"toolbar\":{\"type\":\"object\",\"name\":\"Toolbar\",\"id\":\"5b669251-5666-4305-b3ea-6e289a512073\",\"attributes\":{\"tools\":[{\"type\":\"object\",\"name\":\"WheelZoomTool\",\"id\":\"aff0f7fc-9f9c-43d3-b243-12e9d9966ea5\",\"attributes\":{\"renderers\":\"auto\",\"zoom_on_axis\":false}},{\"type\":\"object\",\"name\":\"BoxZoomTool\",\"id\":\"bb44f57e-1f02-4dc1-bd41-ea686478b364\",\"attributes\":{\"overlay\":{\"type\":\"object\",\"name\":\"BoxAnnotation\",\"id\":\"059d2036-fe68-48c6-906d-f3ce4088dd8d\",\"attributes\":{\"syncable\":false,\"line_color\":\"black\",\"line_alpha\":1.0,\"line_width\":2,\"line_dash\":[4,4],\"fill_color\":\"lightgrey\",\"fill_alpha\":0.5,\"level\":\"overlay\",\"visible\":false,\"left\":{\"type\":\"number\",\"value\":\"nan\"},\"right\":{\"type\":\"number\",\"value\":\"nan\"},\"top\":{\"type\":\"number\",\"value\":\"nan\"},\"bottom\":{\"type\":\"number\",\"value\":\"nan\"},\"left_units\":\"canvas\",\"right_units\":\"canvas\",\"top_units\":\"canvas\",\"bottom_units\":\"canvas\",\"handles\":{\"type\":\"object\",\"name\":\"BoxInteractionHandles\",\"id\":\"d1f734ef-83ca-412d-b58c-0b9fa36cac56\",\"attributes\":{\"all\":{\"type\":\"object\",\"name\":\"AreaVisuals\",\"id\":\"f385d787-3c00-4bdd-8a5e-22a395ac256f\",\"attributes\":{\"fill_color\":\"white\",\"hover_fill_color\":\"lightgray\"}}}}}},\"match_aspect\":true}},{\"type\":\"object\",\"name\":\"HoverTool\",\"id\":\"879cbfae-1a52-4845-b9e8-f063bf46c291\",\"attributes\":{\"tags\":[\"hv_created\"],\"renderers\":[{\"id\":\"4c1033fc-d9b2-4238-851f-e46be1aa3c83\"}],\"tooltips\":[[\"Longitude\",\"$x{custom}\"],[\"Latitude\",\"$y{custom}\"],[\"mean\",\"@{mean}\"],[\"station\",\"@{station}\"]],\"formatters\":{\"type\":\"map\",\"entries\":[[\"$x\",{\"type\":\"object\",\"name\":\"CustomJSHover\",\"id\":\"badd06b8-fdc9-425e-a9bd-923de4d72e71\",\"attributes\":{\"code\":\"\\n        const projections = Bokeh.require(\\\"core/util/projections\\\");\\n        const {snap_x, snap_y} = special_vars\\n        const coords = projections.wgs84_mercator.invert(snap_x, snap_y)\\n        return \\\"\\\" + (coords[0]).toFixed(4)\\n    \"}}],[\"$y\",{\"type\":\"object\",\"name\":\"CustomJSHover\",\"id\":\"885b5cd6-2559-412f-8811-302cdb130f34\",\"attributes\":{\"code\":\"\\n        const projections = Bokeh.require(\\\"core/util/projections\\\");\\n        const {snap_x, snap_y} = special_vars\\n        const coords = projections.wgs84_mercator.invert(snap_x, snap_y)\\n        return \\\"\\\" + (coords[1]).toFixed(4)\\n    \"}}]]}}},{\"type\":\"object\",\"name\":\"PanTool\",\"id\":\"4d08a8d8-e2da-4527-a744-14d96664f2fd\"},{\"type\":\"object\",\"name\":\"ResetTool\",\"id\":\"d2614f75-67d7-4b17-ac94-402cc3023246\"}],\"active_drag\":{\"id\":\"4d08a8d8-e2da-4527-a744-14d96664f2fd\"}}},\"left\":[{\"type\":\"object\",\"name\":\"LinearAxis\",\"id\":\"0f2b0cdc-1aab-47a3-896f-0747ce90ff10\",\"attributes\":{\"ticker\":{\"type\":\"object\",\"name\":\"MercatorTicker\",\"id\":\"d8151df4-ffb3-47e3-9a9a-bb3ff85e78b7\",\"attributes\":{\"mantissas\":[1,2,5],\"dimension\":\"lat\"}},\"formatter\":{\"type\":\"object\",\"name\":\"MercatorTickFormatter\",\"id\":\"7f946e66-2cc9-4742-8eac-bd00d1535ca4\",\"attributes\":{\"dimension\":\"lat\"}},\"axis_label\":\"Latitude\",\"major_label_policy\":{\"type\":\"object\",\"name\":\"AllLabels\",\"id\":\"512a3d9a-f8b4-4290-9d3e-77fc375e297c\"}}}],\"right\":[{\"type\":\"object\",\"name\":\"ColorBar\",\"id\":\"8ed9a44e-0044-425d-b28d-fb57f26dedb5\",\"attributes\":{\"location\":[0,0],\"ticker\":{\"type\":\"object\",\"name\":\"LogTicker\",\"id\":\"a1026e2c-874b-4a0c-a981-1b9a6f3ba10f\",\"attributes\":{\"mantissas\":[1,5]}},\"major_label_policy\":{\"type\":\"object\",\"name\":\"NoOverlap\",\"id\":\"660f2d03-4140-415b-9eb1-8b9be155dbe6\"},\"label_standoff\":8,\"major_tick_line_color\":\"black\",\"bar_line_color\":\"black\",\"color_mapper\":{\"id\":\"8f646f8d-745b-4264-987a-905bcb296f49\"}}}],\"below\":[{\"type\":\"object\",\"name\":\"LinearAxis\",\"id\":\"56183b3d-c657-40f9-a58e-5462873f68d6\",\"attributes\":{\"ticker\":{\"type\":\"object\",\"name\":\"MercatorTicker\",\"id\":\"b9731563-e907-43ce-8377-1d2a67f84ab8\",\"attributes\":{\"mantissas\":[1,2,5],\"dimension\":\"lon\"}},\"formatter\":{\"type\":\"object\",\"name\":\"MercatorTickFormatter\",\"id\":\"b351c75e-dbbf-4c5d-9ec5-8225175dcab5\",\"attributes\":{\"dimension\":\"lon\"}},\"axis_label\":\"Longitude\",\"major_label_policy\":{\"type\":\"object\",\"name\":\"AllLabels\",\"id\":\"7b9f7701-ee82-43f0-8e03-3ff2fa4306f8\"}}}],\"center\":[{\"type\":\"object\",\"name\":\"Grid\",\"id\":\"ab0f9829-6d5b-4532-81ec-cdd78d5008d5\",\"attributes\":{\"axis\":{\"id\":\"56183b3d-c657-40f9-a58e-5462873f68d6\"},\"grid_line_color\":null}},{\"type\":\"object\",\"name\":\"Grid\",\"id\":\"363418db-babf-4f50-a0cf-23321ba803f2\",\"attributes\":{\"dimension\":1,\"axis\":{\"id\":\"0f2b0cdc-1aab-47a3-896f-0747ce90ff10\"},\"grid_line_color\":null}}],\"frame_width\":800,\"frame_height\":600,\"min_border_top\":10,\"min_border_bottom\":10,\"min_border_left\":10,\"min_border_right\":10,\"output_backend\":\"webgl\",\"match_aspect\":true}},{\"type\":\"object\",\"name\":\"Spacer\",\"id\":\"4c333764-9bbe-4d51-a484-64f61b8a5550\",\"attributes\":{\"name\":\"HSpacer00475\",\"stylesheets\":[\"\\n:host(.pn-loading):before, .pn-loading:before {\\n  background-color: #c3c3c3;\\n  mask-size: auto calc(min(50%, 400px));\\n  -webkit-mask-size: auto calc(min(50%, 400px));\\n}\",{\"id\":\"2f50eae4-b11e-4a28-8f89-1927649cff5a\"},{\"id\":\"7d05983d-9de7-4647-b06d-aae76df6312c\"},{\"id\":\"050d02db-542f-4398-b0cb-1bc762c515b9\"}],\"min_width\":0,\"margin\":0,\"sizing_mode\":\"stretch_width\",\"align\":\"start\"}}]}}],\"defs\":[{\"type\":\"model\",\"name\":\"ReactiveHTML1\"},{\"type\":\"model\",\"name\":\"FlexBox1\",\"properties\":[{\"name\":\"align_content\",\"kind\":\"Any\",\"default\":\"flex-start\"},{\"name\":\"align_items\",\"kind\":\"Any\",\"default\":\"flex-start\"},{\"name\":\"flex_direction\",\"kind\":\"Any\",\"default\":\"row\"},{\"name\":\"flex_wrap\",\"kind\":\"Any\",\"default\":\"wrap\"},{\"name\":\"gap\",\"kind\":\"Any\",\"default\":\"\"},{\"name\":\"justify_content\",\"kind\":\"Any\",\"default\":\"flex-start\"}]},{\"type\":\"model\",\"name\":\"FloatPanel1\",\"properties\":[{\"name\":\"config\",\"kind\":\"Any\",\"default\":{\"type\":\"map\"}},{\"name\":\"contained\",\"kind\":\"Any\",\"default\":true},{\"name\":\"position\",\"kind\":\"Any\",\"default\":\"right-top\"},{\"name\":\"offsetx\",\"kind\":\"Any\",\"default\":null},{\"name\":\"offsety\",\"kind\":\"Any\",\"default\":null},{\"name\":\"theme\",\"kind\":\"Any\",\"default\":\"primary\"},{\"name\":\"status\",\"kind\":\"Any\",\"default\":\"normalized\"}]},{\"type\":\"model\",\"name\":\"GridStack1\",\"properties\":[{\"name\":\"ncols\",\"kind\":\"Any\",\"default\":null},{\"name\":\"nrows\",\"kind\":\"Any\",\"default\":null},{\"name\":\"allow_resize\",\"kind\":\"Any\",\"default\":true},{\"name\":\"allow_drag\",\"kind\":\"Any\",\"default\":true},{\"name\":\"state\",\"kind\":\"Any\",\"default\":[]}]},{\"type\":\"model\",\"name\":\"drag1\",\"properties\":[{\"name\":\"slider_width\",\"kind\":\"Any\",\"default\":5},{\"name\":\"slider_color\",\"kind\":\"Any\",\"default\":\"black\"},{\"name\":\"value\",\"kind\":\"Any\",\"default\":50}]},{\"type\":\"model\",\"name\":\"click1\",\"properties\":[{\"name\":\"terminal_output\",\"kind\":\"Any\",\"default\":\"\"},{\"name\":\"debug_name\",\"kind\":\"Any\",\"default\":\"\"},{\"name\":\"clears\",\"kind\":\"Any\",\"default\":0}]},{\"type\":\"model\",\"name\":\"ReactiveESM1\",\"properties\":[{\"name\":\"esm_constants\",\"kind\":\"Any\",\"default\":{\"type\":\"map\"}}]},{\"type\":\"model\",\"name\":\"JSComponent1\",\"properties\":[{\"name\":\"esm_constants\",\"kind\":\"Any\",\"default\":{\"type\":\"map\"}}]},{\"type\":\"model\",\"name\":\"ReactComponent1\",\"properties\":[{\"name\":\"use_shadow_dom\",\"kind\":\"Any\",\"default\":true},{\"name\":\"esm_constants\",\"kind\":\"Any\",\"default\":{\"type\":\"map\"}}]},{\"type\":\"model\",\"name\":\"AnyWidgetComponent1\",\"properties\":[{\"name\":\"use_shadow_dom\",\"kind\":\"Any\",\"default\":true},{\"name\":\"esm_constants\",\"kind\":\"Any\",\"default\":{\"type\":\"map\"}}]},{\"type\":\"model\",\"name\":\"FastWrapper1\",\"properties\":[{\"name\":\"object\",\"kind\":\"Any\",\"default\":null},{\"name\":\"style\",\"kind\":\"Any\",\"default\":null}]},{\"type\":\"model\",\"name\":\"NotificationArea1\",\"properties\":[{\"name\":\"js_events\",\"kind\":\"Any\",\"default\":{\"type\":\"map\"}},{\"name\":\"max_notifications\",\"kind\":\"Any\",\"default\":5},{\"name\":\"notifications\",\"kind\":\"Any\",\"default\":[]},{\"name\":\"position\",\"kind\":\"Any\",\"default\":\"bottom-right\"},{\"name\":\"_clear\",\"kind\":\"Any\",\"default\":0},{\"name\":\"types\",\"kind\":\"Any\",\"default\":[{\"type\":\"map\",\"entries\":[[\"type\",\"warning\"],[\"background\",\"#ffc107\"],[\"icon\",{\"type\":\"map\",\"entries\":[[\"className\",\"fas fa-exclamation-triangle\"],[\"tagName\",\"i\"],[\"color\",\"white\"]]}]]},{\"type\":\"map\",\"entries\":[[\"type\",\"info\"],[\"background\",\"#007bff\"],[\"icon\",{\"type\":\"map\",\"entries\":[[\"className\",\"fas fa-info-circle\"],[\"tagName\",\"i\"],[\"color\",\"white\"]]}]]}]}]},{\"type\":\"model\",\"name\":\"Notification\",\"properties\":[{\"name\":\"background\",\"kind\":\"Any\",\"default\":null},{\"name\":\"duration\",\"kind\":\"Any\",\"default\":3000},{\"name\":\"icon\",\"kind\":\"Any\",\"default\":null},{\"name\":\"message\",\"kind\":\"Any\",\"default\":\"\"},{\"name\":\"notification_type\",\"kind\":\"Any\",\"default\":null},{\"name\":\"_rendered\",\"kind\":\"Any\",\"default\":false},{\"name\":\"_destroyed\",\"kind\":\"Any\",\"default\":false}]},{\"type\":\"model\",\"name\":\"TemplateActions1\",\"properties\":[{\"name\":\"open_modal\",\"kind\":\"Any\",\"default\":0},{\"name\":\"close_modal\",\"kind\":\"Any\",\"default\":0}]},{\"type\":\"model\",\"name\":\"BootstrapTemplateActions1\",\"properties\":[{\"name\":\"open_modal\",\"kind\":\"Any\",\"default\":0},{\"name\":\"close_modal\",\"kind\":\"Any\",\"default\":0}]},{\"type\":\"model\",\"name\":\"TemplateEditor1\",\"properties\":[{\"name\":\"layout\",\"kind\":\"Any\",\"default\":[]}]},{\"type\":\"model\",\"name\":\"MaterialTemplateActions1\",\"properties\":[{\"name\":\"open_modal\",\"kind\":\"Any\",\"default\":0},{\"name\":\"close_modal\",\"kind\":\"Any\",\"default\":0}]},{\"type\":\"model\",\"name\":\"request_value1\",\"properties\":[{\"name\":\"fill\",\"kind\":\"Any\",\"default\":\"none\"},{\"name\":\"_synced\",\"kind\":\"Any\",\"default\":null},{\"name\":\"_request_sync\",\"kind\":\"Any\",\"default\":0}]}]}};\n",
       "  var render_items = [{\"docid\":\"78d39bbf-40f0-437d-809f-d887626e6d8b\",\"roots\":{\"d26a1e89-fa7b-452b-a51c-3e75fd75dd1c\":\"a6259c4b-790a-4080-b232-11c76cc1ec4f\"},\"root_ids\":[\"d26a1e89-fa7b-452b-a51c-3e75fd75dd1c\"]}];\n",
       "  var docs = Object.values(docs_json)\n",
       "  if (!docs) {\n",
       "    return\n",
       "  }\n",
       "  const py_version = docs[0].version.replace('rc', '-rc.').replace('.dev', '-dev.')\n",
       "  async function embed_document(root) {\n",
       "    var Bokeh = get_bokeh(root)\n",
       "    await Bokeh.embed.embed_items_notebook(docs_json, render_items);\n",
       "    for (const render_item of render_items) {\n",
       "      for (const root_id of render_item.root_ids) {\n",
       "\tconst id_el = document.getElementById(root_id)\n",
       "\tif (id_el.children.length && id_el.children[0].hasAttribute('data-root-id')) {\n",
       "\t  const root_el = id_el.children[0]\n",
       "\t  root_el.id = root_el.id + '-rendered'\n",
       "\t  for (const child of root_el.children) {\n",
       "            // Ensure JupyterLab does not capture keyboard shortcuts\n",
       "            // see: https://jupyterlab.readthedocs.io/en/4.1.x/extension/notebook.html#keyboard-interaction-model\n",
       "\t    child.setAttribute('data-lm-suppress-shortcuts', 'true')\n",
       "\t  }\n",
       "\t}\n",
       "      }\n",
       "    }\n",
       "  }\n",
       "  function get_bokeh(root) {\n",
       "    if (root.Bokeh === undefined) {\n",
       "      return null\n",
       "    } else if (root.Bokeh.version !== py_version) {\n",
       "      if (root.Bokeh.versions === undefined || !root.Bokeh.versions.has(py_version)) {\n",
       "\treturn null\n",
       "      }\n",
       "      return root.Bokeh.versions.get(py_version);\n",
       "    } else if (root.Bokeh.version === py_version) {\n",
       "      return root.Bokeh\n",
       "    }\n",
       "    return null\n",
       "  }\n",
       "  function is_loaded(root) {\n",
       "    var Bokeh = get_bokeh(root)\n",
       "    return (Bokeh != null && Bokeh.Panel !== undefined)\n",
       "  }\n",
       "  if (is_loaded(root)) {\n",
       "    embed_document(root);\n",
       "  } else {\n",
       "    var attempts = 0;\n",
       "    var timer = setInterval(function(root) {\n",
       "      if (is_loaded(root)) {\n",
       "        clearInterval(timer);\n",
       "        embed_document(root);\n",
       "      } else if (document.readyState == \"complete\") {\n",
       "        attempts++;\n",
       "        if (attempts > 200) {\n",
       "          clearInterval(timer);\n",
       "\t  var Bokeh = get_bokeh(root)\n",
       "\t  if (Bokeh == null || Bokeh.Panel == null) {\n",
       "            console.warn(\"Panel: ERROR: Unable to run Panel code because Bokeh or Panel library is missing\");\n",
       "\t  } else {\n",
       "\t    console.warn(\"Panel: WARNING: Attempting to render but not all required libraries could be resolved.\")\n",
       "\t    embed_document(root)\n",
       "\t  }\n",
       "        }\n",
       "      }\n",
       "    }, 25, root)\n",
       "  }\n",
       "})(window);</script>"
      ],
      "text/plain": [
       ":Overlay\n",
       "   .WMTS.I   :WMTS   [Longitude,Latitude]\n",
       "   .Points.I :Points   [Longitude,Latitude]   (mean,station)"
      ]
     },
     "metadata": {
      "application/vnd.holoviews_exec.v0+json": {
       "id": "d26a1e89-fa7b-452b-a51c-3e75fd75dd1c"
      }
     },
     "output_type": "display_data"
    }
   ],
   "source": [
    "plot_map(filtered_catalog, time_bin='ME', log=True)"
   ]
  },
  {
   "cell_type": "code",
   "execution_count": 12,
   "id": "888d7c04",
   "metadata": {},
   "outputs": [
    {
     "data": {
      "image/png": "[encoded data removed]",
      "text/plain": [
       "<Figure size 100x250 with 2 Axes>"
      ]
     },
     "metadata": {},
     "output_type": "display_data"
    }
   ],
   "source": [
    "plot_grid(filtered_catalog, stations=['4', '5', '5.5', '6', '6.5'], time_bin='ME', log=True)"
   ]
  },
  {
   "cell_type": "code",
   "execution_count": 13,
   "id": "e5abae8e",
   "metadata": {},
   "outputs": [
    {
     "data": {
      "image/png": "[encoded data removed]",
      "text/plain": [
       "<Figure size 640x480 with 1 Axes>"
      ]
     },
     "metadata": {},
     "output_type": "display_data"
    }
   ],
   "source": [
    "plot_timeseries(filtered_catalog, stations=['4', '5', '5.5', '6', '6.5'], time_bin='ME')"
   ]
  },
  {
   "cell_type": "code",
   "execution_count": 14,
   "id": "8198b18b",
   "metadata": {},
   "outputs": [
    {
     "data": {
      "image/png": "[encoded data removed]",
      "text/plain": [
       "<Figure size 640x480 with 1 Axes>"
      ]
     },
     "metadata": {},
     "output_type": "display_data"
    }
   ],
   "source": [
    "plot_timeseries(filtered_catalog, stations='6', time_bin='ME')"
   ]
  },
  {
   "cell_type": "code",
   "execution_count": 24,
   "id": "1f120be5-f1d6-4280-a761-02f70db0d4ea",
   "metadata": {},
   "outputs": [],
   "source": [
    "my_catalog.to_yaml_file('my_catalog.yaml')"
   ]
  }
 ],
 "metadata": {
  "kernelspec": {
   "display_name": "fresca",
   "language": "python",
   "name": "python3"
  },
  "language_info": {
   "codemirror_mode": {
    "name": "ipython",
    "version": 3
   },
   "file_extension": ".py",
   "mimetype": "text/x-python",
   "name": "python",
   "nbconvert_exporter": "python",
   "pygments_lexer": "ipython3",
   "version": "3.10.13"
  }
 },
 "nbformat": 4,
 "nbformat_minor": 5
}
