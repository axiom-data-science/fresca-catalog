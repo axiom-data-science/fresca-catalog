{
 "cells": [
  {
   "cell_type": "markdown",
   "id": "c378513d",
   "metadata": {},
   "source": [
    "# Catalog exploration example"
   ]
  },
  {
   "cell_type": "code",
   "execution_count": 1,
   "id": "43df3c34-5622-4267-9cb7-e124903f812a",
   "metadata": {},
   "outputs": [],
   "source": [
    "import intake\n",
    "from fresca_catalog import search_catalog_variables, filter_catalog, map_datasets"
   ]
  },
  {
   "cell_type": "code",
   "execution_count": 2,
   "id": "0b3490a9-28cb-40d2-bf60-0ecf537d51f7",
   "metadata": {},
   "outputs": [
    {
     "data": {
      "text/plain": [
       "Catalog\n",
       " named datasets: ['all_ctd', 'sfer']\n",
       "  parameters: ['CATALOG_DIR', 'CATALOG_PATH', 'STORAGE_OPTIONS']"
      ]
     },
     "execution_count": 2,
     "metadata": {},
     "output_type": "execute_result"
    }
   ],
   "source": [
    "catalog = intake.open_catalog('full_catalog.yml')\n",
    "catalog"
   ]
  },
  {
   "cell_type": "code",
   "execution_count": 3,
   "id": "50416c7a",
   "metadata": {},
   "outputs": [
    {
     "name": "stdout",
     "output_type": "stream",
     "text": [
      "Help on function search_catalog_variables in module fresca_catalog:\n",
      "\n",
      "search_catalog_variables(catalog, query=None, case_insensitive=True, fuzzy=False) -> List[str]\n",
      "    Searches the catalog for variables.\n",
      "    \n",
      "    Parameters\n",
      "    ----------\n",
      "    catalog : Catalog\n",
      "        The catalog to search.\n",
      "    query : str, optional\n",
      "        The query to search for. If not provided, all variables are returned.\n",
      "    case_insensitive : bool, optional\n",
      "        Whether to perform a case-insensitive search. Default is True.\n",
      "    fuzzy : bool, optional\n",
      "        Whether to perform a fuzzy search. Default is False.\n",
      "    \n",
      "    Returns\n",
      "    -------\n",
      "    list\n",
      "        A list of matching variables.\n",
      "\n"
     ]
    }
   ],
   "source": [
    "help(search_catalog_variables)"
   ]
  },
  {
   "cell_type": "code",
   "execution_count": 4,
   "id": "72aea6db",
   "metadata": {},
   "outputs": [
    {
     "data": {
      "text/plain": [
       "['sal', 'salinity']"
      ]
     },
     "execution_count": 4,
     "metadata": {},
     "output_type": "execute_result"
    }
   ],
   "source": [
    "search_catalog_variables(catalog, 'sal')"
   ]
  },
  {
   "cell_type": "code",
   "execution_count": 5,
   "id": "eb04d0e5",
   "metadata": {},
   "outputs": [
    {
     "data": {
      "text/plain": [
       "['temp', 'temperature']"
      ]
     },
     "execution_count": 5,
     "metadata": {},
     "output_type": "execute_result"
    }
   ],
   "source": [
    "search_catalog_variables(catalog, 'temp')"
   ]
  },
  {
   "cell_type": "code",
   "execution_count": 6,
   "id": "41d349ba",
   "metadata": {},
   "outputs": [
    {
     "name": "stdout",
     "output_type": "stream",
     "text": [
      "Help on function filter_catalog in module fresca_catalog:\n",
      "\n",
      "filter_catalog(catalog: intake.readers.entry.Catalog, entry_names: List[str] = None, variables: List[str] = None, time_range: Tuple[str, str] = None, bbox: Tuple[float, float, float, float] = None) -> intake.readers.entry.Catalog\n",
      "    Filters a catalog based on the provided criteria.\n",
      "    \n",
      "    Parameters\n",
      "    ----------\n",
      "    catalog : Catalog\n",
      "        The catalog to filter.\n",
      "    entries : list, optional\n",
      "        The entries to be used for filtering.\n",
      "    variables : list, optional\n",
      "        The variables to be used for filtering.\n",
      "    time_range : list, optional\n",
      "        The time range to be used for filtering, formatted as [min_time, max_time].\n",
      "    bbox : list, optional\n",
      "        The bounding box to be used for filtering, formatted as [min_lon, min_lat, max_lon, max_lat].\n",
      "    \n",
      "    Returns\n",
      "    -------\n",
      "    Catalog\n",
      "        The filtered catalog.\n",
      "\n"
     ]
    }
   ],
   "source": [
    "help(filter_catalog)"
   ]
  },
  {
   "cell_type": "code",
   "execution_count": 7,
   "id": "a2386dfa-a4b9-46f0-84de-cd146df3214a",
   "metadata": {},
   "outputs": [
    {
     "data": {
      "text/plain": [
       "Catalog\n",
       " named datasets: ['all_ctd', 'sfer']"
      ]
     },
     "execution_count": 7,
     "metadata": {},
     "output_type": "execute_result"
    }
   ],
   "source": [
    "my_catalog = filter_catalog(catalog, variables=['temp', 'temperature'])\n",
    "my_catalog"
   ]
  },
  {
   "cell_type": "code",
   "execution_count": null,
   "id": "4d201fc5",
   "metadata": {},
   "outputs": [],
   "source": [
    "map_datasets(my_catalog, variables=['temp', 'temperature'], log=True, hex=True)"
   ]
  },
  {
   "cell_type": "code",
   "execution_count": 9,
   "id": "549f1c98-9978-4f5a-bc35-8e04869d2456",
   "metadata": {},
   "outputs": [
    {
     "data": {
      "text/plain": [
       "Catalog\n",
       " named datasets: ['SFER_data']"
      ]
     },
     "execution_count": 9,
     "metadata": {},
     "output_type": "execute_result"
    }
   ],
   "source": [
    "my_catalog = filter_catalog(\n",
    "    catalog,\n",
    "    variables=['temp', 'Temperature_C'],\n",
    "    time_range=('2023-12-01T13:23:00Z', '2024-11-17T23:54:00Z'),\n",
    "    bbox=(70.0, 20.0, 90.0, 40.0)\n",
    ")\n",
    "my_catalog"
   ]
  },
  {
   "cell_type": "code",
   "execution_count": 10,
   "id": "131cbec9-20ce-4a8e-83fa-2bed309347d7",
   "metadata": {},
   "outputs": [
    {
     "data": {
      "text/plain": [
       "{'lat_col': 'lat_dec',\n",
       " 'lon_col': 'lon_dec',\n",
       " 'maxLatitude': 28.7841,\n",
       " 'maxLongitude': 85.0221,\n",
       " 'maxTime': '2024-11-17T23:54:00Z',\n",
       " 'minLatitude': 24.3952,\n",
       " 'minLongitude': 80.0442,\n",
       " 'minTime': '2014-12-01T13:23:00Z',\n",
       " 'time_col': 'datetime',\n",
       " 'variables': ['keyfield',\n",
       "  'cruise_id',\n",
       "  'year',\n",
       "  'month',\n",
       "  'day',\n",
       "  'time',\n",
       "  'datetime',\n",
       "  'lat_deg',\n",
       "  'lat_min',\n",
       "  'lat_dec',\n",
       "  'lon_deg',\n",
       "  'lon_min',\n",
       "  'lon_dec',\n",
       "  'station',\n",
       "  'station_type',\n",
       "  'depth',\n",
       "  'depth_class',\n",
       "  'depth_order',\n",
       "  'cast',\n",
       "  'nisk_start',\n",
       "  'nisk_end',\n",
       "  'net_tow_500',\n",
       "  'net_tow_200',\n",
       "  'net_tow_64',\n",
       "  'plank_image',\n",
       "  'insitu_rrs',\n",
       "  'temp',\n",
       "  'sal',\n",
       "  'o2_ctd',\n",
       "  'o2_disc',\n",
       "  'nh4',\n",
       "  'no2',\n",
       "  'no3',\n",
       "  'no3_no2',\n",
       "  'po4',\n",
       "  'si',\n",
       "  'avg_chl_a',\n",
       "  'avg_phaeo',\n",
       "  'notes']}"
      ]
     },
     "execution_count": 10,
     "metadata": {},
     "output_type": "execute_result"
    }
   ],
   "source": [
    "my_catalog['SFER_data'].metadata"
   ]
  },
  {
   "cell_type": "code",
   "execution_count": 11,
   "id": "c0dc1c22-ac61-44f0-abaf-0b11412b5d9c",
   "metadata": {},
   "outputs": [
    {
     "data": {
      "text/html": [
       "<div>\n",
       "<style scoped>\n",
       "    .dataframe tbody tr th:only-of-type {\n",
       "        vertical-align: middle;\n",
       "    }\n",
       "\n",
       "    .dataframe tbody tr th {\n",
       "        vertical-align: top;\n",
       "    }\n",
       "\n",
       "    .dataframe thead th {\n",
       "        text-align: right;\n",
       "    }\n",
       "</style>\n",
       "<table border=\"1\" class=\"dataframe\">\n",
       "  <thead>\n",
       "    <tr style=\"text-align: right;\">\n",
       "      <th></th>\n",
       "      <th>keyfield</th>\n",
       "      <th>cruise_id</th>\n",
       "      <th>year</th>\n",
       "      <th>month</th>\n",
       "      <th>day</th>\n",
       "      <th>time</th>\n",
       "      <th>datetime</th>\n",
       "      <th>lat_deg</th>\n",
       "      <th>lat_min</th>\n",
       "      <th>lat_dec</th>\n",
       "      <th>...</th>\n",
       "      <th>o2_disc</th>\n",
       "      <th>nh4</th>\n",
       "      <th>no2</th>\n",
       "      <th>no3</th>\n",
       "      <th>no3_no2</th>\n",
       "      <th>po4</th>\n",
       "      <th>si</th>\n",
       "      <th>avg_chl_a</th>\n",
       "      <th>avg_phaeo</th>\n",
       "      <th>notes</th>\n",
       "    </tr>\n",
       "  </thead>\n",
       "  <tbody>\n",
       "    <tr>\n",
       "      <th>0</th>\n",
       "      <td>20140112_1323_WS14335_1_0_Surf</td>\n",
       "      <td>WS14335</td>\n",
       "      <td>2014.0</td>\n",
       "      <td>12</td>\n",
       "      <td>1.0</td>\n",
       "      <td>13:23</td>\n",
       "      <td>2014-12-01 13:23:00</td>\n",
       "      <td>25.0</td>\n",
       "      <td>38.6984</td>\n",
       "      <td>25.6450</td>\n",
       "      <td>...</td>\n",
       "      <td>NaN</td>\n",
       "      <td>1.51</td>\n",
       "      <td>0.04</td>\n",
       "      <td>0.19</td>\n",
       "      <td>0.23</td>\n",
       "      <td>0.26</td>\n",
       "      <td>0.1</td>\n",
       "      <td>1.08</td>\n",
       "      <td>0.79</td>\n",
       "      <td>NaN</td>\n",
       "    </tr>\n",
       "    <tr>\n",
       "      <th>1</th>\n",
       "      <td>20140112_1332_WS14335_2_0_Surf</td>\n",
       "      <td>WS14335</td>\n",
       "      <td>2014.0</td>\n",
       "      <td>12</td>\n",
       "      <td>1.0</td>\n",
       "      <td>13:32</td>\n",
       "      <td>2014-12-01 13:32:00</td>\n",
       "      <td>25.0</td>\n",
       "      <td>38.4917</td>\n",
       "      <td>25.6415</td>\n",
       "      <td>...</td>\n",
       "      <td>NaN</td>\n",
       "      <td>3.32</td>\n",
       "      <td>0.06</td>\n",
       "      <td>0.16</td>\n",
       "      <td>0.21</td>\n",
       "      <td>0.32</td>\n",
       "      <td>0.1</td>\n",
       "      <td>1.09</td>\n",
       "      <td>0.24</td>\n",
       "      <td>NaN</td>\n",
       "    </tr>\n",
       "    <tr>\n",
       "      <th>2</th>\n",
       "      <td>20140112_1353_WS14335_3_0_Surf</td>\n",
       "      <td>WS14335</td>\n",
       "      <td>2014.0</td>\n",
       "      <td>12</td>\n",
       "      <td>1.0</td>\n",
       "      <td>13:53</td>\n",
       "      <td>2014-12-01 13:53:00</td>\n",
       "      <td>25.0</td>\n",
       "      <td>38.7510</td>\n",
       "      <td>25.6458</td>\n",
       "      <td>...</td>\n",
       "      <td>NaN</td>\n",
       "      <td>1.03</td>\n",
       "      <td>0.07</td>\n",
       "      <td>0.07</td>\n",
       "      <td>0.15</td>\n",
       "      <td>0.31</td>\n",
       "      <td>0.3</td>\n",
       "      <td>0.68</td>\n",
       "      <td>0.14</td>\n",
       "      <td>NaN</td>\n",
       "    </tr>\n",
       "    <tr>\n",
       "      <th>3</th>\n",
       "      <td>20140112_1710_WS14335_EKIN_0_Surf</td>\n",
       "      <td>WS14335</td>\n",
       "      <td>2014.0</td>\n",
       "      <td>12</td>\n",
       "      <td>1.0</td>\n",
       "      <td>17:10</td>\n",
       "      <td>2014-12-01 17:10:00</td>\n",
       "      <td>25.0</td>\n",
       "      <td>20.0186</td>\n",
       "      <td>25.3336</td>\n",
       "      <td>...</td>\n",
       "      <td>NaN</td>\n",
       "      <td>2.69</td>\n",
       "      <td>0.11</td>\n",
       "      <td>0.20</td>\n",
       "      <td>0.31</td>\n",
       "      <td>0.39</td>\n",
       "      <td>0.5</td>\n",
       "      <td>0.82</td>\n",
       "      <td>0.30</td>\n",
       "      <td>NaN</td>\n",
       "    </tr>\n",
       "    <tr>\n",
       "      <th>4</th>\n",
       "      <td>20140112_1721_WS14335_EKMID_0_Surf</td>\n",
       "      <td>WS14335</td>\n",
       "      <td>2014.0</td>\n",
       "      <td>12</td>\n",
       "      <td>1.0</td>\n",
       "      <td>17:21</td>\n",
       "      <td>2014-12-01 17:21:00</td>\n",
       "      <td>25.0</td>\n",
       "      <td>18.9835</td>\n",
       "      <td>25.3164</td>\n",
       "      <td>...</td>\n",
       "      <td>NaN</td>\n",
       "      <td>1.13</td>\n",
       "      <td>0.07</td>\n",
       "      <td>0.07</td>\n",
       "      <td>0.14</td>\n",
       "      <td>0.27</td>\n",
       "      <td>0.1</td>\n",
       "      <td>2.16</td>\n",
       "      <td>0.21</td>\n",
       "      <td>NaN</td>\n",
       "    </tr>\n",
       "  </tbody>\n",
       "</table>\n",
       "<p>5 rows × 39 columns</p>\n",
       "</div>"
      ],
      "text/plain": [
       "                             keyfield cruise_id    year  month  day   time  \\\n",
       "0      20140112_1323_WS14335_1_0_Surf   WS14335  2014.0     12  1.0  13:23   \n",
       "1      20140112_1332_WS14335_2_0_Surf   WS14335  2014.0     12  1.0  13:32   \n",
       "2      20140112_1353_WS14335_3_0_Surf   WS14335  2014.0     12  1.0  13:53   \n",
       "3   20140112_1710_WS14335_EKIN_0_Surf   WS14335  2014.0     12  1.0  17:10   \n",
       "4  20140112_1721_WS14335_EKMID_0_Surf   WS14335  2014.0     12  1.0  17:21   \n",
       "\n",
       "              datetime  lat_deg  lat_min  lat_dec  ...  o2_disc   nh4   no2  \\\n",
       "0  2014-12-01 13:23:00     25.0  38.6984  25.6450  ...      NaN  1.51  0.04   \n",
       "1  2014-12-01 13:32:00     25.0  38.4917  25.6415  ...      NaN  3.32  0.06   \n",
       "2  2014-12-01 13:53:00     25.0  38.7510  25.6458  ...      NaN  1.03  0.07   \n",
       "3  2014-12-01 17:10:00     25.0  20.0186  25.3336  ...      NaN  2.69  0.11   \n",
       "4  2014-12-01 17:21:00     25.0  18.9835  25.3164  ...      NaN  1.13  0.07   \n",
       "\n",
       "    no3 no3_no2   po4   si avg_chl_a  avg_phaeo  notes  \n",
       "0  0.19    0.23  0.26  0.1      1.08       0.79    NaN  \n",
       "1  0.16    0.21  0.32  0.1      1.09       0.24    NaN  \n",
       "2  0.07    0.15  0.31  0.3      0.68       0.14    NaN  \n",
       "3  0.20    0.31  0.39  0.5      0.82       0.30    NaN  \n",
       "4  0.07    0.14  0.27  0.1      2.16       0.21    NaN  \n",
       "\n",
       "[5 rows x 39 columns]"
      ]
     },
     "execution_count": 11,
     "metadata": {},
     "output_type": "execute_result"
    }
   ],
   "source": [
    "df = my_catalog['SFER_data'].read()\n",
    "df.head()"
   ]
  },
  {
   "cell_type": "code",
   "execution_count": 12,
   "id": "4b1d34d5",
   "metadata": {},
   "outputs": [],
   "source": [
    "df.to_csv('my_data.csv', index=False)"
   ]
  },
  {
   "cell_type": "code",
   "execution_count": 13,
   "id": "1f120be5-f1d6-4280-a761-02f70db0d4ea",
   "metadata": {},
   "outputs": [],
   "source": [
    "my_catalog.to_yaml_file('my_catalog.yaml')"
   ]
  }
 ],
 "metadata": {
  "kernelspec": {
   "display_name": "fresca",
   "language": "python",
   "name": "python3"
  },
  "language_info": {
   "codemirror_mode": {
    "name": "ipython",
    "version": 3
   },
   "file_extension": ".py",
   "mimetype": "text/x-python",
   "name": "python",
   "nbconvert_exporter": "python",
   "pygments_lexer": "ipython3",
   "version": "3.10.13"
  }
 },
 "nbformat": 4,
 "nbformat_minor": 5
}
